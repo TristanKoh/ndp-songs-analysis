{
 "metadata": {
  "language_info": {
   "codemirror_mode": {
    "name": "ipython",
    "version": 3
   },
   "file_extension": ".py",
   "mimetype": "text/x-python",
   "name": "python",
   "nbconvert_exporter": "python",
   "pygments_lexer": "ipython3",
   "version": "3.7.5"
  },
  "orig_nbformat": 4,
  "kernelspec": {
   "name": "python3",
   "display_name": "Python 3.7.5  ('ndp_songs': venv)"
  },
  "interpreter": {
   "hash": "40ce54a9e24bb1b78e1a3875004ae146443b1bda17ef2f2c7b45cba367dd4986"
  }
 },
 "nbformat": 4,
 "nbformat_minor": 2,
 "cells": [
  {
   "cell_type": "code",
   "execution_count": 2,
   "metadata": {},
   "outputs": [],
   "source": [
    "import pandas as pd\n",
    "import sklearn\n",
    "import seaborn as sns\n",
    "PATH = \"data\\\\lyrics.csv\""
   ]
  },
  {
   "cell_type": "code",
   "execution_count": 3,
   "metadata": {},
   "outputs": [],
   "source": [
    "df_lyrics = pd.read_csv(PATH, encoding='utf-8')"
   ]
  },
  {
   "cell_type": "code",
   "execution_count": 4,
   "metadata": {},
   "outputs": [
    {
     "output_type": "execute_result",
     "data": {
      "text/plain": [
       "   year                    name  \\\n",
       "0  1985  Stand Up For Singapore   \n",
       "1  1986   Count On Me Singapore   \n",
       "2  1987        We Are Singapore   \n",
       "3  1989      Five Stars Arising   \n",
       "4  1991  It’s the Little Things   \n",
       "\n",
       "                                              lyrics  \n",
       "0  Stand up for Singapore, do the best you can\\nR...  \n",
       "1  We have a vision for tomorrow, just believe, j...  \n",
       "2  There was a time when people said\\nThat Singap...  \n",
       "3  There's a new moon arising, out of the stormy ...  \n",
       "4  Over the years, I've grown to be a part of you...  "
      ],
      "text/html": "<div>\n<style scoped>\n    .dataframe tbody tr th:only-of-type {\n        vertical-align: middle;\n    }\n\n    .dataframe tbody tr th {\n        vertical-align: top;\n    }\n\n    .dataframe thead th {\n        text-align: right;\n    }\n</style>\n<table border=\"1\" class=\"dataframe\">\n  <thead>\n    <tr style=\"text-align: right;\">\n      <th></th>\n      <th>year</th>\n      <th>name</th>\n      <th>lyrics</th>\n    </tr>\n  </thead>\n  <tbody>\n    <tr>\n      <th>0</th>\n      <td>1985</td>\n      <td>Stand Up For Singapore</td>\n      <td>Stand up for Singapore, do the best you can\\nR...</td>\n    </tr>\n    <tr>\n      <th>1</th>\n      <td>1986</td>\n      <td>Count On Me Singapore</td>\n      <td>We have a vision for tomorrow, just believe, j...</td>\n    </tr>\n    <tr>\n      <th>2</th>\n      <td>1987</td>\n      <td>We Are Singapore</td>\n      <td>There was a time when people said\\nThat Singap...</td>\n    </tr>\n    <tr>\n      <th>3</th>\n      <td>1989</td>\n      <td>Five Stars Arising</td>\n      <td>There's a new moon arising, out of the stormy ...</td>\n    </tr>\n    <tr>\n      <th>4</th>\n      <td>1991</td>\n      <td>It’s the Little Things</td>\n      <td>Over the years, I've grown to be a part of you...</td>\n    </tr>\n  </tbody>\n</table>\n</div>"
     },
     "metadata": {},
     "execution_count": 4
    }
   ],
   "source": [
    "df_lyrics.head()"
   ]
  },
  {
   "source": [
    "## Data Cleaning"
   ],
   "cell_type": "markdown",
   "metadata": {}
  },
  {
   "cell_type": "code",
   "execution_count": 5,
   "metadata": {},
   "outputs": [
    {
     "output_type": "execute_result",
     "data": {
      "text/plain": [
       "year       int64\n",
       "name      object\n",
       "lyrics    object\n",
       "dtype: object"
      ]
     },
     "metadata": {},
     "execution_count": 5
    }
   ],
   "source": [
    "df_lyrics.dtypes"
   ]
  },
  {
   "cell_type": "code",
   "execution_count": 6,
   "metadata": {},
   "outputs": [],
   "source": [
    "df_lyrics[\"lyrics\"] = df_lyrics[\"lyrics\"].apply(lambda s : s.replace(\"\\n\", \" \"))"
   ]
  },
  {
   "cell_type": "code",
   "execution_count": 7,
   "metadata": {},
   "outputs": [
    {
     "output_type": "execute_result",
     "data": {
      "text/plain": [
       "   year                    name  \\\n",
       "0  1985  Stand Up For Singapore   \n",
       "1  1986   Count On Me Singapore   \n",
       "2  1987        We Are Singapore   \n",
       "3  1989      Five Stars Arising   \n",
       "4  1991  It’s the Little Things   \n",
       "\n",
       "                                              lyrics  \n",
       "0  Stand up for Singapore, do the best you can Re...  \n",
       "1  We have a vision for tomorrow, just believe, j...  \n",
       "2  There was a time when people said That Singapo...  \n",
       "3  There's a new moon arising, out of the stormy ...  \n",
       "4  Over the years, I've grown to be a part of you...  "
      ],
      "text/html": "<div>\n<style scoped>\n    .dataframe tbody tr th:only-of-type {\n        vertical-align: middle;\n    }\n\n    .dataframe tbody tr th {\n        vertical-align: top;\n    }\n\n    .dataframe thead th {\n        text-align: right;\n    }\n</style>\n<table border=\"1\" class=\"dataframe\">\n  <thead>\n    <tr style=\"text-align: right;\">\n      <th></th>\n      <th>year</th>\n      <th>name</th>\n      <th>lyrics</th>\n    </tr>\n  </thead>\n  <tbody>\n    <tr>\n      <th>0</th>\n      <td>1985</td>\n      <td>Stand Up For Singapore</td>\n      <td>Stand up for Singapore, do the best you can Re...</td>\n    </tr>\n    <tr>\n      <th>1</th>\n      <td>1986</td>\n      <td>Count On Me Singapore</td>\n      <td>We have a vision for tomorrow, just believe, j...</td>\n    </tr>\n    <tr>\n      <th>2</th>\n      <td>1987</td>\n      <td>We Are Singapore</td>\n      <td>There was a time when people said That Singapo...</td>\n    </tr>\n    <tr>\n      <th>3</th>\n      <td>1989</td>\n      <td>Five Stars Arising</td>\n      <td>There's a new moon arising, out of the stormy ...</td>\n    </tr>\n    <tr>\n      <th>4</th>\n      <td>1991</td>\n      <td>It’s the Little Things</td>\n      <td>Over the years, I've grown to be a part of you...</td>\n    </tr>\n  </tbody>\n</table>\n</div>"
     },
     "metadata": {},
     "execution_count": 7
    }
   ],
   "source": [
    "df_lyrics.head()"
   ]
  },
  {
   "cell_type": "code",
   "execution_count": 8,
   "metadata": {},
   "outputs": [],
   "source": [
    "# Find total number of words for each song\n",
    "import re\n",
    "df_lyrics[\"num_words\"] = df_lyrics[\"lyrics\"].apply(lambda s : len(re.findall(r'\\w+', s)))"
   ]
  },
  {
   "cell_type": "code",
   "execution_count": 9,
   "metadata": {},
   "outputs": [],
   "source": [
    "# Find average char length for each word per song\n",
    "def avg_word_length(s) :\n",
    "    num_words = len(re.findall(r'\\w+', s))\n",
    "    list_of_words = s.split()\n",
    "    total_num_char = sum(len(i) for i in list_of_words)\n",
    "    return(total_num_char / num_words)\n",
    "\n",
    "df_lyrics[\"avg_word_len\"] = df_lyrics[\"lyrics\"].apply(lambda s : avg_word_length(s))"
   ]
  },
  {
   "cell_type": "code",
   "execution_count": 10,
   "metadata": {},
   "outputs": [
    {
     "output_type": "execute_result",
     "data": {
      "text/plain": [
       "0     4.158333\n",
       "1     3.809249\n",
       "2     4.468208\n",
       "3     3.992593\n",
       "4     3.682759\n",
       "5     3.980645\n",
       "6     3.809249\n",
       "7     4.444444\n",
       "8     3.822917\n",
       "9     4.458015\n",
       "10    4.458015\n",
       "11    3.952381\n",
       "12    3.711382\n",
       "13    4.676829\n",
       "14    3.822917\n",
       "15    3.673077\n",
       "16    3.396396\n",
       "17    3.480392\n",
       "18    4.165877\n",
       "19    4.030172\n",
       "20    3.842857\n",
       "21    4.000000\n",
       "22    3.810256\n",
       "23    4.010989\n",
       "24    3.652015\n",
       "25    3.678445\n",
       "26    3.897872\n",
       "27    4.283333\n",
       "28    4.257840\n",
       "29    3.675063\n",
       "30    3.662447\n",
       "Name: avg_word_len, dtype: float64"
      ]
     },
     "metadata": {},
     "execution_count": 10
    }
   ],
   "source": [
    "df_lyrics[\"avg_word_len\"]"
   ]
  },
  {
   "cell_type": "code",
   "execution_count": 11,
   "metadata": {},
   "outputs": [],
   "source": [
    "# Combining year with name of song\n",
    "df_lyrics[\"combined_name\"] = df_lyrics[\"year\"].astype(str).str.cat(df_lyrics[\"name\"], sep = \", \")"
   ]
  },
  {
   "cell_type": "code",
   "execution_count": 12,
   "metadata": {},
   "outputs": [
    {
     "output_type": "execute_result",
     "data": {
      "text/plain": [
       "0             1985, Stand Up For Singapore\n",
       "1              1986, Count On Me Singapore\n",
       "2                   1987, We Are Singapore\n",
       "3                 1989, Five Stars Arising\n",
       "4             1991, It’s the Little Things\n",
       "5                  1995, My People My Home\n",
       "6              1996, Count On Me Singapore\n",
       "7                     1997, Singapore Town\n",
       "8                               1998, Home\n",
       "9                           1999, Together\n",
       "10                       2000, Shine On Me\n",
       "11                    2001, Where I Belong\n",
       "12                 2002, We Will Get There\n",
       "13                 2003, One United People\n",
       "14                     2004, Home (Choral)\n",
       "15           2005, Reach Out For The Skies\n",
       "16                    2006, My Island Home\n",
       "17    2007, There's No Place I'd Rather Be\n",
       "18                          2007, Will You\n",
       "19               2008, Shine For Singapore\n",
       "20                   2009, What Do You See\n",
       "21                2010, Song For Singapore\n",
       "22                    2011, In A Heartbeat\n",
       "23               2012, Love At First Light\n",
       "24                     2013, One Singapore\n",
       "25                     2015, Our Singapore\n",
       "26             2016, Tomorrow's Here Today\n",
       "27            2017, Because It’s Singapore\n",
       "28          2018, We Are Singapore (remix)\n",
       "29             2019, Our Singapore (remix)\n",
       "30                   2020, Everything I Am\n",
       "Name: combined_name, dtype: object"
      ]
     },
     "metadata": {},
     "execution_count": 12
    }
   ],
   "source": [
    "df_lyrics[\"combined_name\"]"
   ]
  },
  {
   "cell_type": "code",
   "execution_count": 13,
   "metadata": {},
   "outputs": [],
   "source": [
    "# Convert date to datetime object\n",
    "df_lyrics[\"year\"] = pd.to_datetime(df_lyrics[\"year\"], format = \"%Y\")"
   ]
  },
  {
   "source": [
    "## Preliminary EDA"
   ],
   "cell_type": "markdown",
   "metadata": {}
  },
  {
   "cell_type": "code",
   "execution_count": 14,
   "metadata": {},
   "outputs": [
    {
     "output_type": "execute_result",
     "data": {
      "text/plain": [
       "         year                            name  \\\n",
       "29 2019-01-01           Our Singapore (remix)   \n",
       "28 2018-01-01        We Are Singapore (remix)   \n",
       "25 2015-01-01                   Our Singapore   \n",
       "20 2009-01-01                 What Do You See   \n",
       "24 2013-01-01                   One Singapore   \n",
       "12 2002-01-01               We Will Get There   \n",
       "27 2017-01-01          Because It’s Singapore   \n",
       "21 2010-01-01              Song For Singapore   \n",
       "30 2020-01-01                 Everything I Am   \n",
       "26 2016-01-01           Tomorrow's Here Today   \n",
       "19 2008-01-01             Shine For Singapore   \n",
       "18 2007-01-01                        Will You   \n",
       "15 2005-01-01         Reach Out For The Skies   \n",
       "17 2007-01-01  There's No Place I'd Rather Be   \n",
       "22 2011-01-01                  In A Heartbeat   \n",
       "23 2012-01-01             Love At First Light   \n",
       "1  1986-01-01           Count On Me Singapore   \n",
       "2  1987-01-01                We Are Singapore   \n",
       "6  1996-01-01           Count On Me Singapore   \n",
       "11 2001-01-01                  Where I Belong   \n",
       "13 2003-01-01               One United People   \n",
       "5  1995-01-01               My People My Home   \n",
       "4  1991-01-01          It’s the Little Things   \n",
       "3  1989-01-01              Five Stars Arising   \n",
       "9  1999-01-01                        Together   \n",
       "10 2000-01-01                     Shine On Me   \n",
       "0  1985-01-01          Stand Up For Singapore   \n",
       "16 2006-01-01                  My Island Home   \n",
       "7  1997-01-01                  Singapore Town   \n",
       "8  1998-01-01                            Home   \n",
       "14 2004-01-01                   Home (Choral)   \n",
       "\n",
       "                                               lyrics  num_words  \\\n",
       "29  Remember the days, We set out together with fa...        397   \n",
       "28  How many times have you heard them say “The fu...        287   \n",
       "25  It isn't easy building something out of nothin...        283   \n",
       "20  There’s a jewel on the ocean, a gem upon the s...        280   \n",
       "24  I will be here Right by your side, here I will...        273   \n",
       "12  Remember the days, we set out together with fa...        246   \n",
       "27  Step by step Together we'll build our dreams H...        240   \n",
       "21  It's a brand new day a brand new story I remem...        238   \n",
       "30  I want you to understand Because of you, I am ...        237   \n",
       "26  Raise your head to the skies This is how we al...        235   \n",
       "19  Have you seen a star, One that guides you no m...        232   \n",
       "18  Will you make this island Amazing in all ways?...        211   \n",
       "15  At a time when hope was low The journey seems ...        208   \n",
       "17  I’ve walked the streets of Cairo & Bombay I’ve...        204   \n",
       "22  I have a dream of starting a life I have a hop...        195   \n",
       "23  First light Rolls across my peaceful isle Morn...        182   \n",
       "1   We have a vision for tomorrow, just believe, j...        173   \n",
       "2   There was a time when people said That Singapo...        173   \n",
       "6   We have a vision for tomorrow, just believe, j...        173   \n",
       "11  Morning comes around and I Can't wait to see m...        168   \n",
       "13  One Singapore One people strong & free With on...        164   \n",
       "5   Who are you, my country? More than celebration...        155   \n",
       "4   Over the years, I've grown to be a part of you...        145   \n",
       "3   There's a new moon arising, out of the stormy ...        135   \n",
       "9   Let us be together aspire to achieve No matter...        131   \n",
       "10  Let us be together aspire to achieve No matter...        131   \n",
       "0   Stand up for Singapore, do the best you can Re...        120   \n",
       "16  This is my home She’s everything to me Grace a...        111   \n",
       "7   You could take a little trip around Singapore ...         99   \n",
       "8   Whenever I am feeling low I look around me and...         96   \n",
       "14  Whenever I am feeling low I look around me and...         96   \n",
       "\n",
       "    avg_word_len                         combined_name  \n",
       "29      3.675063           2019, Our Singapore (remix)  \n",
       "28      4.257840        2018, We Are Singapore (remix)  \n",
       "25      3.678445                   2015, Our Singapore  \n",
       "20      3.842857                 2009, What Do You See  \n",
       "24      3.652015                   2013, One Singapore  \n",
       "12      3.711382               2002, We Will Get There  \n",
       "27      4.283333          2017, Because It’s Singapore  \n",
       "21      4.000000              2010, Song For Singapore  \n",
       "30      3.662447                 2020, Everything I Am  \n",
       "26      3.897872           2016, Tomorrow's Here Today  \n",
       "19      4.030172             2008, Shine For Singapore  \n",
       "18      4.165877                        2007, Will You  \n",
       "15      3.673077         2005, Reach Out For The Skies  \n",
       "17      3.480392  2007, There's No Place I'd Rather Be  \n",
       "22      3.810256                  2011, In A Heartbeat  \n",
       "23      4.010989             2012, Love At First Light  \n",
       "1       3.809249           1986, Count On Me Singapore  \n",
       "2       4.468208                1987, We Are Singapore  \n",
       "6       3.809249           1996, Count On Me Singapore  \n",
       "11      3.952381                  2001, Where I Belong  \n",
       "13      4.676829               2003, One United People  \n",
       "5       3.980645               1995, My People My Home  \n",
       "4       3.682759          1991, It’s the Little Things  \n",
       "3       3.992593              1989, Five Stars Arising  \n",
       "9       4.458015                        1999, Together  \n",
       "10      4.458015                     2000, Shine On Me  \n",
       "0       4.158333          1985, Stand Up For Singapore  \n",
       "16      3.396396                  2006, My Island Home  \n",
       "7       4.444444                  1997, Singapore Town  \n",
       "8       3.822917                            1998, Home  \n",
       "14      3.822917                   2004, Home (Choral)  "
      ],
      "text/html": "<div>\n<style scoped>\n    .dataframe tbody tr th:only-of-type {\n        vertical-align: middle;\n    }\n\n    .dataframe tbody tr th {\n        vertical-align: top;\n    }\n\n    .dataframe thead th {\n        text-align: right;\n    }\n</style>\n<table border=\"1\" class=\"dataframe\">\n  <thead>\n    <tr style=\"text-align: right;\">\n      <th></th>\n      <th>year</th>\n      <th>name</th>\n      <th>lyrics</th>\n      <th>num_words</th>\n      <th>avg_word_len</th>\n      <th>combined_name</th>\n    </tr>\n  </thead>\n  <tbody>\n    <tr>\n      <th>29</th>\n      <td>2019-01-01</td>\n      <td>Our Singapore (remix)</td>\n      <td>Remember the days, We set out together with fa...</td>\n      <td>397</td>\n      <td>3.675063</td>\n      <td>2019, Our Singapore (remix)</td>\n    </tr>\n    <tr>\n      <th>28</th>\n      <td>2018-01-01</td>\n      <td>We Are Singapore (remix)</td>\n      <td>How many times have you heard them say “The fu...</td>\n      <td>287</td>\n      <td>4.257840</td>\n      <td>2018, We Are Singapore (remix)</td>\n    </tr>\n    <tr>\n      <th>25</th>\n      <td>2015-01-01</td>\n      <td>Our Singapore</td>\n      <td>It isn't easy building something out of nothin...</td>\n      <td>283</td>\n      <td>3.678445</td>\n      <td>2015, Our Singapore</td>\n    </tr>\n    <tr>\n      <th>20</th>\n      <td>2009-01-01</td>\n      <td>What Do You See</td>\n      <td>There’s a jewel on the ocean, a gem upon the s...</td>\n      <td>280</td>\n      <td>3.842857</td>\n      <td>2009, What Do You See</td>\n    </tr>\n    <tr>\n      <th>24</th>\n      <td>2013-01-01</td>\n      <td>One Singapore</td>\n      <td>I will be here Right by your side, here I will...</td>\n      <td>273</td>\n      <td>3.652015</td>\n      <td>2013, One Singapore</td>\n    </tr>\n    <tr>\n      <th>12</th>\n      <td>2002-01-01</td>\n      <td>We Will Get There</td>\n      <td>Remember the days, we set out together with fa...</td>\n      <td>246</td>\n      <td>3.711382</td>\n      <td>2002, We Will Get There</td>\n    </tr>\n    <tr>\n      <th>27</th>\n      <td>2017-01-01</td>\n      <td>Because It’s Singapore</td>\n      <td>Step by step Together we'll build our dreams H...</td>\n      <td>240</td>\n      <td>4.283333</td>\n      <td>2017, Because It’s Singapore</td>\n    </tr>\n    <tr>\n      <th>21</th>\n      <td>2010-01-01</td>\n      <td>Song For Singapore</td>\n      <td>It's a brand new day a brand new story I remem...</td>\n      <td>238</td>\n      <td>4.000000</td>\n      <td>2010, Song For Singapore</td>\n    </tr>\n    <tr>\n      <th>30</th>\n      <td>2020-01-01</td>\n      <td>Everything I Am</td>\n      <td>I want you to understand Because of you, I am ...</td>\n      <td>237</td>\n      <td>3.662447</td>\n      <td>2020, Everything I Am</td>\n    </tr>\n    <tr>\n      <th>26</th>\n      <td>2016-01-01</td>\n      <td>Tomorrow's Here Today</td>\n      <td>Raise your head to the skies This is how we al...</td>\n      <td>235</td>\n      <td>3.897872</td>\n      <td>2016, Tomorrow's Here Today</td>\n    </tr>\n    <tr>\n      <th>19</th>\n      <td>2008-01-01</td>\n      <td>Shine For Singapore</td>\n      <td>Have you seen a star, One that guides you no m...</td>\n      <td>232</td>\n      <td>4.030172</td>\n      <td>2008, Shine For Singapore</td>\n    </tr>\n    <tr>\n      <th>18</th>\n      <td>2007-01-01</td>\n      <td>Will You</td>\n      <td>Will you make this island Amazing in all ways?...</td>\n      <td>211</td>\n      <td>4.165877</td>\n      <td>2007, Will You</td>\n    </tr>\n    <tr>\n      <th>15</th>\n      <td>2005-01-01</td>\n      <td>Reach Out For The Skies</td>\n      <td>At a time when hope was low The journey seems ...</td>\n      <td>208</td>\n      <td>3.673077</td>\n      <td>2005, Reach Out For The Skies</td>\n    </tr>\n    <tr>\n      <th>17</th>\n      <td>2007-01-01</td>\n      <td>There's No Place I'd Rather Be</td>\n      <td>I’ve walked the streets of Cairo &amp; Bombay I’ve...</td>\n      <td>204</td>\n      <td>3.480392</td>\n      <td>2007, There's No Place I'd Rather Be</td>\n    </tr>\n    <tr>\n      <th>22</th>\n      <td>2011-01-01</td>\n      <td>In A Heartbeat</td>\n      <td>I have a dream of starting a life I have a hop...</td>\n      <td>195</td>\n      <td>3.810256</td>\n      <td>2011, In A Heartbeat</td>\n    </tr>\n    <tr>\n      <th>23</th>\n      <td>2012-01-01</td>\n      <td>Love At First Light</td>\n      <td>First light Rolls across my peaceful isle Morn...</td>\n      <td>182</td>\n      <td>4.010989</td>\n      <td>2012, Love At First Light</td>\n    </tr>\n    <tr>\n      <th>1</th>\n      <td>1986-01-01</td>\n      <td>Count On Me Singapore</td>\n      <td>We have a vision for tomorrow, just believe, j...</td>\n      <td>173</td>\n      <td>3.809249</td>\n      <td>1986, Count On Me Singapore</td>\n    </tr>\n    <tr>\n      <th>2</th>\n      <td>1987-01-01</td>\n      <td>We Are Singapore</td>\n      <td>There was a time when people said That Singapo...</td>\n      <td>173</td>\n      <td>4.468208</td>\n      <td>1987, We Are Singapore</td>\n    </tr>\n    <tr>\n      <th>6</th>\n      <td>1996-01-01</td>\n      <td>Count On Me Singapore</td>\n      <td>We have a vision for tomorrow, just believe, j...</td>\n      <td>173</td>\n      <td>3.809249</td>\n      <td>1996, Count On Me Singapore</td>\n    </tr>\n    <tr>\n      <th>11</th>\n      <td>2001-01-01</td>\n      <td>Where I Belong</td>\n      <td>Morning comes around and I Can't wait to see m...</td>\n      <td>168</td>\n      <td>3.952381</td>\n      <td>2001, Where I Belong</td>\n    </tr>\n    <tr>\n      <th>13</th>\n      <td>2003-01-01</td>\n      <td>One United People</td>\n      <td>One Singapore One people strong &amp; free With on...</td>\n      <td>164</td>\n      <td>4.676829</td>\n      <td>2003, One United People</td>\n    </tr>\n    <tr>\n      <th>5</th>\n      <td>1995-01-01</td>\n      <td>My People My Home</td>\n      <td>Who are you, my country? More than celebration...</td>\n      <td>155</td>\n      <td>3.980645</td>\n      <td>1995, My People My Home</td>\n    </tr>\n    <tr>\n      <th>4</th>\n      <td>1991-01-01</td>\n      <td>It’s the Little Things</td>\n      <td>Over the years, I've grown to be a part of you...</td>\n      <td>145</td>\n      <td>3.682759</td>\n      <td>1991, It’s the Little Things</td>\n    </tr>\n    <tr>\n      <th>3</th>\n      <td>1989-01-01</td>\n      <td>Five Stars Arising</td>\n      <td>There's a new moon arising, out of the stormy ...</td>\n      <td>135</td>\n      <td>3.992593</td>\n      <td>1989, Five Stars Arising</td>\n    </tr>\n    <tr>\n      <th>9</th>\n      <td>1999-01-01</td>\n      <td>Together</td>\n      <td>Let us be together aspire to achieve No matter...</td>\n      <td>131</td>\n      <td>4.458015</td>\n      <td>1999, Together</td>\n    </tr>\n    <tr>\n      <th>10</th>\n      <td>2000-01-01</td>\n      <td>Shine On Me</td>\n      <td>Let us be together aspire to achieve No matter...</td>\n      <td>131</td>\n      <td>4.458015</td>\n      <td>2000, Shine On Me</td>\n    </tr>\n    <tr>\n      <th>0</th>\n      <td>1985-01-01</td>\n      <td>Stand Up For Singapore</td>\n      <td>Stand up for Singapore, do the best you can Re...</td>\n      <td>120</td>\n      <td>4.158333</td>\n      <td>1985, Stand Up For Singapore</td>\n    </tr>\n    <tr>\n      <th>16</th>\n      <td>2006-01-01</td>\n      <td>My Island Home</td>\n      <td>This is my home She’s everything to me Grace a...</td>\n      <td>111</td>\n      <td>3.396396</td>\n      <td>2006, My Island Home</td>\n    </tr>\n    <tr>\n      <th>7</th>\n      <td>1997-01-01</td>\n      <td>Singapore Town</td>\n      <td>You could take a little trip around Singapore ...</td>\n      <td>99</td>\n      <td>4.444444</td>\n      <td>1997, Singapore Town</td>\n    </tr>\n    <tr>\n      <th>8</th>\n      <td>1998-01-01</td>\n      <td>Home</td>\n      <td>Whenever I am feeling low I look around me and...</td>\n      <td>96</td>\n      <td>3.822917</td>\n      <td>1998, Home</td>\n    </tr>\n    <tr>\n      <th>14</th>\n      <td>2004-01-01</td>\n      <td>Home (Choral)</td>\n      <td>Whenever I am feeling low I look around me and...</td>\n      <td>96</td>\n      <td>3.822917</td>\n      <td>2004, Home (Choral)</td>\n    </tr>\n  </tbody>\n</table>\n</div>"
     },
     "metadata": {},
     "execution_count": 14
    }
   ],
   "source": [
    "# Sort by longest songs\n",
    "df_lyrics.sort_values(by = [\"num_words\"], ascending = False)"
   ]
  },
  {
   "cell_type": "code",
   "execution_count": 15,
   "metadata": {},
   "outputs": [],
   "source": [
    "import matplotlib as plt\n",
    "plt.rcParams['figure.figsize'] = [30, 16]"
   ]
  },
  {
   "cell_type": "code",
   "execution_count": 16,
   "metadata": {},
   "outputs": [
    {
     "output_type": "execute_result",
     "data": {
      "text/plain": [
       "<AxesSubplot:xlabel='year', ylabel='num_words'>"
      ]
     },
     "metadata": {},
     "execution_count": 16
    },
    {
     "output_type": "display_data",
     "data": {
      "text/plain": "<Figure size 2160x1152 with 1 Axes>",
      "image/svg+xml": "<?xml version=\"1.0\" encoding=\"utf-8\" standalone=\"no\"?>\r\n<!DOCTYPE svg PUBLIC \"-//W3C//DTD SVG 1.1//EN\"\r\n  \"http://www.w3.org/Graphics/SVG/1.1/DTD/svg11.dtd\">\r\n<svg height=\"914.51625pt\" version=\"1.1\" viewBox=\"0 0 1728.44375 914.51625\" width=\"1728.44375pt\" xmlns=\"http://www.w3.org/2000/svg\" xmlns:xlink=\"http://www.w3.org/1999/xlink\">\r\n <metadata>\r\n  <rdf:RDF xmlns:cc=\"http://creativecommons.org/ns#\" xmlns:dc=\"http://purl.org/dc/elements/1.1/\" xmlns:rdf=\"http://www.w3.org/1999/02/22-rdf-syntax-ns#\">\r\n   <cc:Work>\r\n    <dc:type rdf:resource=\"http://purl.org/dc/dcmitype/StillImage\"/>\r\n    <dc:date>2021-06-12T21:17:06.290623</dc:date>\r\n    <dc:format>image/svg+xml</dc:format>\r\n    <dc:creator>\r\n     <cc:Agent>\r\n      <dc:title>Matplotlib v3.4.2, https://matplotlib.org/</dc:title>\r\n     </cc:Agent>\r\n    </dc:creator>\r\n   </cc:Work>\r\n  </rdf:RDF>\r\n </metadata>\r\n <defs>\r\n  <style type=\"text/css\">*{stroke-linecap:butt;stroke-linejoin:round;}</style>\r\n </defs>\r\n <g id=\"figure_1\">\r\n  <g id=\"patch_1\">\r\n   <path d=\"M 0 914.51625 \r\nL 1728.44375 914.51625 \r\nL 1728.44375 0 \r\nL 0 0 \r\nz\r\n\" style=\"fill:none;\"/>\r\n  </g>\r\n  <g id=\"axes_1\">\r\n   <g id=\"patch_2\">\r\n    <path d=\"M 47.24375 876.96 \r\nL 1721.24375 876.96 \r\nL 1721.24375 7.2 \r\nL 47.24375 7.2 \r\nz\r\n\" style=\"fill:#ffffff;\"/>\r\n   </g>\r\n   <g id=\"PolyCollection_1\">\r\n    <defs>\r\n     <path d=\"M 1079.902686 -379.182007 \r\nL 1079.902686 -360.793846 \r\nL 1079.902686 -379.182007 \r\nL 1079.902686 -379.182007 \r\nz\r\n\" id=\"mfd7fce6931\" style=\"stroke:#1f77b4;stroke-opacity:0.2;\"/>\r\n    </defs>\r\n    <g clip-path=\"url(#p9459135256)\">\r\n     <use style=\"fill:#1f77b4;fill-opacity:0.2;stroke:#1f77b4;stroke-opacity:0.2;\" x=\"0\" xlink:href=\"#mfd7fce6931\" y=\"914.51625\"/>\r\n    </g>\r\n   </g>\r\n   <g id=\"matplotlib.axis_1\">\r\n    <g id=\"xtick_1\">\r\n     <g id=\"line2d_1\">\r\n      <defs>\r\n       <path d=\"M 0 0 \r\nL 0 3.5 \r\n\" id=\"m8acb1dd14a\" style=\"stroke:#000000;stroke-width:0.8;\"/>\r\n      </defs>\r\n      <g>\r\n       <use style=\"stroke:#000000;stroke-width:0.8;\" x=\"79.762301\" xlink:href=\"#m8acb1dd14a\" y=\"876.96\"/>\r\n      </g>\r\n     </g>\r\n     <g id=\"text_1\">\r\n      <!-- 1984 -->\r\n      <g transform=\"translate(67.037301 891.558437)scale(0.1 -0.1)\">\r\n       <defs>\r\n        <path d=\"M 794 531 \r\nL 1825 531 \r\nL 1825 4091 \r\nL 703 3866 \r\nL 703 4441 \r\nL 1819 4666 \r\nL 2450 4666 \r\nL 2450 531 \r\nL 3481 531 \r\nL 3481 0 \r\nL 794 0 \r\nL 794 531 \r\nz\r\n\" id=\"DejaVuSans-31\" transform=\"scale(0.015625)\"/>\r\n        <path d=\"M 703 97 \r\nL 703 672 \r\nQ 941 559 1184 500 \r\nQ 1428 441 1663 441 \r\nQ 2288 441 2617 861 \r\nQ 2947 1281 2994 2138 \r\nQ 2813 1869 2534 1725 \r\nQ 2256 1581 1919 1581 \r\nQ 1219 1581 811 2004 \r\nQ 403 2428 403 3163 \r\nQ 403 3881 828 4315 \r\nQ 1253 4750 1959 4750 \r\nQ 2769 4750 3195 4129 \r\nQ 3622 3509 3622 2328 \r\nQ 3622 1225 3098 567 \r\nQ 2575 -91 1691 -91 \r\nQ 1453 -91 1209 -44 \r\nQ 966 3 703 97 \r\nz\r\nM 1959 2075 \r\nQ 2384 2075 2632 2365 \r\nQ 2881 2656 2881 3163 \r\nQ 2881 3666 2632 3958 \r\nQ 2384 4250 1959 4250 \r\nQ 1534 4250 1286 3958 \r\nQ 1038 3666 1038 3163 \r\nQ 1038 2656 1286 2365 \r\nQ 1534 2075 1959 2075 \r\nz\r\n\" id=\"DejaVuSans-39\" transform=\"scale(0.015625)\"/>\r\n        <path d=\"M 2034 2216 \r\nQ 1584 2216 1326 1975 \r\nQ 1069 1734 1069 1313 \r\nQ 1069 891 1326 650 \r\nQ 1584 409 2034 409 \r\nQ 2484 409 2743 651 \r\nQ 3003 894 3003 1313 \r\nQ 3003 1734 2745 1975 \r\nQ 2488 2216 2034 2216 \r\nz\r\nM 1403 2484 \r\nQ 997 2584 770 2862 \r\nQ 544 3141 544 3541 \r\nQ 544 4100 942 4425 \r\nQ 1341 4750 2034 4750 \r\nQ 2731 4750 3128 4425 \r\nQ 3525 4100 3525 3541 \r\nQ 3525 3141 3298 2862 \r\nQ 3072 2584 2669 2484 \r\nQ 3125 2378 3379 2068 \r\nQ 3634 1759 3634 1313 \r\nQ 3634 634 3220 271 \r\nQ 2806 -91 2034 -91 \r\nQ 1263 -91 848 271 \r\nQ 434 634 434 1313 \r\nQ 434 1759 690 2068 \r\nQ 947 2378 1403 2484 \r\nz\r\nM 1172 3481 \r\nQ 1172 3119 1398 2916 \r\nQ 1625 2713 2034 2713 \r\nQ 2441 2713 2670 2916 \r\nQ 2900 3119 2900 3481 \r\nQ 2900 3844 2670 4047 \r\nQ 2441 4250 2034 4250 \r\nQ 1625 4250 1398 4047 \r\nQ 1172 3844 1172 3481 \r\nz\r\n\" id=\"DejaVuSans-38\" transform=\"scale(0.015625)\"/>\r\n        <path d=\"M 2419 4116 \r\nL 825 1625 \r\nL 2419 1625 \r\nL 2419 4116 \r\nz\r\nM 2253 4666 \r\nL 3047 4666 \r\nL 3047 1625 \r\nL 3713 1625 \r\nL 3713 1100 \r\nL 3047 1100 \r\nL 3047 0 \r\nL 2419 0 \r\nL 2419 1100 \r\nL 313 1100 \r\nL 313 1709 \r\nL 2253 4666 \r\nz\r\n\" id=\"DejaVuSans-34\" transform=\"scale(0.015625)\"/>\r\n       </defs>\r\n       <use xlink:href=\"#DejaVuSans-31\"/>\r\n       <use x=\"63.623047\" xlink:href=\"#DejaVuSans-39\"/>\r\n       <use x=\"127.246094\" xlink:href=\"#DejaVuSans-38\"/>\r\n       <use x=\"190.869141\" xlink:href=\"#DejaVuSans-34\"/>\r\n      </g>\r\n     </g>\r\n    </g>\r\n    <g id=\"xtick_2\">\r\n     <g id=\"line2d_2\">\r\n      <g>\r\n       <use style=\"stroke:#000000;stroke-width:0.8;\" x=\"253.694583\" xlink:href=\"#m8acb1dd14a\" y=\"876.96\"/>\r\n      </g>\r\n     </g>\r\n     <g id=\"text_2\">\r\n      <!-- 1988 -->\r\n      <g transform=\"translate(240.969583 891.558437)scale(0.1 -0.1)\">\r\n       <use xlink:href=\"#DejaVuSans-31\"/>\r\n       <use x=\"63.623047\" xlink:href=\"#DejaVuSans-39\"/>\r\n       <use x=\"127.246094\" xlink:href=\"#DejaVuSans-38\"/>\r\n       <use x=\"190.869141\" xlink:href=\"#DejaVuSans-38\"/>\r\n      </g>\r\n     </g>\r\n    </g>\r\n    <g id=\"xtick_3\">\r\n     <g id=\"line2d_3\">\r\n      <g>\r\n       <use style=\"stroke:#000000;stroke-width:0.8;\" x=\"427.626865\" xlink:href=\"#m8acb1dd14a\" y=\"876.96\"/>\r\n      </g>\r\n     </g>\r\n     <g id=\"text_3\">\r\n      <!-- 1992 -->\r\n      <g transform=\"translate(414.901865 891.558437)scale(0.1 -0.1)\">\r\n       <defs>\r\n        <path d=\"M 1228 531 \r\nL 3431 531 \r\nL 3431 0 \r\nL 469 0 \r\nL 469 531 \r\nQ 828 903 1448 1529 \r\nQ 2069 2156 2228 2338 \r\nQ 2531 2678 2651 2914 \r\nQ 2772 3150 2772 3378 \r\nQ 2772 3750 2511 3984 \r\nQ 2250 4219 1831 4219 \r\nQ 1534 4219 1204 4116 \r\nQ 875 4013 500 3803 \r\nL 500 4441 \r\nQ 881 4594 1212 4672 \r\nQ 1544 4750 1819 4750 \r\nQ 2544 4750 2975 4387 \r\nQ 3406 4025 3406 3419 \r\nQ 3406 3131 3298 2873 \r\nQ 3191 2616 2906 2266 \r\nQ 2828 2175 2409 1742 \r\nQ 1991 1309 1228 531 \r\nz\r\n\" id=\"DejaVuSans-32\" transform=\"scale(0.015625)\"/>\r\n       </defs>\r\n       <use xlink:href=\"#DejaVuSans-31\"/>\r\n       <use x=\"63.623047\" xlink:href=\"#DejaVuSans-39\"/>\r\n       <use x=\"127.246094\" xlink:href=\"#DejaVuSans-39\"/>\r\n       <use x=\"190.869141\" xlink:href=\"#DejaVuSans-32\"/>\r\n      </g>\r\n     </g>\r\n    </g>\r\n    <g id=\"xtick_4\">\r\n     <g id=\"line2d_4\">\r\n      <g>\r\n       <use style=\"stroke:#000000;stroke-width:0.8;\" x=\"601.559148\" xlink:href=\"#m8acb1dd14a\" y=\"876.96\"/>\r\n      </g>\r\n     </g>\r\n     <g id=\"text_4\">\r\n      <!-- 1996 -->\r\n      <g transform=\"translate(588.834148 891.558437)scale(0.1 -0.1)\">\r\n       <defs>\r\n        <path d=\"M 2113 2584 \r\nQ 1688 2584 1439 2293 \r\nQ 1191 2003 1191 1497 \r\nQ 1191 994 1439 701 \r\nQ 1688 409 2113 409 \r\nQ 2538 409 2786 701 \r\nQ 3034 994 3034 1497 \r\nQ 3034 2003 2786 2293 \r\nQ 2538 2584 2113 2584 \r\nz\r\nM 3366 4563 \r\nL 3366 3988 \r\nQ 3128 4100 2886 4159 \r\nQ 2644 4219 2406 4219 \r\nQ 1781 4219 1451 3797 \r\nQ 1122 3375 1075 2522 \r\nQ 1259 2794 1537 2939 \r\nQ 1816 3084 2150 3084 \r\nQ 2853 3084 3261 2657 \r\nQ 3669 2231 3669 1497 \r\nQ 3669 778 3244 343 \r\nQ 2819 -91 2113 -91 \r\nQ 1303 -91 875 529 \r\nQ 447 1150 447 2328 \r\nQ 447 3434 972 4092 \r\nQ 1497 4750 2381 4750 \r\nQ 2619 4750 2861 4703 \r\nQ 3103 4656 3366 4563 \r\nz\r\n\" id=\"DejaVuSans-36\" transform=\"scale(0.015625)\"/>\r\n       </defs>\r\n       <use xlink:href=\"#DejaVuSans-31\"/>\r\n       <use x=\"63.623047\" xlink:href=\"#DejaVuSans-39\"/>\r\n       <use x=\"127.246094\" xlink:href=\"#DejaVuSans-39\"/>\r\n       <use x=\"190.869141\" xlink:href=\"#DejaVuSans-36\"/>\r\n      </g>\r\n     </g>\r\n    </g>\r\n    <g id=\"xtick_5\">\r\n     <g id=\"line2d_5\">\r\n      <g>\r\n       <use style=\"stroke:#000000;stroke-width:0.8;\" x=\"775.49143\" xlink:href=\"#m8acb1dd14a\" y=\"876.96\"/>\r\n      </g>\r\n     </g>\r\n     <g id=\"text_5\">\r\n      <!-- 2000 -->\r\n      <g transform=\"translate(762.76643 891.558437)scale(0.1 -0.1)\">\r\n       <defs>\r\n        <path d=\"M 2034 4250 \r\nQ 1547 4250 1301 3770 \r\nQ 1056 3291 1056 2328 \r\nQ 1056 1369 1301 889 \r\nQ 1547 409 2034 409 \r\nQ 2525 409 2770 889 \r\nQ 3016 1369 3016 2328 \r\nQ 3016 3291 2770 3770 \r\nQ 2525 4250 2034 4250 \r\nz\r\nM 2034 4750 \r\nQ 2819 4750 3233 4129 \r\nQ 3647 3509 3647 2328 \r\nQ 3647 1150 3233 529 \r\nQ 2819 -91 2034 -91 \r\nQ 1250 -91 836 529 \r\nQ 422 1150 422 2328 \r\nQ 422 3509 836 4129 \r\nQ 1250 4750 2034 4750 \r\nz\r\n\" id=\"DejaVuSans-30\" transform=\"scale(0.015625)\"/>\r\n       </defs>\r\n       <use xlink:href=\"#DejaVuSans-32\"/>\r\n       <use x=\"63.623047\" xlink:href=\"#DejaVuSans-30\"/>\r\n       <use x=\"127.246094\" xlink:href=\"#DejaVuSans-30\"/>\r\n       <use x=\"190.869141\" xlink:href=\"#DejaVuSans-30\"/>\r\n      </g>\r\n     </g>\r\n    </g>\r\n    <g id=\"xtick_6\">\r\n     <g id=\"line2d_6\">\r\n      <g>\r\n       <use style=\"stroke:#000000;stroke-width:0.8;\" x=\"949.423712\" xlink:href=\"#m8acb1dd14a\" y=\"876.96\"/>\r\n      </g>\r\n     </g>\r\n     <g id=\"text_6\">\r\n      <!-- 2004 -->\r\n      <g transform=\"translate(936.698712 891.558437)scale(0.1 -0.1)\">\r\n       <use xlink:href=\"#DejaVuSans-32\"/>\r\n       <use x=\"63.623047\" xlink:href=\"#DejaVuSans-30\"/>\r\n       <use x=\"127.246094\" xlink:href=\"#DejaVuSans-30\"/>\r\n       <use x=\"190.869141\" xlink:href=\"#DejaVuSans-34\"/>\r\n      </g>\r\n     </g>\r\n    </g>\r\n    <g id=\"xtick_7\">\r\n     <g id=\"line2d_7\">\r\n      <g>\r\n       <use style=\"stroke:#000000;stroke-width:0.8;\" x=\"1123.355994\" xlink:href=\"#m8acb1dd14a\" y=\"876.96\"/>\r\n      </g>\r\n     </g>\r\n     <g id=\"text_7\">\r\n      <!-- 2008 -->\r\n      <g transform=\"translate(1110.630994 891.558437)scale(0.1 -0.1)\">\r\n       <use xlink:href=\"#DejaVuSans-32\"/>\r\n       <use x=\"63.623047\" xlink:href=\"#DejaVuSans-30\"/>\r\n       <use x=\"127.246094\" xlink:href=\"#DejaVuSans-30\"/>\r\n       <use x=\"190.869141\" xlink:href=\"#DejaVuSans-38\"/>\r\n      </g>\r\n     </g>\r\n    </g>\r\n    <g id=\"xtick_8\">\r\n     <g id=\"line2d_8\">\r\n      <g>\r\n       <use style=\"stroke:#000000;stroke-width:0.8;\" x=\"1297.288276\" xlink:href=\"#m8acb1dd14a\" y=\"876.96\"/>\r\n      </g>\r\n     </g>\r\n     <g id=\"text_8\">\r\n      <!-- 2012 -->\r\n      <g transform=\"translate(1284.563276 891.558437)scale(0.1 -0.1)\">\r\n       <use xlink:href=\"#DejaVuSans-32\"/>\r\n       <use x=\"63.623047\" xlink:href=\"#DejaVuSans-30\"/>\r\n       <use x=\"127.246094\" xlink:href=\"#DejaVuSans-31\"/>\r\n       <use x=\"190.869141\" xlink:href=\"#DejaVuSans-32\"/>\r\n      </g>\r\n     </g>\r\n    </g>\r\n    <g id=\"xtick_9\">\r\n     <g id=\"line2d_9\">\r\n      <g>\r\n       <use style=\"stroke:#000000;stroke-width:0.8;\" x=\"1471.220559\" xlink:href=\"#m8acb1dd14a\" y=\"876.96\"/>\r\n      </g>\r\n     </g>\r\n     <g id=\"text_9\">\r\n      <!-- 2016 -->\r\n      <g transform=\"translate(1458.495559 891.558437)scale(0.1 -0.1)\">\r\n       <use xlink:href=\"#DejaVuSans-32\"/>\r\n       <use x=\"63.623047\" xlink:href=\"#DejaVuSans-30\"/>\r\n       <use x=\"127.246094\" xlink:href=\"#DejaVuSans-31\"/>\r\n       <use x=\"190.869141\" xlink:href=\"#DejaVuSans-36\"/>\r\n      </g>\r\n     </g>\r\n    </g>\r\n    <g id=\"xtick_10\">\r\n     <g id=\"line2d_10\">\r\n      <g>\r\n       <use style=\"stroke:#000000;stroke-width:0.8;\" x=\"1645.152841\" xlink:href=\"#m8acb1dd14a\" y=\"876.96\"/>\r\n      </g>\r\n     </g>\r\n     <g id=\"text_10\">\r\n      <!-- 2020 -->\r\n      <g transform=\"translate(1632.427841 891.558437)scale(0.1 -0.1)\">\r\n       <use xlink:href=\"#DejaVuSans-32\"/>\r\n       <use x=\"63.623047\" xlink:href=\"#DejaVuSans-30\"/>\r\n       <use x=\"127.246094\" xlink:href=\"#DejaVuSans-32\"/>\r\n       <use x=\"190.869141\" xlink:href=\"#DejaVuSans-30\"/>\r\n      </g>\r\n     </g>\r\n    </g>\r\n    <g id=\"text_11\">\r\n     <!-- year -->\r\n     <g transform=\"translate(873.088281 905.236562)scale(0.1 -0.1)\">\r\n      <defs>\r\n       <path d=\"M 2059 -325 \r\nQ 1816 -950 1584 -1140 \r\nQ 1353 -1331 966 -1331 \r\nL 506 -1331 \r\nL 506 -850 \r\nL 844 -850 \r\nQ 1081 -850 1212 -737 \r\nQ 1344 -625 1503 -206 \r\nL 1606 56 \r\nL 191 3500 \r\nL 800 3500 \r\nL 1894 763 \r\nL 2988 3500 \r\nL 3597 3500 \r\nL 2059 -325 \r\nz\r\n\" id=\"DejaVuSans-79\" transform=\"scale(0.015625)\"/>\r\n       <path d=\"M 3597 1894 \r\nL 3597 1613 \r\nL 953 1613 \r\nQ 991 1019 1311 708 \r\nQ 1631 397 2203 397 \r\nQ 2534 397 2845 478 \r\nQ 3156 559 3463 722 \r\nL 3463 178 \r\nQ 3153 47 2828 -22 \r\nQ 2503 -91 2169 -91 \r\nQ 1331 -91 842 396 \r\nQ 353 884 353 1716 \r\nQ 353 2575 817 3079 \r\nQ 1281 3584 2069 3584 \r\nQ 2775 3584 3186 3129 \r\nQ 3597 2675 3597 1894 \r\nz\r\nM 3022 2063 \r\nQ 3016 2534 2758 2815 \r\nQ 2500 3097 2075 3097 \r\nQ 1594 3097 1305 2825 \r\nQ 1016 2553 972 2059 \r\nL 3022 2063 \r\nz\r\n\" id=\"DejaVuSans-65\" transform=\"scale(0.015625)\"/>\r\n       <path d=\"M 2194 1759 \r\nQ 1497 1759 1228 1600 \r\nQ 959 1441 959 1056 \r\nQ 959 750 1161 570 \r\nQ 1363 391 1709 391 \r\nQ 2188 391 2477 730 \r\nQ 2766 1069 2766 1631 \r\nL 2766 1759 \r\nL 2194 1759 \r\nz\r\nM 3341 1997 \r\nL 3341 0 \r\nL 2766 0 \r\nL 2766 531 \r\nQ 2569 213 2275 61 \r\nQ 1981 -91 1556 -91 \r\nQ 1019 -91 701 211 \r\nQ 384 513 384 1019 \r\nQ 384 1609 779 1909 \r\nQ 1175 2209 1959 2209 \r\nL 2766 2209 \r\nL 2766 2266 \r\nQ 2766 2663 2505 2880 \r\nQ 2244 3097 1772 3097 \r\nQ 1472 3097 1187 3025 \r\nQ 903 2953 641 2809 \r\nL 641 3341 \r\nQ 956 3463 1253 3523 \r\nQ 1550 3584 1831 3584 \r\nQ 2591 3584 2966 3190 \r\nQ 3341 2797 3341 1997 \r\nz\r\n\" id=\"DejaVuSans-61\" transform=\"scale(0.015625)\"/>\r\n       <path d=\"M 2631 2963 \r\nQ 2534 3019 2420 3045 \r\nQ 2306 3072 2169 3072 \r\nQ 1681 3072 1420 2755 \r\nQ 1159 2438 1159 1844 \r\nL 1159 0 \r\nL 581 0 \r\nL 581 3500 \r\nL 1159 3500 \r\nL 1159 2956 \r\nQ 1341 3275 1631 3429 \r\nQ 1922 3584 2338 3584 \r\nQ 2397 3584 2469 3576 \r\nQ 2541 3569 2628 3553 \r\nL 2631 2963 \r\nz\r\n\" id=\"DejaVuSans-72\" transform=\"scale(0.015625)\"/>\r\n      </defs>\r\n      <use xlink:href=\"#DejaVuSans-79\"/>\r\n      <use x=\"59.179688\" xlink:href=\"#DejaVuSans-65\"/>\r\n      <use x=\"120.703125\" xlink:href=\"#DejaVuSans-61\"/>\r\n      <use x=\"181.982422\" xlink:href=\"#DejaVuSans-72\"/>\r\n     </g>\r\n    </g>\r\n   </g>\r\n   <g id=\"matplotlib.axis_2\">\r\n    <g id=\"ytick_1\">\r\n     <g id=\"line2d_11\">\r\n      <defs>\r\n       <path d=\"M 0 0 \r\nL -3.5 0 \r\n\" id=\"m2ce67df5cd\" style=\"stroke:#000000;stroke-width:0.8;\"/>\r\n      </defs>\r\n      <g>\r\n       <use style=\"stroke:#000000;stroke-width:0.8;\" x=\"47.24375\" xlink:href=\"#m2ce67df5cd\" y=\"826.917934\"/>\r\n      </g>\r\n     </g>\r\n     <g id=\"text_12\">\r\n      <!-- 100 -->\r\n      <g transform=\"translate(21.15625 830.717153)scale(0.1 -0.1)\">\r\n       <use xlink:href=\"#DejaVuSans-31\"/>\r\n       <use x=\"63.623047\" xlink:href=\"#DejaVuSans-30\"/>\r\n       <use x=\"127.246094\" xlink:href=\"#DejaVuSans-30\"/>\r\n      </g>\r\n     </g>\r\n    </g>\r\n    <g id=\"ytick_2\">\r\n     <g id=\"line2d_12\">\r\n      <g>\r\n       <use style=\"stroke:#000000;stroke-width:0.8;\" x=\"47.24375\" xlink:href=\"#m2ce67df5cd\" y=\"695.573929\"/>\r\n      </g>\r\n     </g>\r\n     <g id=\"text_13\">\r\n      <!-- 150 -->\r\n      <g transform=\"translate(21.15625 699.373148)scale(0.1 -0.1)\">\r\n       <defs>\r\n        <path d=\"M 691 4666 \r\nL 3169 4666 \r\nL 3169 4134 \r\nL 1269 4134 \r\nL 1269 2991 \r\nQ 1406 3038 1543 3061 \r\nQ 1681 3084 1819 3084 \r\nQ 2600 3084 3056 2656 \r\nQ 3513 2228 3513 1497 \r\nQ 3513 744 3044 326 \r\nQ 2575 -91 1722 -91 \r\nQ 1428 -91 1123 -41 \r\nQ 819 9 494 109 \r\nL 494 744 \r\nQ 775 591 1075 516 \r\nQ 1375 441 1709 441 \r\nQ 2250 441 2565 725 \r\nQ 2881 1009 2881 1497 \r\nQ 2881 1984 2565 2268 \r\nQ 2250 2553 1709 2553 \r\nQ 1456 2553 1204 2497 \r\nQ 953 2441 691 2322 \r\nL 691 4666 \r\nz\r\n\" id=\"DejaVuSans-35\" transform=\"scale(0.015625)\"/>\r\n       </defs>\r\n       <use xlink:href=\"#DejaVuSans-31\"/>\r\n       <use x=\"63.623047\" xlink:href=\"#DejaVuSans-35\"/>\r\n       <use x=\"127.246094\" xlink:href=\"#DejaVuSans-30\"/>\r\n      </g>\r\n     </g>\r\n    </g>\r\n    <g id=\"ytick_3\">\r\n     <g id=\"line2d_13\">\r\n      <g>\r\n       <use style=\"stroke:#000000;stroke-width:0.8;\" x=\"47.24375\" xlink:href=\"#m2ce67df5cd\" y=\"564.229924\"/>\r\n      </g>\r\n     </g>\r\n     <g id=\"text_14\">\r\n      <!-- 200 -->\r\n      <g transform=\"translate(21.15625 568.029143)scale(0.1 -0.1)\">\r\n       <use xlink:href=\"#DejaVuSans-32\"/>\r\n       <use x=\"63.623047\" xlink:href=\"#DejaVuSans-30\"/>\r\n       <use x=\"127.246094\" xlink:href=\"#DejaVuSans-30\"/>\r\n      </g>\r\n     </g>\r\n    </g>\r\n    <g id=\"ytick_4\">\r\n     <g id=\"line2d_14\">\r\n      <g>\r\n       <use style=\"stroke:#000000;stroke-width:0.8;\" x=\"47.24375\" xlink:href=\"#m2ce67df5cd\" y=\"432.88592\"/>\r\n      </g>\r\n     </g>\r\n     <g id=\"text_15\">\r\n      <!-- 250 -->\r\n      <g transform=\"translate(21.15625 436.685138)scale(0.1 -0.1)\">\r\n       <use xlink:href=\"#DejaVuSans-32\"/>\r\n       <use x=\"63.623047\" xlink:href=\"#DejaVuSans-35\"/>\r\n       <use x=\"127.246094\" xlink:href=\"#DejaVuSans-30\"/>\r\n      </g>\r\n     </g>\r\n    </g>\r\n    <g id=\"ytick_5\">\r\n     <g id=\"line2d_15\">\r\n      <g>\r\n       <use style=\"stroke:#000000;stroke-width:0.8;\" x=\"47.24375\" xlink:href=\"#m2ce67df5cd\" y=\"301.541915\"/>\r\n      </g>\r\n     </g>\r\n     <g id=\"text_16\">\r\n      <!-- 300 -->\r\n      <g transform=\"translate(21.15625 305.341134)scale(0.1 -0.1)\">\r\n       <defs>\r\n        <path d=\"M 2597 2516 \r\nQ 3050 2419 3304 2112 \r\nQ 3559 1806 3559 1356 \r\nQ 3559 666 3084 287 \r\nQ 2609 -91 1734 -91 \r\nQ 1441 -91 1130 -33 \r\nQ 819 25 488 141 \r\nL 488 750 \r\nQ 750 597 1062 519 \r\nQ 1375 441 1716 441 \r\nQ 2309 441 2620 675 \r\nQ 2931 909 2931 1356 \r\nQ 2931 1769 2642 2001 \r\nQ 2353 2234 1838 2234 \r\nL 1294 2234 \r\nL 1294 2753 \r\nL 1863 2753 \r\nQ 2328 2753 2575 2939 \r\nQ 2822 3125 2822 3475 \r\nQ 2822 3834 2567 4026 \r\nQ 2313 4219 1838 4219 \r\nQ 1578 4219 1281 4162 \r\nQ 984 4106 628 3988 \r\nL 628 4550 \r\nQ 988 4650 1302 4700 \r\nQ 1616 4750 1894 4750 \r\nQ 2613 4750 3031 4423 \r\nQ 3450 4097 3450 3541 \r\nQ 3450 3153 3228 2886 \r\nQ 3006 2619 2597 2516 \r\nz\r\n\" id=\"DejaVuSans-33\" transform=\"scale(0.015625)\"/>\r\n       </defs>\r\n       <use xlink:href=\"#DejaVuSans-33\"/>\r\n       <use x=\"63.623047\" xlink:href=\"#DejaVuSans-30\"/>\r\n       <use x=\"127.246094\" xlink:href=\"#DejaVuSans-30\"/>\r\n      </g>\r\n     </g>\r\n    </g>\r\n    <g id=\"ytick_6\">\r\n     <g id=\"line2d_16\">\r\n      <g>\r\n       <use style=\"stroke:#000000;stroke-width:0.8;\" x=\"47.24375\" xlink:href=\"#m2ce67df5cd\" y=\"170.19791\"/>\r\n      </g>\r\n     </g>\r\n     <g id=\"text_17\">\r\n      <!-- 350 -->\r\n      <g transform=\"translate(21.15625 173.997129)scale(0.1 -0.1)\">\r\n       <use xlink:href=\"#DejaVuSans-33\"/>\r\n       <use x=\"63.623047\" xlink:href=\"#DejaVuSans-35\"/>\r\n       <use x=\"127.246094\" xlink:href=\"#DejaVuSans-30\"/>\r\n      </g>\r\n     </g>\r\n    </g>\r\n    <g id=\"ytick_7\">\r\n     <g id=\"line2d_17\">\r\n      <g>\r\n       <use style=\"stroke:#000000;stroke-width:0.8;\" x=\"47.24375\" xlink:href=\"#m2ce67df5cd\" y=\"38.853905\"/>\r\n      </g>\r\n     </g>\r\n     <g id=\"text_18\">\r\n      <!-- 400 -->\r\n      <g transform=\"translate(21.15625 42.653124)scale(0.1 -0.1)\">\r\n       <use xlink:href=\"#DejaVuSans-34\"/>\r\n       <use x=\"63.623047\" xlink:href=\"#DejaVuSans-30\"/>\r\n       <use x=\"127.246094\" xlink:href=\"#DejaVuSans-30\"/>\r\n      </g>\r\n     </g>\r\n    </g>\r\n    <g id=\"text_19\">\r\n     <!-- num_words -->\r\n     <g transform=\"translate(14.798438 470.683125)rotate(-90)scale(0.1 -0.1)\">\r\n      <defs>\r\n       <path d=\"M 3513 2113 \r\nL 3513 0 \r\nL 2938 0 \r\nL 2938 2094 \r\nQ 2938 2591 2744 2837 \r\nQ 2550 3084 2163 3084 \r\nQ 1697 3084 1428 2787 \r\nQ 1159 2491 1159 1978 \r\nL 1159 0 \r\nL 581 0 \r\nL 581 3500 \r\nL 1159 3500 \r\nL 1159 2956 \r\nQ 1366 3272 1645 3428 \r\nQ 1925 3584 2291 3584 \r\nQ 2894 3584 3203 3211 \r\nQ 3513 2838 3513 2113 \r\nz\r\n\" id=\"DejaVuSans-6e\" transform=\"scale(0.015625)\"/>\r\n       <path d=\"M 544 1381 \r\nL 544 3500 \r\nL 1119 3500 \r\nL 1119 1403 \r\nQ 1119 906 1312 657 \r\nQ 1506 409 1894 409 \r\nQ 2359 409 2629 706 \r\nQ 2900 1003 2900 1516 \r\nL 2900 3500 \r\nL 3475 3500 \r\nL 3475 0 \r\nL 2900 0 \r\nL 2900 538 \r\nQ 2691 219 2414 64 \r\nQ 2138 -91 1772 -91 \r\nQ 1169 -91 856 284 \r\nQ 544 659 544 1381 \r\nz\r\nM 1991 3584 \r\nL 1991 3584 \r\nz\r\n\" id=\"DejaVuSans-75\" transform=\"scale(0.015625)\"/>\r\n       <path d=\"M 3328 2828 \r\nQ 3544 3216 3844 3400 \r\nQ 4144 3584 4550 3584 \r\nQ 5097 3584 5394 3201 \r\nQ 5691 2819 5691 2113 \r\nL 5691 0 \r\nL 5113 0 \r\nL 5113 2094 \r\nQ 5113 2597 4934 2840 \r\nQ 4756 3084 4391 3084 \r\nQ 3944 3084 3684 2787 \r\nQ 3425 2491 3425 1978 \r\nL 3425 0 \r\nL 2847 0 \r\nL 2847 2094 \r\nQ 2847 2600 2669 2842 \r\nQ 2491 3084 2119 3084 \r\nQ 1678 3084 1418 2786 \r\nQ 1159 2488 1159 1978 \r\nL 1159 0 \r\nL 581 0 \r\nL 581 3500 \r\nL 1159 3500 \r\nL 1159 2956 \r\nQ 1356 3278 1631 3431 \r\nQ 1906 3584 2284 3584 \r\nQ 2666 3584 2933 3390 \r\nQ 3200 3197 3328 2828 \r\nz\r\n\" id=\"DejaVuSans-6d\" transform=\"scale(0.015625)\"/>\r\n       <path d=\"M 3263 -1063 \r\nL 3263 -1509 \r\nL -63 -1509 \r\nL -63 -1063 \r\nL 3263 -1063 \r\nz\r\n\" id=\"DejaVuSans-5f\" transform=\"scale(0.015625)\"/>\r\n       <path d=\"M 269 3500 \r\nL 844 3500 \r\nL 1563 769 \r\nL 2278 3500 \r\nL 2956 3500 \r\nL 3675 769 \r\nL 4391 3500 \r\nL 4966 3500 \r\nL 4050 0 \r\nL 3372 0 \r\nL 2619 2869 \r\nL 1863 0 \r\nL 1184 0 \r\nL 269 3500 \r\nz\r\n\" id=\"DejaVuSans-77\" transform=\"scale(0.015625)\"/>\r\n       <path d=\"M 1959 3097 \r\nQ 1497 3097 1228 2736 \r\nQ 959 2375 959 1747 \r\nQ 959 1119 1226 758 \r\nQ 1494 397 1959 397 \r\nQ 2419 397 2687 759 \r\nQ 2956 1122 2956 1747 \r\nQ 2956 2369 2687 2733 \r\nQ 2419 3097 1959 3097 \r\nz\r\nM 1959 3584 \r\nQ 2709 3584 3137 3096 \r\nQ 3566 2609 3566 1747 \r\nQ 3566 888 3137 398 \r\nQ 2709 -91 1959 -91 \r\nQ 1206 -91 779 398 \r\nQ 353 888 353 1747 \r\nQ 353 2609 779 3096 \r\nQ 1206 3584 1959 3584 \r\nz\r\n\" id=\"DejaVuSans-6f\" transform=\"scale(0.015625)\"/>\r\n       <path d=\"M 2906 2969 \r\nL 2906 4863 \r\nL 3481 4863 \r\nL 3481 0 \r\nL 2906 0 \r\nL 2906 525 \r\nQ 2725 213 2448 61 \r\nQ 2172 -91 1784 -91 \r\nQ 1150 -91 751 415 \r\nQ 353 922 353 1747 \r\nQ 353 2572 751 3078 \r\nQ 1150 3584 1784 3584 \r\nQ 2172 3584 2448 3432 \r\nQ 2725 3281 2906 2969 \r\nz\r\nM 947 1747 \r\nQ 947 1113 1208 752 \r\nQ 1469 391 1925 391 \r\nQ 2381 391 2643 752 \r\nQ 2906 1113 2906 1747 \r\nQ 2906 2381 2643 2742 \r\nQ 2381 3103 1925 3103 \r\nQ 1469 3103 1208 2742 \r\nQ 947 2381 947 1747 \r\nz\r\n\" id=\"DejaVuSans-64\" transform=\"scale(0.015625)\"/>\r\n       <path d=\"M 2834 3397 \r\nL 2834 2853 \r\nQ 2591 2978 2328 3040 \r\nQ 2066 3103 1784 3103 \r\nQ 1356 3103 1142 2972 \r\nQ 928 2841 928 2578 \r\nQ 928 2378 1081 2264 \r\nQ 1234 2150 1697 2047 \r\nL 1894 2003 \r\nQ 2506 1872 2764 1633 \r\nQ 3022 1394 3022 966 \r\nQ 3022 478 2636 193 \r\nQ 2250 -91 1575 -91 \r\nQ 1294 -91 989 -36 \r\nQ 684 19 347 128 \r\nL 347 722 \r\nQ 666 556 975 473 \r\nQ 1284 391 1588 391 \r\nQ 1994 391 2212 530 \r\nQ 2431 669 2431 922 \r\nQ 2431 1156 2273 1281 \r\nQ 2116 1406 1581 1522 \r\nL 1381 1569 \r\nQ 847 1681 609 1914 \r\nQ 372 2147 372 2553 \r\nQ 372 3047 722 3315 \r\nQ 1072 3584 1716 3584 \r\nQ 2034 3584 2315 3537 \r\nQ 2597 3491 2834 3397 \r\nz\r\n\" id=\"DejaVuSans-73\" transform=\"scale(0.015625)\"/>\r\n      </defs>\r\n      <use xlink:href=\"#DejaVuSans-6e\"/>\r\n      <use x=\"63.378906\" xlink:href=\"#DejaVuSans-75\"/>\r\n      <use x=\"126.757812\" xlink:href=\"#DejaVuSans-6d\"/>\r\n      <use x=\"224.169922\" xlink:href=\"#DejaVuSans-5f\"/>\r\n      <use x=\"274.169922\" xlink:href=\"#DejaVuSans-77\"/>\r\n      <use x=\"355.957031\" xlink:href=\"#DejaVuSans-6f\"/>\r\n      <use x=\"417.138672\" xlink:href=\"#DejaVuSans-72\"/>\r\n      <use x=\"456.501953\" xlink:href=\"#DejaVuSans-64\"/>\r\n      <use x=\"519.978516\" xlink:href=\"#DejaVuSans-73\"/>\r\n     </g>\r\n    </g>\r\n   </g>\r\n   <g id=\"line2d_18\">\r\n    <path clip-path=\"url(#p9459135256)\" d=\"M 123.334659 774.380332 \r\nL 166.787967 635.155687 \r\nL 210.241275 635.155687 \r\nL 297.266941 734.977131 \r\nL 384.173557 708.70833 \r\nL 558.10584 682.439529 \r\nL 601.559148 635.155687 \r\nL 645.131506 829.544814 \r\nL 688.584814 837.425455 \r\nL 732.038122 745.484651 \r\nL 775.49143 745.484651 \r\nL 819.063788 648.290088 \r\nL 862.517096 443.39344 \r\nL 905.970404 658.797608 \r\nL 949.423712 837.425455 \r\nL 992.99607 543.214884 \r\nL 1036.449378 798.022253 \r\nL 1079.902686 544.528324 \r\nL 1123.355994 480.169761 \r\nL 1166.928352 354.079517 \r\nL 1210.38166 464.408481 \r\nL 1253.834968 577.364325 \r\nL 1297.288276 611.513766 \r\nL 1340.860635 372.467677 \r\nL 1427.767251 346.198876 \r\nL 1471.220559 472.289121 \r\nL 1514.792917 459.154721 \r\nL 1558.246225 335.691356 \r\nL 1601.699533 46.734545 \r\nL 1645.152841 467.035361 \r\n\" style=\"fill:none;stroke:#1f77b4;stroke-linecap:square;stroke-width:1.5;\"/>\r\n   </g>\r\n   <g id=\"patch_3\">\r\n    <path d=\"M 47.24375 876.96 \r\nL 47.24375 7.2 \r\n\" style=\"fill:none;stroke:#000000;stroke-linecap:square;stroke-linejoin:miter;stroke-width:0.8;\"/>\r\n   </g>\r\n   <g id=\"patch_4\">\r\n    <path d=\"M 1721.24375 876.96 \r\nL 1721.24375 7.2 \r\n\" style=\"fill:none;stroke:#000000;stroke-linecap:square;stroke-linejoin:miter;stroke-width:0.8;\"/>\r\n   </g>\r\n   <g id=\"patch_5\">\r\n    <path d=\"M 47.24375 876.96 \r\nL 1721.24375 876.96 \r\n\" style=\"fill:none;stroke:#000000;stroke-linecap:square;stroke-linejoin:miter;stroke-width:0.8;\"/>\r\n   </g>\r\n   <g id=\"patch_6\">\r\n    <path d=\"M 47.24375 7.2 \r\nL 1721.24375 7.2 \r\n\" style=\"fill:none;stroke:#000000;stroke-linecap:square;stroke-linejoin:miter;stroke-width:0.8;\"/>\r\n   </g>\r\n  </g>\r\n </g>\r\n <defs>\r\n  <clipPath id=\"p9459135256\">\r\n   <rect height=\"869.76\" width=\"1674\" x=\"47.24375\" y=\"7.2\"/>\r\n  </clipPath>\r\n </defs>\r\n</svg>\r\n",
      "image/png": "[encoded data removed]"
     },
     "metadata": {
      "needs_background": "light"
     }
    }
   ],
   "source": [
    "# Graph of total number of words vs year\n",
    "sns.lineplot(x = \"year\", y = \"num_words\", data = df_lyrics)"
   ]
  },
  {
   "cell_type": "code",
   "execution_count": 17,
   "metadata": {},
   "outputs": [
    {
     "output_type": "execute_result",
     "data": {
      "text/plain": [
       "<AxesSubplot:xlabel='year', ylabel='avg_word_len'>"
      ]
     },
     "metadata": {},
     "execution_count": 17
    },
    {
     "output_type": "display_data",
     "data": {
      "text/plain": "<Figure size 2160x1152 with 1 Axes>",
      "image/svg+xml": "<?xml version=\"1.0\" encoding=\"utf-8\" standalone=\"no\"?>\r\n<!DOCTYPE svg PUBLIC \"-//W3C//DTD SVG 1.1//EN\"\r\n  \"http://www.w3.org/Graphics/SVG/1.1/DTD/svg11.dtd\">\r\n<svg height=\"914.51625pt\" version=\"1.1\" viewBox=\"0 0 1725.259375 914.51625\" width=\"1725.259375pt\" xmlns=\"http://www.w3.org/2000/svg\" xmlns:xlink=\"http://www.w3.org/1999/xlink\">\r\n <metadata>\r\n  <rdf:RDF xmlns:cc=\"http://creativecommons.org/ns#\" xmlns:dc=\"http://purl.org/dc/elements/1.1/\" xmlns:rdf=\"http://www.w3.org/1999/02/22-rdf-syntax-ns#\">\r\n   <cc:Work>\r\n    <dc:type rdf:resource=\"http://purl.org/dc/dcmitype/StillImage\"/>\r\n    <dc:date>2021-06-12T21:17:06.735768</dc:date>\r\n    <dc:format>image/svg+xml</dc:format>\r\n    <dc:creator>\r\n     <cc:Agent>\r\n      <dc:title>Matplotlib v3.4.2, https://matplotlib.org/</dc:title>\r\n     </cc:Agent>\r\n    </dc:creator>\r\n   </cc:Work>\r\n  </rdf:RDF>\r\n </metadata>\r\n <defs>\r\n  <style type=\"text/css\">*{stroke-linecap:butt;stroke-linejoin:round;}</style>\r\n </defs>\r\n <g id=\"figure_1\">\r\n  <g id=\"patch_1\">\r\n   <path d=\"M 0 914.51625 \r\nL 1725.259375 914.51625 \r\nL 1725.259375 0 \r\nL 0 0 \r\nz\r\n\" style=\"fill:none;\"/>\r\n  </g>\r\n  <g id=\"axes_1\">\r\n   <g id=\"patch_2\">\r\n    <path d=\"M 44.059375 876.96 \r\nL 1718.059375 876.96 \r\nL 1718.059375 7.2 \r\nL 44.059375 7.2 \r\nz\r\n\" style=\"fill:#ffffff;\"/>\r\n   </g>\r\n   <g id=\"PolyCollection_1\">\r\n    <defs>\r\n     <path d=\"M 1076.718311 -552.25912 \r\nL 1076.718311 -128.959726 \r\nL 1076.718311 -552.25912 \r\nL 1076.718311 -552.25912 \r\nz\r\n\" id=\"mc9c1a090bf\" style=\"stroke:#1f77b4;stroke-opacity:0.2;\"/>\r\n    </defs>\r\n    <g clip-path=\"url(#pea7b608c82)\">\r\n     <use style=\"fill:#1f77b4;fill-opacity:0.2;stroke:#1f77b4;stroke-opacity:0.2;\" x=\"0\" xlink:href=\"#mc9c1a090bf\" y=\"914.51625\"/>\r\n    </g>\r\n   </g>\r\n   <g id=\"matplotlib.axis_1\">\r\n    <g id=\"xtick_1\">\r\n     <g id=\"line2d_1\">\r\n      <defs>\r\n       <path d=\"M 0 0 \r\nL 0 3.5 \r\n\" id=\"m16ead87668\" style=\"stroke:#000000;stroke-width:0.8;\"/>\r\n      </defs>\r\n      <g>\r\n       <use style=\"stroke:#000000;stroke-width:0.8;\" x=\"76.577926\" xlink:href=\"#m16ead87668\" y=\"876.96\"/>\r\n      </g>\r\n     </g>\r\n     <g id=\"text_1\">\r\n      <!-- 1984 -->\r\n      <g transform=\"translate(63.852926 891.558438)scale(0.1 -0.1)\">\r\n       <defs>\r\n        <path d=\"M 794 531 \r\nL 1825 531 \r\nL 1825 4091 \r\nL 703 3866 \r\nL 703 4441 \r\nL 1819 4666 \r\nL 2450 4666 \r\nL 2450 531 \r\nL 3481 531 \r\nL 3481 0 \r\nL 794 0 \r\nL 794 531 \r\nz\r\n\" id=\"DejaVuSans-31\" transform=\"scale(0.015625)\"/>\r\n        <path d=\"M 703 97 \r\nL 703 672 \r\nQ 941 559 1184 500 \r\nQ 1428 441 1663 441 \r\nQ 2288 441 2617 861 \r\nQ 2947 1281 2994 2138 \r\nQ 2813 1869 2534 1725 \r\nQ 2256 1581 1919 1581 \r\nQ 1219 1581 811 2004 \r\nQ 403 2428 403 3163 \r\nQ 403 3881 828 4315 \r\nQ 1253 4750 1959 4750 \r\nQ 2769 4750 3195 4129 \r\nQ 3622 3509 3622 2328 \r\nQ 3622 1225 3098 567 \r\nQ 2575 -91 1691 -91 \r\nQ 1453 -91 1209 -44 \r\nQ 966 3 703 97 \r\nz\r\nM 1959 2075 \r\nQ 2384 2075 2632 2365 \r\nQ 2881 2656 2881 3163 \r\nQ 2881 3666 2632 3958 \r\nQ 2384 4250 1959 4250 \r\nQ 1534 4250 1286 3958 \r\nQ 1038 3666 1038 3163 \r\nQ 1038 2656 1286 2365 \r\nQ 1534 2075 1959 2075 \r\nz\r\n\" id=\"DejaVuSans-39\" transform=\"scale(0.015625)\"/>\r\n        <path d=\"M 2034 2216 \r\nQ 1584 2216 1326 1975 \r\nQ 1069 1734 1069 1313 \r\nQ 1069 891 1326 650 \r\nQ 1584 409 2034 409 \r\nQ 2484 409 2743 651 \r\nQ 3003 894 3003 1313 \r\nQ 3003 1734 2745 1975 \r\nQ 2488 2216 2034 2216 \r\nz\r\nM 1403 2484 \r\nQ 997 2584 770 2862 \r\nQ 544 3141 544 3541 \r\nQ 544 4100 942 4425 \r\nQ 1341 4750 2034 4750 \r\nQ 2731 4750 3128 4425 \r\nQ 3525 4100 3525 3541 \r\nQ 3525 3141 3298 2862 \r\nQ 3072 2584 2669 2484 \r\nQ 3125 2378 3379 2068 \r\nQ 3634 1759 3634 1313 \r\nQ 3634 634 3220 271 \r\nQ 2806 -91 2034 -91 \r\nQ 1263 -91 848 271 \r\nQ 434 634 434 1313 \r\nQ 434 1759 690 2068 \r\nQ 947 2378 1403 2484 \r\nz\r\nM 1172 3481 \r\nQ 1172 3119 1398 2916 \r\nQ 1625 2713 2034 2713 \r\nQ 2441 2713 2670 2916 \r\nQ 2900 3119 2900 3481 \r\nQ 2900 3844 2670 4047 \r\nQ 2441 4250 2034 4250 \r\nQ 1625 4250 1398 4047 \r\nQ 1172 3844 1172 3481 \r\nz\r\n\" id=\"DejaVuSans-38\" transform=\"scale(0.015625)\"/>\r\n        <path d=\"M 2419 4116 \r\nL 825 1625 \r\nL 2419 1625 \r\nL 2419 4116 \r\nz\r\nM 2253 4666 \r\nL 3047 4666 \r\nL 3047 1625 \r\nL 3713 1625 \r\nL 3713 1100 \r\nL 3047 1100 \r\nL 3047 0 \r\nL 2419 0 \r\nL 2419 1100 \r\nL 313 1100 \r\nL 313 1709 \r\nL 2253 4666 \r\nz\r\n\" id=\"DejaVuSans-34\" transform=\"scale(0.015625)\"/>\r\n       </defs>\r\n       <use xlink:href=\"#DejaVuSans-31\"/>\r\n       <use x=\"63.623047\" xlink:href=\"#DejaVuSans-39\"/>\r\n       <use x=\"127.246094\" xlink:href=\"#DejaVuSans-38\"/>\r\n       <use x=\"190.869141\" xlink:href=\"#DejaVuSans-34\"/>\r\n      </g>\r\n     </g>\r\n    </g>\r\n    <g id=\"xtick_2\">\r\n     <g id=\"line2d_2\">\r\n      <g>\r\n       <use style=\"stroke:#000000;stroke-width:0.8;\" x=\"250.510208\" xlink:href=\"#m16ead87668\" y=\"876.96\"/>\r\n      </g>\r\n     </g>\r\n     <g id=\"text_2\">\r\n      <!-- 1988 -->\r\n      <g transform=\"translate(237.785208 891.558438)scale(0.1 -0.1)\">\r\n       <use xlink:href=\"#DejaVuSans-31\"/>\r\n       <use x=\"63.623047\" xlink:href=\"#DejaVuSans-39\"/>\r\n       <use x=\"127.246094\" xlink:href=\"#DejaVuSans-38\"/>\r\n       <use x=\"190.869141\" xlink:href=\"#DejaVuSans-38\"/>\r\n      </g>\r\n     </g>\r\n    </g>\r\n    <g id=\"xtick_3\">\r\n     <g id=\"line2d_3\">\r\n      <g>\r\n       <use style=\"stroke:#000000;stroke-width:0.8;\" x=\"424.44249\" xlink:href=\"#m16ead87668\" y=\"876.96\"/>\r\n      </g>\r\n     </g>\r\n     <g id=\"text_3\">\r\n      <!-- 1992 -->\r\n      <g transform=\"translate(411.71749 891.558438)scale(0.1 -0.1)\">\r\n       <defs>\r\n        <path d=\"M 1228 531 \r\nL 3431 531 \r\nL 3431 0 \r\nL 469 0 \r\nL 469 531 \r\nQ 828 903 1448 1529 \r\nQ 2069 2156 2228 2338 \r\nQ 2531 2678 2651 2914 \r\nQ 2772 3150 2772 3378 \r\nQ 2772 3750 2511 3984 \r\nQ 2250 4219 1831 4219 \r\nQ 1534 4219 1204 4116 \r\nQ 875 4013 500 3803 \r\nL 500 4441 \r\nQ 881 4594 1212 4672 \r\nQ 1544 4750 1819 4750 \r\nQ 2544 4750 2975 4387 \r\nQ 3406 4025 3406 3419 \r\nQ 3406 3131 3298 2873 \r\nQ 3191 2616 2906 2266 \r\nQ 2828 2175 2409 1742 \r\nQ 1991 1309 1228 531 \r\nz\r\n\" id=\"DejaVuSans-32\" transform=\"scale(0.015625)\"/>\r\n       </defs>\r\n       <use xlink:href=\"#DejaVuSans-31\"/>\r\n       <use x=\"63.623047\" xlink:href=\"#DejaVuSans-39\"/>\r\n       <use x=\"127.246094\" xlink:href=\"#DejaVuSans-39\"/>\r\n       <use x=\"190.869141\" xlink:href=\"#DejaVuSans-32\"/>\r\n      </g>\r\n     </g>\r\n    </g>\r\n    <g id=\"xtick_4\">\r\n     <g id=\"line2d_4\">\r\n      <g>\r\n       <use style=\"stroke:#000000;stroke-width:0.8;\" x=\"598.374773\" xlink:href=\"#m16ead87668\" y=\"876.96\"/>\r\n      </g>\r\n     </g>\r\n     <g id=\"text_4\">\r\n      <!-- 1996 -->\r\n      <g transform=\"translate(585.649773 891.558438)scale(0.1 -0.1)\">\r\n       <defs>\r\n        <path d=\"M 2113 2584 \r\nQ 1688 2584 1439 2293 \r\nQ 1191 2003 1191 1497 \r\nQ 1191 994 1439 701 \r\nQ 1688 409 2113 409 \r\nQ 2538 409 2786 701 \r\nQ 3034 994 3034 1497 \r\nQ 3034 2003 2786 2293 \r\nQ 2538 2584 2113 2584 \r\nz\r\nM 3366 4563 \r\nL 3366 3988 \r\nQ 3128 4100 2886 4159 \r\nQ 2644 4219 2406 4219 \r\nQ 1781 4219 1451 3797 \r\nQ 1122 3375 1075 2522 \r\nQ 1259 2794 1537 2939 \r\nQ 1816 3084 2150 3084 \r\nQ 2853 3084 3261 2657 \r\nQ 3669 2231 3669 1497 \r\nQ 3669 778 3244 343 \r\nQ 2819 -91 2113 -91 \r\nQ 1303 -91 875 529 \r\nQ 447 1150 447 2328 \r\nQ 447 3434 972 4092 \r\nQ 1497 4750 2381 4750 \r\nQ 2619 4750 2861 4703 \r\nQ 3103 4656 3366 4563 \r\nz\r\n\" id=\"DejaVuSans-36\" transform=\"scale(0.015625)\"/>\r\n       </defs>\r\n       <use xlink:href=\"#DejaVuSans-31\"/>\r\n       <use x=\"63.623047\" xlink:href=\"#DejaVuSans-39\"/>\r\n       <use x=\"127.246094\" xlink:href=\"#DejaVuSans-39\"/>\r\n       <use x=\"190.869141\" xlink:href=\"#DejaVuSans-36\"/>\r\n      </g>\r\n     </g>\r\n    </g>\r\n    <g id=\"xtick_5\">\r\n     <g id=\"line2d_5\">\r\n      <g>\r\n       <use style=\"stroke:#000000;stroke-width:0.8;\" x=\"772.307055\" xlink:href=\"#m16ead87668\" y=\"876.96\"/>\r\n      </g>\r\n     </g>\r\n     <g id=\"text_5\">\r\n      <!-- 2000 -->\r\n      <g transform=\"translate(759.582055 891.558438)scale(0.1 -0.1)\">\r\n       <defs>\r\n        <path d=\"M 2034 4250 \r\nQ 1547 4250 1301 3770 \r\nQ 1056 3291 1056 2328 \r\nQ 1056 1369 1301 889 \r\nQ 1547 409 2034 409 \r\nQ 2525 409 2770 889 \r\nQ 3016 1369 3016 2328 \r\nQ 3016 3291 2770 3770 \r\nQ 2525 4250 2034 4250 \r\nz\r\nM 2034 4750 \r\nQ 2819 4750 3233 4129 \r\nQ 3647 3509 3647 2328 \r\nQ 3647 1150 3233 529 \r\nQ 2819 -91 2034 -91 \r\nQ 1250 -91 836 529 \r\nQ 422 1150 422 2328 \r\nQ 422 3509 836 4129 \r\nQ 1250 4750 2034 4750 \r\nz\r\n\" id=\"DejaVuSans-30\" transform=\"scale(0.015625)\"/>\r\n       </defs>\r\n       <use xlink:href=\"#DejaVuSans-32\"/>\r\n       <use x=\"63.623047\" xlink:href=\"#DejaVuSans-30\"/>\r\n       <use x=\"127.246094\" xlink:href=\"#DejaVuSans-30\"/>\r\n       <use x=\"190.869141\" xlink:href=\"#DejaVuSans-30\"/>\r\n      </g>\r\n     </g>\r\n    </g>\r\n    <g id=\"xtick_6\">\r\n     <g id=\"line2d_6\">\r\n      <g>\r\n       <use style=\"stroke:#000000;stroke-width:0.8;\" x=\"946.239337\" xlink:href=\"#m16ead87668\" y=\"876.96\"/>\r\n      </g>\r\n     </g>\r\n     <g id=\"text_6\">\r\n      <!-- 2004 -->\r\n      <g transform=\"translate(933.514337 891.558438)scale(0.1 -0.1)\">\r\n       <use xlink:href=\"#DejaVuSans-32\"/>\r\n       <use x=\"63.623047\" xlink:href=\"#DejaVuSans-30\"/>\r\n       <use x=\"127.246094\" xlink:href=\"#DejaVuSans-30\"/>\r\n       <use x=\"190.869141\" xlink:href=\"#DejaVuSans-34\"/>\r\n      </g>\r\n     </g>\r\n    </g>\r\n    <g id=\"xtick_7\">\r\n     <g id=\"line2d_7\">\r\n      <g>\r\n       <use style=\"stroke:#000000;stroke-width:0.8;\" x=\"1120.171619\" xlink:href=\"#m16ead87668\" y=\"876.96\"/>\r\n      </g>\r\n     </g>\r\n     <g id=\"text_7\">\r\n      <!-- 2008 -->\r\n      <g transform=\"translate(1107.446619 891.558438)scale(0.1 -0.1)\">\r\n       <use xlink:href=\"#DejaVuSans-32\"/>\r\n       <use x=\"63.623047\" xlink:href=\"#DejaVuSans-30\"/>\r\n       <use x=\"127.246094\" xlink:href=\"#DejaVuSans-30\"/>\r\n       <use x=\"190.869141\" xlink:href=\"#DejaVuSans-38\"/>\r\n      </g>\r\n     </g>\r\n    </g>\r\n    <g id=\"xtick_8\">\r\n     <g id=\"line2d_8\">\r\n      <g>\r\n       <use style=\"stroke:#000000;stroke-width:0.8;\" x=\"1294.103901\" xlink:href=\"#m16ead87668\" y=\"876.96\"/>\r\n      </g>\r\n     </g>\r\n     <g id=\"text_8\">\r\n      <!-- 2012 -->\r\n      <g transform=\"translate(1281.378901 891.558438)scale(0.1 -0.1)\">\r\n       <use xlink:href=\"#DejaVuSans-32\"/>\r\n       <use x=\"63.623047\" xlink:href=\"#DejaVuSans-30\"/>\r\n       <use x=\"127.246094\" xlink:href=\"#DejaVuSans-31\"/>\r\n       <use x=\"190.869141\" xlink:href=\"#DejaVuSans-32\"/>\r\n      </g>\r\n     </g>\r\n    </g>\r\n    <g id=\"xtick_9\">\r\n     <g id=\"line2d_9\">\r\n      <g>\r\n       <use style=\"stroke:#000000;stroke-width:0.8;\" x=\"1468.036184\" xlink:href=\"#m16ead87668\" y=\"876.96\"/>\r\n      </g>\r\n     </g>\r\n     <g id=\"text_9\">\r\n      <!-- 2016 -->\r\n      <g transform=\"translate(1455.311184 891.558438)scale(0.1 -0.1)\">\r\n       <use xlink:href=\"#DejaVuSans-32\"/>\r\n       <use x=\"63.623047\" xlink:href=\"#DejaVuSans-30\"/>\r\n       <use x=\"127.246094\" xlink:href=\"#DejaVuSans-31\"/>\r\n       <use x=\"190.869141\" xlink:href=\"#DejaVuSans-36\"/>\r\n      </g>\r\n     </g>\r\n    </g>\r\n    <g id=\"xtick_10\">\r\n     <g id=\"line2d_10\">\r\n      <g>\r\n       <use style=\"stroke:#000000;stroke-width:0.8;\" x=\"1641.968466\" xlink:href=\"#m16ead87668\" y=\"876.96\"/>\r\n      </g>\r\n     </g>\r\n     <g id=\"text_10\">\r\n      <!-- 2020 -->\r\n      <g transform=\"translate(1629.243466 891.558438)scale(0.1 -0.1)\">\r\n       <use xlink:href=\"#DejaVuSans-32\"/>\r\n       <use x=\"63.623047\" xlink:href=\"#DejaVuSans-30\"/>\r\n       <use x=\"127.246094\" xlink:href=\"#DejaVuSans-32\"/>\r\n       <use x=\"190.869141\" xlink:href=\"#DejaVuSans-30\"/>\r\n      </g>\r\n     </g>\r\n    </g>\r\n    <g id=\"text_11\">\r\n     <!-- year -->\r\n     <g transform=\"translate(869.903906 905.236563)scale(0.1 -0.1)\">\r\n      <defs>\r\n       <path d=\"M 2059 -325 \r\nQ 1816 -950 1584 -1140 \r\nQ 1353 -1331 966 -1331 \r\nL 506 -1331 \r\nL 506 -850 \r\nL 844 -850 \r\nQ 1081 -850 1212 -737 \r\nQ 1344 -625 1503 -206 \r\nL 1606 56 \r\nL 191 3500 \r\nL 800 3500 \r\nL 1894 763 \r\nL 2988 3500 \r\nL 3597 3500 \r\nL 2059 -325 \r\nz\r\n\" id=\"DejaVuSans-79\" transform=\"scale(0.015625)\"/>\r\n       <path d=\"M 3597 1894 \r\nL 3597 1613 \r\nL 953 1613 \r\nQ 991 1019 1311 708 \r\nQ 1631 397 2203 397 \r\nQ 2534 397 2845 478 \r\nQ 3156 559 3463 722 \r\nL 3463 178 \r\nQ 3153 47 2828 -22 \r\nQ 2503 -91 2169 -91 \r\nQ 1331 -91 842 396 \r\nQ 353 884 353 1716 \r\nQ 353 2575 817 3079 \r\nQ 1281 3584 2069 3584 \r\nQ 2775 3584 3186 3129 \r\nQ 3597 2675 3597 1894 \r\nz\r\nM 3022 2063 \r\nQ 3016 2534 2758 2815 \r\nQ 2500 3097 2075 3097 \r\nQ 1594 3097 1305 2825 \r\nQ 1016 2553 972 2059 \r\nL 3022 2063 \r\nz\r\n\" id=\"DejaVuSans-65\" transform=\"scale(0.015625)\"/>\r\n       <path d=\"M 2194 1759 \r\nQ 1497 1759 1228 1600 \r\nQ 959 1441 959 1056 \r\nQ 959 750 1161 570 \r\nQ 1363 391 1709 391 \r\nQ 2188 391 2477 730 \r\nQ 2766 1069 2766 1631 \r\nL 2766 1759 \r\nL 2194 1759 \r\nz\r\nM 3341 1997 \r\nL 3341 0 \r\nL 2766 0 \r\nL 2766 531 \r\nQ 2569 213 2275 61 \r\nQ 1981 -91 1556 -91 \r\nQ 1019 -91 701 211 \r\nQ 384 513 384 1019 \r\nQ 384 1609 779 1909 \r\nQ 1175 2209 1959 2209 \r\nL 2766 2209 \r\nL 2766 2266 \r\nQ 2766 2663 2505 2880 \r\nQ 2244 3097 1772 3097 \r\nQ 1472 3097 1187 3025 \r\nQ 903 2953 641 2809 \r\nL 641 3341 \r\nQ 956 3463 1253 3523 \r\nQ 1550 3584 1831 3584 \r\nQ 2591 3584 2966 3190 \r\nQ 3341 2797 3341 1997 \r\nz\r\n\" id=\"DejaVuSans-61\" transform=\"scale(0.015625)\"/>\r\n       <path d=\"M 2631 2963 \r\nQ 2534 3019 2420 3045 \r\nQ 2306 3072 2169 3072 \r\nQ 1681 3072 1420 2755 \r\nQ 1159 2438 1159 1844 \r\nL 1159 0 \r\nL 581 0 \r\nL 581 3500 \r\nL 1159 3500 \r\nL 1159 2956 \r\nQ 1341 3275 1631 3429 \r\nQ 1922 3584 2338 3584 \r\nQ 2397 3584 2469 3576 \r\nQ 2541 3569 2628 3553 \r\nL 2631 2963 \r\nz\r\n\" id=\"DejaVuSans-72\" transform=\"scale(0.015625)\"/>\r\n      </defs>\r\n      <use xlink:href=\"#DejaVuSans-79\"/>\r\n      <use x=\"59.179688\" xlink:href=\"#DejaVuSans-65\"/>\r\n      <use x=\"120.703125\" xlink:href=\"#DejaVuSans-61\"/>\r\n      <use x=\"181.982422\" xlink:href=\"#DejaVuSans-72\"/>\r\n     </g>\r\n    </g>\r\n   </g>\r\n   <g id=\"matplotlib.axis_2\">\r\n    <g id=\"ytick_1\">\r\n     <g id=\"line2d_11\">\r\n      <defs>\r\n       <path d=\"M 0 0 \r\nL -3.5 0 \r\n\" id=\"m4612e7abbe\" style=\"stroke:#000000;stroke-width:0.8;\"/>\r\n      </defs>\r\n      <g>\r\n       <use style=\"stroke:#000000;stroke-width:0.8;\" x=\"44.059375\" xlink:href=\"#m4612e7abbe\" y=\"835.200163\"/>\r\n      </g>\r\n     </g>\r\n     <g id=\"text_12\">\r\n      <!-- 3.4 -->\r\n      <g transform=\"translate(21.15625 838.999382)scale(0.1 -0.1)\">\r\n       <defs>\r\n        <path d=\"M 2597 2516 \r\nQ 3050 2419 3304 2112 \r\nQ 3559 1806 3559 1356 \r\nQ 3559 666 3084 287 \r\nQ 2609 -91 1734 -91 \r\nQ 1441 -91 1130 -33 \r\nQ 819 25 488 141 \r\nL 488 750 \r\nQ 750 597 1062 519 \r\nQ 1375 441 1716 441 \r\nQ 2309 441 2620 675 \r\nQ 2931 909 2931 1356 \r\nQ 2931 1769 2642 2001 \r\nQ 2353 2234 1838 2234 \r\nL 1294 2234 \r\nL 1294 2753 \r\nL 1863 2753 \r\nQ 2328 2753 2575 2939 \r\nQ 2822 3125 2822 3475 \r\nQ 2822 3834 2567 4026 \r\nQ 2313 4219 1838 4219 \r\nQ 1578 4219 1281 4162 \r\nQ 984 4106 628 3988 \r\nL 628 4550 \r\nQ 988 4650 1302 4700 \r\nQ 1616 4750 1894 4750 \r\nQ 2613 4750 3031 4423 \r\nQ 3450 4097 3450 3541 \r\nQ 3450 3153 3228 2886 \r\nQ 3006 2619 2597 2516 \r\nz\r\n\" id=\"DejaVuSans-33\" transform=\"scale(0.015625)\"/>\r\n        <path d=\"M 684 794 \r\nL 1344 794 \r\nL 1344 0 \r\nL 684 0 \r\nL 684 794 \r\nz\r\n\" id=\"DejaVuSans-2e\" transform=\"scale(0.015625)\"/>\r\n       </defs>\r\n       <use xlink:href=\"#DejaVuSans-33\"/>\r\n       <use x=\"63.623047\" xlink:href=\"#DejaVuSans-2e\"/>\r\n       <use x=\"95.410156\" xlink:href=\"#DejaVuSans-34\"/>\r\n      </g>\r\n     </g>\r\n    </g>\r\n    <g id=\"ytick_2\">\r\n     <g id=\"line2d_12\">\r\n      <g>\r\n       <use style=\"stroke:#000000;stroke-width:0.8;\" x=\"44.059375\" xlink:href=\"#m4612e7abbe\" y=\"711.696475\"/>\r\n      </g>\r\n     </g>\r\n     <g id=\"text_13\">\r\n      <!-- 3.6 -->\r\n      <g transform=\"translate(21.15625 715.495694)scale(0.1 -0.1)\">\r\n       <use xlink:href=\"#DejaVuSans-33\"/>\r\n       <use x=\"63.623047\" xlink:href=\"#DejaVuSans-2e\"/>\r\n       <use x=\"95.410156\" xlink:href=\"#DejaVuSans-36\"/>\r\n      </g>\r\n     </g>\r\n    </g>\r\n    <g id=\"ytick_3\">\r\n     <g id=\"line2d_13\">\r\n      <g>\r\n       <use style=\"stroke:#000000;stroke-width:0.8;\" x=\"44.059375\" xlink:href=\"#m4612e7abbe\" y=\"588.192787\"/>\r\n      </g>\r\n     </g>\r\n     <g id=\"text_14\">\r\n      <!-- 3.8 -->\r\n      <g transform=\"translate(21.15625 591.992006)scale(0.1 -0.1)\">\r\n       <use xlink:href=\"#DejaVuSans-33\"/>\r\n       <use x=\"63.623047\" xlink:href=\"#DejaVuSans-2e\"/>\r\n       <use x=\"95.410156\" xlink:href=\"#DejaVuSans-38\"/>\r\n      </g>\r\n     </g>\r\n    </g>\r\n    <g id=\"ytick_4\">\r\n     <g id=\"line2d_14\">\r\n      <g>\r\n       <use style=\"stroke:#000000;stroke-width:0.8;\" x=\"44.059375\" xlink:href=\"#m4612e7abbe\" y=\"464.689099\"/>\r\n      </g>\r\n     </g>\r\n     <g id=\"text_15\">\r\n      <!-- 4.0 -->\r\n      <g transform=\"translate(21.15625 468.488318)scale(0.1 -0.1)\">\r\n       <use xlink:href=\"#DejaVuSans-34\"/>\r\n       <use x=\"63.623047\" xlink:href=\"#DejaVuSans-2e\"/>\r\n       <use x=\"95.410156\" xlink:href=\"#DejaVuSans-30\"/>\r\n      </g>\r\n     </g>\r\n    </g>\r\n    <g id=\"ytick_5\">\r\n     <g id=\"line2d_15\">\r\n      <g>\r\n       <use style=\"stroke:#000000;stroke-width:0.8;\" x=\"44.059375\" xlink:href=\"#m4612e7abbe\" y=\"341.185411\"/>\r\n      </g>\r\n     </g>\r\n     <g id=\"text_16\">\r\n      <!-- 4.2 -->\r\n      <g transform=\"translate(21.15625 344.98463)scale(0.1 -0.1)\">\r\n       <use xlink:href=\"#DejaVuSans-34\"/>\r\n       <use x=\"63.623047\" xlink:href=\"#DejaVuSans-2e\"/>\r\n       <use x=\"95.410156\" xlink:href=\"#DejaVuSans-32\"/>\r\n      </g>\r\n     </g>\r\n    </g>\r\n    <g id=\"ytick_6\">\r\n     <g id=\"line2d_16\">\r\n      <g>\r\n       <use style=\"stroke:#000000;stroke-width:0.8;\" x=\"44.059375\" xlink:href=\"#m4612e7abbe\" y=\"217.681723\"/>\r\n      </g>\r\n     </g>\r\n     <g id=\"text_17\">\r\n      <!-- 4.4 -->\r\n      <g transform=\"translate(21.15625 221.480942)scale(0.1 -0.1)\">\r\n       <use xlink:href=\"#DejaVuSans-34\"/>\r\n       <use x=\"63.623047\" xlink:href=\"#DejaVuSans-2e\"/>\r\n       <use x=\"95.410156\" xlink:href=\"#DejaVuSans-34\"/>\r\n      </g>\r\n     </g>\r\n    </g>\r\n    <g id=\"ytick_7\">\r\n     <g id=\"line2d_17\">\r\n      <g>\r\n       <use style=\"stroke:#000000;stroke-width:0.8;\" x=\"44.059375\" xlink:href=\"#m4612e7abbe\" y=\"94.178035\"/>\r\n      </g>\r\n     </g>\r\n     <g id=\"text_18\">\r\n      <!-- 4.6 -->\r\n      <g transform=\"translate(21.15625 97.977254)scale(0.1 -0.1)\">\r\n       <use xlink:href=\"#DejaVuSans-34\"/>\r\n       <use x=\"63.623047\" xlink:href=\"#DejaVuSans-2e\"/>\r\n       <use x=\"95.410156\" xlink:href=\"#DejaVuSans-36\"/>\r\n      </g>\r\n     </g>\r\n    </g>\r\n    <g id=\"text_19\">\r\n     <!-- avg_word_len -->\r\n     <g transform=\"translate(14.798438 476.202656)rotate(-90)scale(0.1 -0.1)\">\r\n      <defs>\r\n       <path d=\"M 191 3500 \r\nL 800 3500 \r\nL 1894 563 \r\nL 2988 3500 \r\nL 3597 3500 \r\nL 2284 0 \r\nL 1503 0 \r\nL 191 3500 \r\nz\r\n\" id=\"DejaVuSans-76\" transform=\"scale(0.015625)\"/>\r\n       <path d=\"M 2906 1791 \r\nQ 2906 2416 2648 2759 \r\nQ 2391 3103 1925 3103 \r\nQ 1463 3103 1205 2759 \r\nQ 947 2416 947 1791 \r\nQ 947 1169 1205 825 \r\nQ 1463 481 1925 481 \r\nQ 2391 481 2648 825 \r\nQ 2906 1169 2906 1791 \r\nz\r\nM 3481 434 \r\nQ 3481 -459 3084 -895 \r\nQ 2688 -1331 1869 -1331 \r\nQ 1566 -1331 1297 -1286 \r\nQ 1028 -1241 775 -1147 \r\nL 775 -588 \r\nQ 1028 -725 1275 -790 \r\nQ 1522 -856 1778 -856 \r\nQ 2344 -856 2625 -561 \r\nQ 2906 -266 2906 331 \r\nL 2906 616 \r\nQ 2728 306 2450 153 \r\nQ 2172 0 1784 0 \r\nQ 1141 0 747 490 \r\nQ 353 981 353 1791 \r\nQ 353 2603 747 3093 \r\nQ 1141 3584 1784 3584 \r\nQ 2172 3584 2450 3431 \r\nQ 2728 3278 2906 2969 \r\nL 2906 3500 \r\nL 3481 3500 \r\nL 3481 434 \r\nz\r\n\" id=\"DejaVuSans-67\" transform=\"scale(0.015625)\"/>\r\n       <path d=\"M 3263 -1063 \r\nL 3263 -1509 \r\nL -63 -1509 \r\nL -63 -1063 \r\nL 3263 -1063 \r\nz\r\n\" id=\"DejaVuSans-5f\" transform=\"scale(0.015625)\"/>\r\n       <path d=\"M 269 3500 \r\nL 844 3500 \r\nL 1563 769 \r\nL 2278 3500 \r\nL 2956 3500 \r\nL 3675 769 \r\nL 4391 3500 \r\nL 4966 3500 \r\nL 4050 0 \r\nL 3372 0 \r\nL 2619 2869 \r\nL 1863 0 \r\nL 1184 0 \r\nL 269 3500 \r\nz\r\n\" id=\"DejaVuSans-77\" transform=\"scale(0.015625)\"/>\r\n       <path d=\"M 1959 3097 \r\nQ 1497 3097 1228 2736 \r\nQ 959 2375 959 1747 \r\nQ 959 1119 1226 758 \r\nQ 1494 397 1959 397 \r\nQ 2419 397 2687 759 \r\nQ 2956 1122 2956 1747 \r\nQ 2956 2369 2687 2733 \r\nQ 2419 3097 1959 3097 \r\nz\r\nM 1959 3584 \r\nQ 2709 3584 3137 3096 \r\nQ 3566 2609 3566 1747 \r\nQ 3566 888 3137 398 \r\nQ 2709 -91 1959 -91 \r\nQ 1206 -91 779 398 \r\nQ 353 888 353 1747 \r\nQ 353 2609 779 3096 \r\nQ 1206 3584 1959 3584 \r\nz\r\n\" id=\"DejaVuSans-6f\" transform=\"scale(0.015625)\"/>\r\n       <path d=\"M 2906 2969 \r\nL 2906 4863 \r\nL 3481 4863 \r\nL 3481 0 \r\nL 2906 0 \r\nL 2906 525 \r\nQ 2725 213 2448 61 \r\nQ 2172 -91 1784 -91 \r\nQ 1150 -91 751 415 \r\nQ 353 922 353 1747 \r\nQ 353 2572 751 3078 \r\nQ 1150 3584 1784 3584 \r\nQ 2172 3584 2448 3432 \r\nQ 2725 3281 2906 2969 \r\nz\r\nM 947 1747 \r\nQ 947 1113 1208 752 \r\nQ 1469 391 1925 391 \r\nQ 2381 391 2643 752 \r\nQ 2906 1113 2906 1747 \r\nQ 2906 2381 2643 2742 \r\nQ 2381 3103 1925 3103 \r\nQ 1469 3103 1208 2742 \r\nQ 947 2381 947 1747 \r\nz\r\n\" id=\"DejaVuSans-64\" transform=\"scale(0.015625)\"/>\r\n       <path d=\"M 603 4863 \r\nL 1178 4863 \r\nL 1178 0 \r\nL 603 0 \r\nL 603 4863 \r\nz\r\n\" id=\"DejaVuSans-6c\" transform=\"scale(0.015625)\"/>\r\n       <path d=\"M 3513 2113 \r\nL 3513 0 \r\nL 2938 0 \r\nL 2938 2094 \r\nQ 2938 2591 2744 2837 \r\nQ 2550 3084 2163 3084 \r\nQ 1697 3084 1428 2787 \r\nQ 1159 2491 1159 1978 \r\nL 1159 0 \r\nL 581 0 \r\nL 581 3500 \r\nL 1159 3500 \r\nL 1159 2956 \r\nQ 1366 3272 1645 3428 \r\nQ 1925 3584 2291 3584 \r\nQ 2894 3584 3203 3211 \r\nQ 3513 2838 3513 2113 \r\nz\r\n\" id=\"DejaVuSans-6e\" transform=\"scale(0.015625)\"/>\r\n      </defs>\r\n      <use xlink:href=\"#DejaVuSans-61\"/>\r\n      <use x=\"61.279297\" xlink:href=\"#DejaVuSans-76\"/>\r\n      <use x=\"120.458984\" xlink:href=\"#DejaVuSans-67\"/>\r\n      <use x=\"183.935547\" xlink:href=\"#DejaVuSans-5f\"/>\r\n      <use x=\"233.935547\" xlink:href=\"#DejaVuSans-77\"/>\r\n      <use x=\"315.722656\" xlink:href=\"#DejaVuSans-6f\"/>\r\n      <use x=\"376.904297\" xlink:href=\"#DejaVuSans-72\"/>\r\n      <use x=\"416.267578\" xlink:href=\"#DejaVuSans-64\"/>\r\n      <use x=\"479.744141\" xlink:href=\"#DejaVuSans-5f\"/>\r\n      <use x=\"529.744141\" xlink:href=\"#DejaVuSans-6c\"/>\r\n      <use x=\"557.527344\" xlink:href=\"#DejaVuSans-65\"/>\r\n      <use x=\"619.050781\" xlink:href=\"#DejaVuSans-6e\"/>\r\n     </g>\r\n    </g>\r\n   </g>\r\n   <g id=\"line2d_18\">\r\n    <path clip-path=\"url(#pea7b608c82)\" d=\"M 120.150284 366.915346 \r\nL 163.603592 582.481634 \r\nL 207.0569 175.561968 \r\nL 294.082566 469.26331 \r\nL 380.989182 660.591501 \r\nL 554.921465 476.641069 \r\nL 598.374773 582.481634 \r\nL 641.947131 190.236459 \r\nL 685.400439 574.041323 \r\nL 728.853747 181.856226 \r\nL 772.307055 181.856226 \r\nL 815.879413 494.094739 \r\nL 859.332721 642.915966 \r\nL 902.786029 46.734545 \r\nL 946.239337 574.041323 \r\nL 989.811695 666.570127 \r\nL 1033.265003 837.425455 \r\nL 1076.718311 573.906827 \r\nL 1120.171619 446.057077 \r\nL 1163.743977 561.727711 \r\nL 1207.197285 464.689099 \r\nL 1250.650593 581.859265 \r\nL 1294.103901 457.903182 \r\nL 1337.67626 679.576468 \r\nL 1424.582876 663.255099 \r\nL 1468.036184 527.754812 \r\nL 1511.608542 289.725541 \r\nL 1555.06185 305.468317 \r\nL 1598.515158 665.343705 \r\nL 1641.968466 673.134142 \r\n\" style=\"fill:none;stroke:#1f77b4;stroke-linecap:square;stroke-width:1.5;\"/>\r\n   </g>\r\n   <g id=\"patch_3\">\r\n    <path d=\"M 44.059375 876.96 \r\nL 44.059375 7.2 \r\n\" style=\"fill:none;stroke:#000000;stroke-linecap:square;stroke-linejoin:miter;stroke-width:0.8;\"/>\r\n   </g>\r\n   <g id=\"patch_4\">\r\n    <path d=\"M 1718.059375 876.96 \r\nL 1718.059375 7.2 \r\n\" style=\"fill:none;stroke:#000000;stroke-linecap:square;stroke-linejoin:miter;stroke-width:0.8;\"/>\r\n   </g>\r\n   <g id=\"patch_5\">\r\n    <path d=\"M 44.059375 876.96 \r\nL 1718.059375 876.96 \r\n\" style=\"fill:none;stroke:#000000;stroke-linecap:square;stroke-linejoin:miter;stroke-width:0.8;\"/>\r\n   </g>\r\n   <g id=\"patch_6\">\r\n    <path d=\"M 44.059375 7.2 \r\nL 1718.059375 7.2 \r\n\" style=\"fill:none;stroke:#000000;stroke-linecap:square;stroke-linejoin:miter;stroke-width:0.8;\"/>\r\n   </g>\r\n  </g>\r\n </g>\r\n <defs>\r\n  <clipPath id=\"pea7b608c82\">\r\n   <rect height=\"869.76\" width=\"1674\" x=\"44.059375\" y=\"7.2\"/>\r\n  </clipPath>\r\n </defs>\r\n</svg>\r\n",
      "image/png": "[encoded data removed]"
     },
     "metadata": {
      "needs_background": "light"
     }
    }
   ],
   "source": [
    "# Avg word length vs year\n",
    "sns.lineplot(x = \"year\", y = \"avg_word_len\", data = df_lyrics)"
   ]
  },
  {
   "source": [
    "## Vectorizing with CountVectorizer"
   ],
   "cell_type": "markdown",
   "metadata": {}
  },
  {
   "cell_type": "code",
   "execution_count": 18,
   "metadata": {},
   "outputs": [
    {
     "output_type": "execute_result",
     "data": {
      "text/plain": [
       "['Stand up for Singapore, do the best you can Reach out for your fellow man You’ve got to make a stand Recognise you can play your part Let it come right from your heart Be prepared to give a little more Stand up, stand up for Singapore Stand up for Singapore, do it with a smile If you stand up for Singapore You’ll find it all worthwhile Believe in yourself, you’ve got something to share So show us all you really care Be prepared to give a little more Stand up, stand up for Singapore Singapore our home and nation Together with determination Join in like we’ve never done before Stand up, stand up for Singapore',\n",
       " 'We have a vision for tomorrow, just believe, just believe We have a goal for Singapore, we can achieve, we can achieve You and me, we’ll do our part, stand together, heart to heart We’re going to show the world what Singapore can be We can achieve, we can achieve There is something down the road that we can strive for We are told no dream’s too bold that we can’t try for There’s a spirit in the air, it’s a feeling we all share We’re going to build a better life, for you and me We can achieve, we can achieve Count on me Singapore, count on me to give my best and more You and me, we’ll do our part, stand together, heart to heart We’re going to show the world what Singapore can be We can achieve, we can achieve Count on me Singapore, Count on me Singapore Count on me to give my best and more, count on me Singapore',\n",
       " 'There was a time when people said That Singapore won’t make it, but we did There was a time when troubles seemed too much For us to take, but we did We built a nation, strong and free, reaching out together For peace and harmony This is my country, this is my flag This is my future, this is my life This is my family, these are my friends We are Singapore, Singaporeans Singapore our homeland, it’s here that we belong All of us united, one people marching on We’ve come so far together, our common destiny Singapore forever, a nation strong and free We the citizens of Singapore Pledge ourselves as one united people Regardless of race, language or religion To build a democratic society Based on justice and equality So as to achieve happiness Prosperity and progress for our nation We are Singapore, we are Singapore We will stand together, hear the lion roar We are Singapore, we are Singapore We’re a nation strong and free forevermore',\n",
       " \"There's a new moon arising, out of the stormy sea Youthful and bright and bearing hope, and tranquil as can be Reach out for the moon above, savour freedom, truth and love There's a new moon arising, out of the stormy sea There are five stars arising, out of the stormy sea Each is a lamp to guide our way; a lamp for all to see Reach out for the stars above, savour freedom, truth and love There are five stars arising, out of the stormy sea There's a new flag arising, out of the stormy sea Crimson as the blood of all mankind, yet white and pure and free Reach out for the flag above, savour freedom, truth and love There's a new flag arising, happy and proud are we\",\n",
       " \"Over the years, I've grown to be a part of you You've cared for me and opened the way to a happy and beautiful life You make me feel warm and safe and give me hope for brighter days It's the little things that we share, the love and joy that's in the air The children's laughter everywhere, and all our favourite things Over the years, I've grown accustomed to your ways And no matter where I'll be, it warms my heart to know that You're always here for me Over the years, I've learnt we share a destiny And no matter how good others may be No one cares like you care for me Cause deep down inside I feel you're a part of me My Singapore, the place that I call my Home\"]"
      ]
     },
     "metadata": {},
     "execution_count": 18
    }
   ],
   "source": [
    "corpus = df_lyrics[\"lyrics\"].tolist()\n",
    "corpus[:5]"
   ]
  },
  {
   "cell_type": "code",
   "execution_count": 72,
   "metadata": {},
   "outputs": [
    {
     "output_type": "stream",
     "name": "stderr",
     "text": [
      "[nltk_data] Downloading package stopwords to\n[nltk_data]     C:\\Users\\Tristan\\AppData\\Roaming\\nltk_data...\n[nltk_data]   Package stopwords is already up-to-date!\n"
     ]
    },
    {
     "output_type": "execute_result",
     "data": {
      "text/plain": [
       "True"
      ]
     },
     "metadata": {},
     "execution_count": 72
    }
   ],
   "source": [
    "# Use nltk stopwords\n",
    "import nltk\n",
    "from nltk.corpus import stopwords\n",
    "nltk.download('stopwords')"
   ]
  },
  {
   "cell_type": "code",
   "execution_count": 20,
   "metadata": {},
   "outputs": [],
   "source": [
    "from sklearn.feature_extraction.text import CountVectorizer\n",
    "vectorizer = CountVectorizer(stop_words=stopwords.words('english'))\n",
    "dtm = vectorizer.fit_transform(corpus)"
   ]
  },
  {
   "cell_type": "code",
   "execution_count": 21,
   "metadata": {},
   "outputs": [
    {
     "output_type": "execute_result",
     "data": {
      "text/plain": [
       "<31x632 sparse matrix of type '<class 'numpy.int64'>'\n",
       "\twith 1575 stored elements in Compressed Sparse Row format>"
      ]
     },
     "metadata": {},
     "execution_count": 21
    }
   ],
   "source": [
    "# Document term matrix\n",
    "dtm"
   ]
  },
  {
   "source": [
    "## Creating dataframes that match the word to the frequency of the word, both for the DTM and TF"
   ],
   "cell_type": "markdown",
   "metadata": {}
  },
  {
   "cell_type": "code",
   "execution_count": 22,
   "metadata": {},
   "outputs": [],
   "source": [
    "import numpy as np"
   ]
  },
  {
   "cell_type": "code",
   "execution_count": 23,
   "metadata": {},
   "outputs": [
    {
     "output_type": "stream",
     "name": "stdout",
     "text": [
      "(1, 632)\n"
     ]
    }
   ],
   "source": [
    "tf_array = np.asarray(dtm.sum(axis=0))\n",
    "print(tf_array.shape)"
   ]
  },
  {
   "cell_type": "code",
   "execution_count": 24,
   "metadata": {},
   "outputs": [],
   "source": [
    "# Sort vocab dictionary by index\n",
    "vocab_dict = vectorizer.vocabulary_\n",
    "vocab_dict = dict(sorted(vocab_dict.items(), key = lambda x : x[1]))"
   ]
  },
  {
   "cell_type": "code",
   "execution_count": 25,
   "metadata": {},
   "outputs": [],
   "source": [
    "# Convert dtm and tf to pandas df\n",
    "df_dtm = pd.DataFrame.sparse.from_spmatrix(dtm)\n",
    "df_dtm.columns = list(vocab_dict.keys())\n",
    "df_dtm[\"year\"] = df_lyrics[\"year\"]"
   ]
  },
  {
   "cell_type": "code",
   "execution_count": 26,
   "metadata": {},
   "outputs": [
    {
     "output_type": "execute_result",
     "data": {
      "text/plain": [
       "   accustomed  achieve  across  add  afraid  ago  ahead  air  alight  alive  \\\n",
       "0           0        0       0    0       0    0      0    0       0      0   \n",
       "1           0        8       0    0       0    0      0    1       0      0   \n",
       "2           0        1       0    0       0    0      0    0       0      0   \n",
       "3           0        0       0    0       0    0      0    0       0      0   \n",
       "4           1        0       0    0       0    0      0    1       0      0   \n",
       "\n",
       "   ...  yeah  yearning  years  yet  yo  youll  young  youre  youthful  \\\n",
       "0  ...     0         0      0    0   0      0      0      0         0   \n",
       "1  ...     0         0      0    0   0      0      0      0         0   \n",
       "2  ...     0         0      0    0   0      0      0      0         0   \n",
       "3  ...     0         0      0    1   0      0      0      0         1   \n",
       "4  ...     0         0      3    0   0      0      0      0         0   \n",
       "\n",
       "        year  \n",
       "0 1985-01-01  \n",
       "1 1986-01-01  \n",
       "2 1987-01-01  \n",
       "3 1989-01-01  \n",
       "4 1991-01-01  \n",
       "\n",
       "[5 rows x 633 columns]"
      ],
      "text/html": "<div>\n<style scoped>\n    .dataframe tbody tr th:only-of-type {\n        vertical-align: middle;\n    }\n\n    .dataframe tbody tr th {\n        vertical-align: top;\n    }\n\n    .dataframe thead th {\n        text-align: right;\n    }\n</style>\n<table border=\"1\" class=\"dataframe\">\n  <thead>\n    <tr style=\"text-align: right;\">\n      <th></th>\n      <th>accustomed</th>\n      <th>achieve</th>\n      <th>across</th>\n      <th>add</th>\n      <th>afraid</th>\n      <th>ago</th>\n      <th>ahead</th>\n      <th>air</th>\n      <th>alight</th>\n      <th>alive</th>\n      <th>...</th>\n      <th>yeah</th>\n      <th>yearning</th>\n      <th>years</th>\n      <th>yet</th>\n      <th>yo</th>\n      <th>youll</th>\n      <th>young</th>\n      <th>youre</th>\n      <th>youthful</th>\n      <th>year</th>\n    </tr>\n  </thead>\n  <tbody>\n    <tr>\n      <th>0</th>\n      <td>0</td>\n      <td>0</td>\n      <td>0</td>\n      <td>0</td>\n      <td>0</td>\n      <td>0</td>\n      <td>0</td>\n      <td>0</td>\n      <td>0</td>\n      <td>0</td>\n      <td>...</td>\n      <td>0</td>\n      <td>0</td>\n      <td>0</td>\n      <td>0</td>\n      <td>0</td>\n      <td>0</td>\n      <td>0</td>\n      <td>0</td>\n      <td>0</td>\n      <td>1985-01-01</td>\n    </tr>\n    <tr>\n      <th>1</th>\n      <td>0</td>\n      <td>8</td>\n      <td>0</td>\n      <td>0</td>\n      <td>0</td>\n      <td>0</td>\n      <td>0</td>\n      <td>1</td>\n      <td>0</td>\n      <td>0</td>\n      <td>...</td>\n      <td>0</td>\n      <td>0</td>\n      <td>0</td>\n      <td>0</td>\n      <td>0</td>\n      <td>0</td>\n      <td>0</td>\n      <td>0</td>\n      <td>0</td>\n      <td>1986-01-01</td>\n    </tr>\n    <tr>\n      <th>2</th>\n      <td>0</td>\n      <td>1</td>\n      <td>0</td>\n      <td>0</td>\n      <td>0</td>\n      <td>0</td>\n      <td>0</td>\n      <td>0</td>\n      <td>0</td>\n      <td>0</td>\n      <td>...</td>\n      <td>0</td>\n      <td>0</td>\n      <td>0</td>\n      <td>0</td>\n      <td>0</td>\n      <td>0</td>\n      <td>0</td>\n      <td>0</td>\n      <td>0</td>\n      <td>1987-01-01</td>\n    </tr>\n    <tr>\n      <th>3</th>\n      <td>0</td>\n      <td>0</td>\n      <td>0</td>\n      <td>0</td>\n      <td>0</td>\n      <td>0</td>\n      <td>0</td>\n      <td>0</td>\n      <td>0</td>\n      <td>0</td>\n      <td>...</td>\n      <td>0</td>\n      <td>0</td>\n      <td>0</td>\n      <td>1</td>\n      <td>0</td>\n      <td>0</td>\n      <td>0</td>\n      <td>0</td>\n      <td>1</td>\n      <td>1989-01-01</td>\n    </tr>\n    <tr>\n      <th>4</th>\n      <td>1</td>\n      <td>0</td>\n      <td>0</td>\n      <td>0</td>\n      <td>0</td>\n      <td>0</td>\n      <td>0</td>\n      <td>1</td>\n      <td>0</td>\n      <td>0</td>\n      <td>...</td>\n      <td>0</td>\n      <td>0</td>\n      <td>3</td>\n      <td>0</td>\n      <td>0</td>\n      <td>0</td>\n      <td>0</td>\n      <td>0</td>\n      <td>0</td>\n      <td>1991-01-01</td>\n    </tr>\n  </tbody>\n</table>\n<p>5 rows × 633 columns</p>\n</div>"
     },
     "metadata": {},
     "execution_count": 26
    }
   ],
   "source": [
    "df_dtm.head()"
   ]
  },
  {
   "cell_type": "code",
   "execution_count": 27,
   "metadata": {},
   "outputs": [
    {
     "output_type": "execute_result",
     "data": {
      "text/plain": [
       "         word  freq\n",
       "0  accustomed     1\n",
       "1     achieve    32\n",
       "2      across     1\n",
       "3         add     1\n",
       "4      afraid     3"
      ],
      "text/html": "<div>\n<style scoped>\n    .dataframe tbody tr th:only-of-type {\n        vertical-align: middle;\n    }\n\n    .dataframe tbody tr th {\n        vertical-align: top;\n    }\n\n    .dataframe thead th {\n        text-align: right;\n    }\n</style>\n<table border=\"1\" class=\"dataframe\">\n  <thead>\n    <tr style=\"text-align: right;\">\n      <th></th>\n      <th>word</th>\n      <th>freq</th>\n    </tr>\n  </thead>\n  <tbody>\n    <tr>\n      <th>0</th>\n      <td>accustomed</td>\n      <td>1</td>\n    </tr>\n    <tr>\n      <th>1</th>\n      <td>achieve</td>\n      <td>32</td>\n    </tr>\n    <tr>\n      <th>2</th>\n      <td>across</td>\n      <td>1</td>\n    </tr>\n    <tr>\n      <th>3</th>\n      <td>add</td>\n      <td>1</td>\n    </tr>\n    <tr>\n      <th>4</th>\n      <td>afraid</td>\n      <td>3</td>\n    </tr>\n  </tbody>\n</table>\n</div>"
     },
     "metadata": {},
     "execution_count": 27
    }
   ],
   "source": [
    "df_tf = pd.DataFrame(data = {\"word\" : list(vocab_dict.keys()), \"freq\" : tf_array[0, ]})\n",
    "df_tf.head()"
   ]
  },
  {
   "cell_type": "code",
   "execution_count": 28,
   "metadata": {},
   "outputs": [
    {
     "output_type": "execute_result",
     "data": {
      "text/plain": [
       "          word  freq\n",
       "347         oh   178\n",
       "448  singapore   107\n",
       "538   together    63\n",
       "254       home    48\n",
       "351        one    48\n",
       "241      heart    39\n",
       "101       come    33\n",
       "423        see    33\n",
       "1      achieve    32\n",
       "232       hand    31"
      ],
      "text/html": "<div>\n<style scoped>\n    .dataframe tbody tr th:only-of-type {\n        vertical-align: middle;\n    }\n\n    .dataframe tbody tr th {\n        vertical-align: top;\n    }\n\n    .dataframe thead th {\n        text-align: right;\n    }\n</style>\n<table border=\"1\" class=\"dataframe\">\n  <thead>\n    <tr style=\"text-align: right;\">\n      <th></th>\n      <th>word</th>\n      <th>freq</th>\n    </tr>\n  </thead>\n  <tbody>\n    <tr>\n      <th>347</th>\n      <td>oh</td>\n      <td>178</td>\n    </tr>\n    <tr>\n      <th>448</th>\n      <td>singapore</td>\n      <td>107</td>\n    </tr>\n    <tr>\n      <th>538</th>\n      <td>together</td>\n      <td>63</td>\n    </tr>\n    <tr>\n      <th>254</th>\n      <td>home</td>\n      <td>48</td>\n    </tr>\n    <tr>\n      <th>351</th>\n      <td>one</td>\n      <td>48</td>\n    </tr>\n    <tr>\n      <th>241</th>\n      <td>heart</td>\n      <td>39</td>\n    </tr>\n    <tr>\n      <th>101</th>\n      <td>come</td>\n      <td>33</td>\n    </tr>\n    <tr>\n      <th>423</th>\n      <td>see</td>\n      <td>33</td>\n    </tr>\n    <tr>\n      <th>1</th>\n      <td>achieve</td>\n      <td>32</td>\n    </tr>\n    <tr>\n      <th>232</th>\n      <td>hand</td>\n      <td>31</td>\n    </tr>\n  </tbody>\n</table>\n</div>"
     },
     "metadata": {},
     "execution_count": 28
    }
   ],
   "source": [
    "df_tf = df_tf.sort_values(by = \"freq\", ascending=False)\n",
    "df_tf.head(10)"
   ]
  },
  {
   "source": [
    "## Visualising counts of words per document and across all 31 documents"
   ],
   "cell_type": "markdown",
   "metadata": {}
  },
  {
   "cell_type": "code",
   "execution_count": 29,
   "metadata": {},
   "outputs": [
    {
     "output_type": "execute_result",
     "data": {
      "text/plain": [
       "<AxesSubplot:xlabel='word', ylabel='freq'>"
      ]
     },
     "metadata": {},
     "execution_count": 29
    },
    {
     "output_type": "display_data",
     "data": {
      "text/plain": "<Figure size 2160x1152 with 1 Axes>",
      "image/svg+xml": "<?xml version=\"1.0\" encoding=\"utf-8\" standalone=\"no\"?>\r\n<!DOCTYPE svg PUBLIC \"-//W3C//DTD SVG 1.1//EN\"\r\n  \"http://www.w3.org/Graphics/SVG/1.1/DTD/svg11.dtd\">\r\n<svg height=\"914.51625pt\" version=\"1.1\" viewBox=\"0 0 1728.165625 914.51625\" width=\"1728.165625pt\" xmlns=\"http://www.w3.org/2000/svg\" xmlns:xlink=\"http://www.w3.org/1999/xlink\">\r\n <metadata>\r\n  <rdf:RDF xmlns:cc=\"http://creativecommons.org/ns#\" xmlns:dc=\"http://purl.org/dc/elements/1.1/\" xmlns:rdf=\"http://www.w3.org/1999/02/22-rdf-syntax-ns#\">\r\n   <cc:Work>\r\n    <dc:type rdf:resource=\"http://purl.org/dc/dcmitype/StillImage\"/>\r\n    <dc:date>2021-06-12T21:17:07.803659</dc:date>\r\n    <dc:format>image/svg+xml</dc:format>\r\n    <dc:creator>\r\n     <cc:Agent>\r\n      <dc:title>Matplotlib v3.4.2, https://matplotlib.org/</dc:title>\r\n     </cc:Agent>\r\n    </dc:creator>\r\n   </cc:Work>\r\n  </rdf:RDF>\r\n </metadata>\r\n <defs>\r\n  <style type=\"text/css\">*{stroke-linecap:butt;stroke-linejoin:round;}</style>\r\n </defs>\r\n <g id=\"figure_1\">\r\n  <g id=\"patch_1\">\r\n   <path d=\"M 0 914.51625 \r\nL 1728.165625 914.51625 \r\nL 1728.165625 0 \r\nL 0 0 \r\nz\r\n\" style=\"fill:none;\"/>\r\n  </g>\r\n  <g id=\"axes_1\">\r\n   <g id=\"patch_2\">\r\n    <path d=\"M 46.965625 876.96 \r\nL 1720.965625 876.96 \r\nL 1720.965625 7.2 \r\nL 46.965625 7.2 \r\nz\r\n\" style=\"fill:#ffffff;\"/>\r\n   </g>\r\n   <g id=\"matplotlib.axis_1\">\r\n    <g id=\"xtick_1\">\r\n     <g id=\"line2d_1\">\r\n      <defs>\r\n       <path d=\"M 0 0 \r\nL 0 3.5 \r\n\" id=\"m6284214561\" style=\"stroke:#000000;stroke-width:0.8;\"/>\r\n      </defs>\r\n      <g>\r\n       <use style=\"stroke:#000000;stroke-width:0.8;\" x=\"123.056534\" xlink:href=\"#m6284214561\" y=\"876.96\"/>\r\n      </g>\r\n     </g>\r\n     <g id=\"text_1\">\r\n      <!-- oh -->\r\n      <g transform=\"translate(116.828409 891.558437)scale(0.1 -0.1)\">\r\n       <defs>\r\n        <path d=\"M 1959 3097 \r\nQ 1497 3097 1228 2736 \r\nQ 959 2375 959 1747 \r\nQ 959 1119 1226 758 \r\nQ 1494 397 1959 397 \r\nQ 2419 397 2687 759 \r\nQ 2956 1122 2956 1747 \r\nQ 2956 2369 2687 2733 \r\nQ 2419 3097 1959 3097 \r\nz\r\nM 1959 3584 \r\nQ 2709 3584 3137 3096 \r\nQ 3566 2609 3566 1747 \r\nQ 3566 888 3137 398 \r\nQ 2709 -91 1959 -91 \r\nQ 1206 -91 779 398 \r\nQ 353 888 353 1747 \r\nQ 353 2609 779 3096 \r\nQ 1206 3584 1959 3584 \r\nz\r\n\" id=\"DejaVuSans-6f\" transform=\"scale(0.015625)\"/>\r\n        <path d=\"M 3513 2113 \r\nL 3513 0 \r\nL 2938 0 \r\nL 2938 2094 \r\nQ 2938 2591 2744 2837 \r\nQ 2550 3084 2163 3084 \r\nQ 1697 3084 1428 2787 \r\nQ 1159 2491 1159 1978 \r\nL 1159 0 \r\nL 581 0 \r\nL 581 4863 \r\nL 1159 4863 \r\nL 1159 2956 \r\nQ 1366 3272 1645 3428 \r\nQ 1925 3584 2291 3584 \r\nQ 2894 3584 3203 3211 \r\nQ 3513 2838 3513 2113 \r\nz\r\n\" id=\"DejaVuSans-68\" transform=\"scale(0.015625)\"/>\r\n       </defs>\r\n       <use xlink:href=\"#DejaVuSans-6f\"/>\r\n       <use x=\"61.181641\" xlink:href=\"#DejaVuSans-68\"/>\r\n      </g>\r\n     </g>\r\n    </g>\r\n    <g id=\"xtick_2\">\r\n     <g id=\"line2d_2\">\r\n      <g>\r\n       <use style=\"stroke:#000000;stroke-width:0.8;\" x=\"175.533023\" xlink:href=\"#m6284214561\" y=\"876.96\"/>\r\n      </g>\r\n     </g>\r\n     <g id=\"text_2\">\r\n      <!-- singapore -->\r\n      <g transform=\"translate(150.879117 891.558437)scale(0.1 -0.1)\">\r\n       <defs>\r\n        <path d=\"M 2834 3397 \r\nL 2834 2853 \r\nQ 2591 2978 2328 3040 \r\nQ 2066 3103 1784 3103 \r\nQ 1356 3103 1142 2972 \r\nQ 928 2841 928 2578 \r\nQ 928 2378 1081 2264 \r\nQ 1234 2150 1697 2047 \r\nL 1894 2003 \r\nQ 2506 1872 2764 1633 \r\nQ 3022 1394 3022 966 \r\nQ 3022 478 2636 193 \r\nQ 2250 -91 1575 -91 \r\nQ 1294 -91 989 -36 \r\nQ 684 19 347 128 \r\nL 347 722 \r\nQ 666 556 975 473 \r\nQ 1284 391 1588 391 \r\nQ 1994 391 2212 530 \r\nQ 2431 669 2431 922 \r\nQ 2431 1156 2273 1281 \r\nQ 2116 1406 1581 1522 \r\nL 1381 1569 \r\nQ 847 1681 609 1914 \r\nQ 372 2147 372 2553 \r\nQ 372 3047 722 3315 \r\nQ 1072 3584 1716 3584 \r\nQ 2034 3584 2315 3537 \r\nQ 2597 3491 2834 3397 \r\nz\r\n\" id=\"DejaVuSans-73\" transform=\"scale(0.015625)\"/>\r\n        <path d=\"M 603 3500 \r\nL 1178 3500 \r\nL 1178 0 \r\nL 603 0 \r\nL 603 3500 \r\nz\r\nM 603 4863 \r\nL 1178 4863 \r\nL 1178 4134 \r\nL 603 4134 \r\nL 603 4863 \r\nz\r\n\" id=\"DejaVuSans-69\" transform=\"scale(0.015625)\"/>\r\n        <path d=\"M 3513 2113 \r\nL 3513 0 \r\nL 2938 0 \r\nL 2938 2094 \r\nQ 2938 2591 2744 2837 \r\nQ 2550 3084 2163 3084 \r\nQ 1697 3084 1428 2787 \r\nQ 1159 2491 1159 1978 \r\nL 1159 0 \r\nL 581 0 \r\nL 581 3500 \r\nL 1159 3500 \r\nL 1159 2956 \r\nQ 1366 3272 1645 3428 \r\nQ 1925 3584 2291 3584 \r\nQ 2894 3584 3203 3211 \r\nQ 3513 2838 3513 2113 \r\nz\r\n\" id=\"DejaVuSans-6e\" transform=\"scale(0.015625)\"/>\r\n        <path d=\"M 2906 1791 \r\nQ 2906 2416 2648 2759 \r\nQ 2391 3103 1925 3103 \r\nQ 1463 3103 1205 2759 \r\nQ 947 2416 947 1791 \r\nQ 947 1169 1205 825 \r\nQ 1463 481 1925 481 \r\nQ 2391 481 2648 825 \r\nQ 2906 1169 2906 1791 \r\nz\r\nM 3481 434 \r\nQ 3481 -459 3084 -895 \r\nQ 2688 -1331 1869 -1331 \r\nQ 1566 -1331 1297 -1286 \r\nQ 1028 -1241 775 -1147 \r\nL 775 -588 \r\nQ 1028 -725 1275 -790 \r\nQ 1522 -856 1778 -856 \r\nQ 2344 -856 2625 -561 \r\nQ 2906 -266 2906 331 \r\nL 2906 616 \r\nQ 2728 306 2450 153 \r\nQ 2172 0 1784 0 \r\nQ 1141 0 747 490 \r\nQ 353 981 353 1791 \r\nQ 353 2603 747 3093 \r\nQ 1141 3584 1784 3584 \r\nQ 2172 3584 2450 3431 \r\nQ 2728 3278 2906 2969 \r\nL 2906 3500 \r\nL 3481 3500 \r\nL 3481 434 \r\nz\r\n\" id=\"DejaVuSans-67\" transform=\"scale(0.015625)\"/>\r\n        <path d=\"M 2194 1759 \r\nQ 1497 1759 1228 1600 \r\nQ 959 1441 959 1056 \r\nQ 959 750 1161 570 \r\nQ 1363 391 1709 391 \r\nQ 2188 391 2477 730 \r\nQ 2766 1069 2766 1631 \r\nL 2766 1759 \r\nL 2194 1759 \r\nz\r\nM 3341 1997 \r\nL 3341 0 \r\nL 2766 0 \r\nL 2766 531 \r\nQ 2569 213 2275 61 \r\nQ 1981 -91 1556 -91 \r\nQ 1019 -91 701 211 \r\nQ 384 513 384 1019 \r\nQ 384 1609 779 1909 \r\nQ 1175 2209 1959 2209 \r\nL 2766 2209 \r\nL 2766 2266 \r\nQ 2766 2663 2505 2880 \r\nQ 2244 3097 1772 3097 \r\nQ 1472 3097 1187 3025 \r\nQ 903 2953 641 2809 \r\nL 641 3341 \r\nQ 956 3463 1253 3523 \r\nQ 1550 3584 1831 3584 \r\nQ 2591 3584 2966 3190 \r\nQ 3341 2797 3341 1997 \r\nz\r\n\" id=\"DejaVuSans-61\" transform=\"scale(0.015625)\"/>\r\n        <path d=\"M 1159 525 \r\nL 1159 -1331 \r\nL 581 -1331 \r\nL 581 3500 \r\nL 1159 3500 \r\nL 1159 2969 \r\nQ 1341 3281 1617 3432 \r\nQ 1894 3584 2278 3584 \r\nQ 2916 3584 3314 3078 \r\nQ 3713 2572 3713 1747 \r\nQ 3713 922 3314 415 \r\nQ 2916 -91 2278 -91 \r\nQ 1894 -91 1617 61 \r\nQ 1341 213 1159 525 \r\nz\r\nM 3116 1747 \r\nQ 3116 2381 2855 2742 \r\nQ 2594 3103 2138 3103 \r\nQ 1681 3103 1420 2742 \r\nQ 1159 2381 1159 1747 \r\nQ 1159 1113 1420 752 \r\nQ 1681 391 2138 391 \r\nQ 2594 391 2855 752 \r\nQ 3116 1113 3116 1747 \r\nz\r\n\" id=\"DejaVuSans-70\" transform=\"scale(0.015625)\"/>\r\n        <path d=\"M 2631 2963 \r\nQ 2534 3019 2420 3045 \r\nQ 2306 3072 2169 3072 \r\nQ 1681 3072 1420 2755 \r\nQ 1159 2438 1159 1844 \r\nL 1159 0 \r\nL 581 0 \r\nL 581 3500 \r\nL 1159 3500 \r\nL 1159 2956 \r\nQ 1341 3275 1631 3429 \r\nQ 1922 3584 2338 3584 \r\nQ 2397 3584 2469 3576 \r\nQ 2541 3569 2628 3553 \r\nL 2631 2963 \r\nz\r\n\" id=\"DejaVuSans-72\" transform=\"scale(0.015625)\"/>\r\n        <path d=\"M 3597 1894 \r\nL 3597 1613 \r\nL 953 1613 \r\nQ 991 1019 1311 708 \r\nQ 1631 397 2203 397 \r\nQ 2534 397 2845 478 \r\nQ 3156 559 3463 722 \r\nL 3463 178 \r\nQ 3153 47 2828 -22 \r\nQ 2503 -91 2169 -91 \r\nQ 1331 -91 842 396 \r\nQ 353 884 353 1716 \r\nQ 353 2575 817 3079 \r\nQ 1281 3584 2069 3584 \r\nQ 2775 3584 3186 3129 \r\nQ 3597 2675 3597 1894 \r\nz\r\nM 3022 2063 \r\nQ 3016 2534 2758 2815 \r\nQ 2500 3097 2075 3097 \r\nQ 1594 3097 1305 2825 \r\nQ 1016 2553 972 2059 \r\nL 3022 2063 \r\nz\r\n\" id=\"DejaVuSans-65\" transform=\"scale(0.015625)\"/>\r\n       </defs>\r\n       <use xlink:href=\"#DejaVuSans-73\"/>\r\n       <use x=\"52.099609\" xlink:href=\"#DejaVuSans-69\"/>\r\n       <use x=\"79.882812\" xlink:href=\"#DejaVuSans-6e\"/>\r\n       <use x=\"143.261719\" xlink:href=\"#DejaVuSans-67\"/>\r\n       <use x=\"206.738281\" xlink:href=\"#DejaVuSans-61\"/>\r\n       <use x=\"268.017578\" xlink:href=\"#DejaVuSans-70\"/>\r\n       <use x=\"331.494141\" xlink:href=\"#DejaVuSans-6f\"/>\r\n       <use x=\"392.675781\" xlink:href=\"#DejaVuSans-72\"/>\r\n       <use x=\"431.539062\" xlink:href=\"#DejaVuSans-65\"/>\r\n      </g>\r\n     </g>\r\n    </g>\r\n    <g id=\"xtick_3\">\r\n     <g id=\"line2d_3\">\r\n      <g>\r\n       <use style=\"stroke:#000000;stroke-width:0.8;\" x=\"228.009512\" xlink:href=\"#m6284214561\" y=\"876.96\"/>\r\n      </g>\r\n     </g>\r\n     <g id=\"text_3\">\r\n      <!-- together -->\r\n      <g transform=\"translate(206.478262 891.558437)scale(0.1 -0.1)\">\r\n       <defs>\r\n        <path d=\"M 1172 4494 \r\nL 1172 3500 \r\nL 2356 3500 \r\nL 2356 3053 \r\nL 1172 3053 \r\nL 1172 1153 \r\nQ 1172 725 1289 603 \r\nQ 1406 481 1766 481 \r\nL 2356 481 \r\nL 2356 0 \r\nL 1766 0 \r\nQ 1100 0 847 248 \r\nQ 594 497 594 1153 \r\nL 594 3053 \r\nL 172 3053 \r\nL 172 3500 \r\nL 594 3500 \r\nL 594 4494 \r\nL 1172 4494 \r\nz\r\n\" id=\"DejaVuSans-74\" transform=\"scale(0.015625)\"/>\r\n       </defs>\r\n       <use xlink:href=\"#DejaVuSans-74\"/>\r\n       <use x=\"39.208984\" xlink:href=\"#DejaVuSans-6f\"/>\r\n       <use x=\"100.390625\" xlink:href=\"#DejaVuSans-67\"/>\r\n       <use x=\"163.867188\" xlink:href=\"#DejaVuSans-65\"/>\r\n       <use x=\"225.390625\" xlink:href=\"#DejaVuSans-74\"/>\r\n       <use x=\"264.599609\" xlink:href=\"#DejaVuSans-68\"/>\r\n       <use x=\"327.978516\" xlink:href=\"#DejaVuSans-65\"/>\r\n       <use x=\"389.501953\" xlink:href=\"#DejaVuSans-72\"/>\r\n      </g>\r\n     </g>\r\n    </g>\r\n    <g id=\"xtick_4\">\r\n     <g id=\"line2d_4\">\r\n      <g>\r\n       <use style=\"stroke:#000000;stroke-width:0.8;\" x=\"280.486001\" xlink:href=\"#m6284214561\" y=\"876.96\"/>\r\n      </g>\r\n     </g>\r\n     <g id=\"text_4\">\r\n      <!-- home -->\r\n      <g transform=\"translate(266.311001 891.558437)scale(0.1 -0.1)\">\r\n       <defs>\r\n        <path d=\"M 3328 2828 \r\nQ 3544 3216 3844 3400 \r\nQ 4144 3584 4550 3584 \r\nQ 5097 3584 5394 3201 \r\nQ 5691 2819 5691 2113 \r\nL 5691 0 \r\nL 5113 0 \r\nL 5113 2094 \r\nQ 5113 2597 4934 2840 \r\nQ 4756 3084 4391 3084 \r\nQ 3944 3084 3684 2787 \r\nQ 3425 2491 3425 1978 \r\nL 3425 0 \r\nL 2847 0 \r\nL 2847 2094 \r\nQ 2847 2600 2669 2842 \r\nQ 2491 3084 2119 3084 \r\nQ 1678 3084 1418 2786 \r\nQ 1159 2488 1159 1978 \r\nL 1159 0 \r\nL 581 0 \r\nL 581 3500 \r\nL 1159 3500 \r\nL 1159 2956 \r\nQ 1356 3278 1631 3431 \r\nQ 1906 3584 2284 3584 \r\nQ 2666 3584 2933 3390 \r\nQ 3200 3197 3328 2828 \r\nz\r\n\" id=\"DejaVuSans-6d\" transform=\"scale(0.015625)\"/>\r\n       </defs>\r\n       <use xlink:href=\"#DejaVuSans-68\"/>\r\n       <use x=\"63.378906\" xlink:href=\"#DejaVuSans-6f\"/>\r\n       <use x=\"124.560547\" xlink:href=\"#DejaVuSans-6d\"/>\r\n       <use x=\"221.972656\" xlink:href=\"#DejaVuSans-65\"/>\r\n      </g>\r\n     </g>\r\n    </g>\r\n    <g id=\"xtick_5\">\r\n     <g id=\"line2d_5\">\r\n      <g>\r\n       <use style=\"stroke:#000000;stroke-width:0.8;\" x=\"332.96249\" xlink:href=\"#m6284214561\" y=\"876.96\"/>\r\n      </g>\r\n     </g>\r\n     <g id=\"text_5\">\r\n      <!-- one -->\r\n      <g transform=\"translate(323.657803 891.558437)scale(0.1 -0.1)\">\r\n       <use xlink:href=\"#DejaVuSans-6f\"/>\r\n       <use x=\"61.181641\" xlink:href=\"#DejaVuSans-6e\"/>\r\n       <use x=\"124.560547\" xlink:href=\"#DejaVuSans-65\"/>\r\n      </g>\r\n     </g>\r\n    </g>\r\n    <g id=\"xtick_6\">\r\n     <g id=\"line2d_6\">\r\n      <g>\r\n       <use style=\"stroke:#000000;stroke-width:0.8;\" x=\"385.438979\" xlink:href=\"#m6284214561\" y=\"876.96\"/>\r\n      </g>\r\n     </g>\r\n     <g id=\"text_6\">\r\n      <!-- heart -->\r\n      <g transform=\"translate(372.113979 891.558437)scale(0.1 -0.1)\">\r\n       <use xlink:href=\"#DejaVuSans-68\"/>\r\n       <use x=\"63.378906\" xlink:href=\"#DejaVuSans-65\"/>\r\n       <use x=\"124.902344\" xlink:href=\"#DejaVuSans-61\"/>\r\n       <use x=\"186.181641\" xlink:href=\"#DejaVuSans-72\"/>\r\n       <use x=\"227.294922\" xlink:href=\"#DejaVuSans-74\"/>\r\n      </g>\r\n     </g>\r\n    </g>\r\n    <g id=\"xtick_7\">\r\n     <g id=\"line2d_7\">\r\n      <g>\r\n       <use style=\"stroke:#000000;stroke-width:0.8;\" x=\"437.915468\" xlink:href=\"#m6284214561\" y=\"876.96\"/>\r\n      </g>\r\n     </g>\r\n     <g id=\"text_7\">\r\n      <!-- come -->\r\n      <g transform=\"translate(424.16 891.558437)scale(0.1 -0.1)\">\r\n       <defs>\r\n        <path d=\"M 3122 3366 \r\nL 3122 2828 \r\nQ 2878 2963 2633 3030 \r\nQ 2388 3097 2138 3097 \r\nQ 1578 3097 1268 2742 \r\nQ 959 2388 959 1747 \r\nQ 959 1106 1268 751 \r\nQ 1578 397 2138 397 \r\nQ 2388 397 2633 464 \r\nQ 2878 531 3122 666 \r\nL 3122 134 \r\nQ 2881 22 2623 -34 \r\nQ 2366 -91 2075 -91 \r\nQ 1284 -91 818 406 \r\nQ 353 903 353 1747 \r\nQ 353 2603 823 3093 \r\nQ 1294 3584 2113 3584 \r\nQ 2378 3584 2631 3529 \r\nQ 2884 3475 3122 3366 \r\nz\r\n\" id=\"DejaVuSans-63\" transform=\"scale(0.015625)\"/>\r\n       </defs>\r\n       <use xlink:href=\"#DejaVuSans-63\"/>\r\n       <use x=\"54.980469\" xlink:href=\"#DejaVuSans-6f\"/>\r\n       <use x=\"116.162109\" xlink:href=\"#DejaVuSans-6d\"/>\r\n       <use x=\"213.574219\" xlink:href=\"#DejaVuSans-65\"/>\r\n      </g>\r\n     </g>\r\n    </g>\r\n    <g id=\"xtick_8\">\r\n     <g id=\"line2d_8\">\r\n      <g>\r\n       <use style=\"stroke:#000000;stroke-width:0.8;\" x=\"490.391957\" xlink:href=\"#m6284214561\" y=\"876.96\"/>\r\n      </g>\r\n     </g>\r\n     <g id=\"text_8\">\r\n      <!-- see -->\r\n      <g transform=\"translate(481.634145 891.558437)scale(0.1 -0.1)\">\r\n       <use xlink:href=\"#DejaVuSans-73\"/>\r\n       <use x=\"52.099609\" xlink:href=\"#DejaVuSans-65\"/>\r\n       <use x=\"113.623047\" xlink:href=\"#DejaVuSans-65\"/>\r\n      </g>\r\n     </g>\r\n    </g>\r\n    <g id=\"xtick_9\">\r\n     <g id=\"line2d_9\">\r\n      <g>\r\n       <use style=\"stroke:#000000;stroke-width:0.8;\" x=\"542.868446\" xlink:href=\"#m6284214561\" y=\"876.96\"/>\r\n      </g>\r\n     </g>\r\n     <g id=\"text_9\">\r\n      <!-- achieve -->\r\n      <g transform=\"translate(523.384853 891.558437)scale(0.1 -0.1)\">\r\n       <defs>\r\n        <path d=\"M 191 3500 \r\nL 800 3500 \r\nL 1894 563 \r\nL 2988 3500 \r\nL 3597 3500 \r\nL 2284 0 \r\nL 1503 0 \r\nL 191 3500 \r\nz\r\n\" id=\"DejaVuSans-76\" transform=\"scale(0.015625)\"/>\r\n       </defs>\r\n       <use xlink:href=\"#DejaVuSans-61\"/>\r\n       <use x=\"61.279297\" xlink:href=\"#DejaVuSans-63\"/>\r\n       <use x=\"116.259766\" xlink:href=\"#DejaVuSans-68\"/>\r\n       <use x=\"179.638672\" xlink:href=\"#DejaVuSans-69\"/>\r\n       <use x=\"207.421875\" xlink:href=\"#DejaVuSans-65\"/>\r\n       <use x=\"268.945312\" xlink:href=\"#DejaVuSans-76\"/>\r\n       <use x=\"328.125\" xlink:href=\"#DejaVuSans-65\"/>\r\n      </g>\r\n     </g>\r\n    </g>\r\n    <g id=\"xtick_10\">\r\n     <g id=\"line2d_10\">\r\n      <g>\r\n       <use style=\"stroke:#000000;stroke-width:0.8;\" x=\"595.344935\" xlink:href=\"#m6284214561\" y=\"876.96\"/>\r\n      </g>\r\n     </g>\r\n     <g id=\"text_10\">\r\n      <!-- hand -->\r\n      <g transform=\"translate(582.769154 891.558437)scale(0.1 -0.1)\">\r\n       <defs>\r\n        <path d=\"M 2906 2969 \r\nL 2906 4863 \r\nL 3481 4863 \r\nL 3481 0 \r\nL 2906 0 \r\nL 2906 525 \r\nQ 2725 213 2448 61 \r\nQ 2172 -91 1784 -91 \r\nQ 1150 -91 751 415 \r\nQ 353 922 353 1747 \r\nQ 353 2572 751 3078 \r\nQ 1150 3584 1784 3584 \r\nQ 2172 3584 2448 3432 \r\nQ 2725 3281 2906 2969 \r\nz\r\nM 947 1747 \r\nQ 947 1113 1208 752 \r\nQ 1469 391 1925 391 \r\nQ 2381 391 2643 752 \r\nQ 2906 1113 2906 1747 \r\nQ 2906 2381 2643 2742 \r\nQ 2381 3103 1925 3103 \r\nQ 1469 3103 1208 2742 \r\nQ 947 2381 947 1747 \r\nz\r\n\" id=\"DejaVuSans-64\" transform=\"scale(0.015625)\"/>\r\n       </defs>\r\n       <use xlink:href=\"#DejaVuSans-68\"/>\r\n       <use x=\"63.378906\" xlink:href=\"#DejaVuSans-61\"/>\r\n       <use x=\"124.658203\" xlink:href=\"#DejaVuSans-6e\"/>\r\n       <use x=\"188.037109\" xlink:href=\"#DejaVuSans-64\"/>\r\n      </g>\r\n     </g>\r\n    </g>\r\n    <g id=\"xtick_11\">\r\n     <g id=\"line2d_11\">\r\n      <g>\r\n       <use style=\"stroke:#000000;stroke-width:0.8;\" x=\"647.821424\" xlink:href=\"#m6284214561\" y=\"876.96\"/>\r\n      </g>\r\n     </g>\r\n     <g id=\"text_11\">\r\n      <!-- stand -->\r\n      <g transform=\"translate(633.849549 891.558437)scale(0.1 -0.1)\">\r\n       <use xlink:href=\"#DejaVuSans-73\"/>\r\n       <use x=\"52.099609\" xlink:href=\"#DejaVuSans-74\"/>\r\n       <use x=\"91.308594\" xlink:href=\"#DejaVuSans-61\"/>\r\n       <use x=\"152.587891\" xlink:href=\"#DejaVuSans-6e\"/>\r\n       <use x=\"215.966797\" xlink:href=\"#DejaVuSans-64\"/>\r\n      </g>\r\n     </g>\r\n    </g>\r\n    <g id=\"xtick_12\">\r\n     <g id=\"line2d_12\">\r\n      <g>\r\n       <use style=\"stroke:#000000;stroke-width:0.8;\" x=\"700.297913\" xlink:href=\"#m6284214561\" y=\"876.96\"/>\r\n      </g>\r\n     </g>\r\n     <g id=\"text_12\">\r\n      <!-- dreams -->\r\n      <g transform=\"translate(681.565101 891.558437)scale(0.1 -0.1)\">\r\n       <use xlink:href=\"#DejaVuSans-64\"/>\r\n       <use x=\"63.476562\" xlink:href=\"#DejaVuSans-72\"/>\r\n       <use x=\"102.339844\" xlink:href=\"#DejaVuSans-65\"/>\r\n       <use x=\"163.863281\" xlink:href=\"#DejaVuSans-61\"/>\r\n       <use x=\"225.142578\" xlink:href=\"#DejaVuSans-6d\"/>\r\n       <use x=\"322.554688\" xlink:href=\"#DejaVuSans-73\"/>\r\n      </g>\r\n     </g>\r\n    </g>\r\n    <g id=\"xtick_13\">\r\n     <g id=\"line2d_13\">\r\n      <g>\r\n       <use style=\"stroke:#000000;stroke-width:0.8;\" x=\"752.774402\" xlink:href=\"#m6284214561\" y=\"876.96\"/>\r\n      </g>\r\n     </g>\r\n     <g id=\"text_13\">\r\n      <!-- know -->\r\n      <g transform=\"translate(739.561902 891.558437)scale(0.1 -0.1)\">\r\n       <defs>\r\n        <path d=\"M 581 4863 \r\nL 1159 4863 \r\nL 1159 1991 \r\nL 2875 3500 \r\nL 3609 3500 \r\nL 1753 1863 \r\nL 3688 0 \r\nL 2938 0 \r\nL 1159 1709 \r\nL 1159 0 \r\nL 581 0 \r\nL 581 4863 \r\nz\r\n\" id=\"DejaVuSans-6b\" transform=\"scale(0.015625)\"/>\r\n        <path d=\"M 269 3500 \r\nL 844 3500 \r\nL 1563 769 \r\nL 2278 3500 \r\nL 2956 3500 \r\nL 3675 769 \r\nL 4391 3500 \r\nL 4966 3500 \r\nL 4050 0 \r\nL 3372 0 \r\nL 2619 2869 \r\nL 1863 0 \r\nL 1184 0 \r\nL 269 3500 \r\nz\r\n\" id=\"DejaVuSans-77\" transform=\"scale(0.015625)\"/>\r\n       </defs>\r\n       <use xlink:href=\"#DejaVuSans-6b\"/>\r\n       <use x=\"57.910156\" xlink:href=\"#DejaVuSans-6e\"/>\r\n       <use x=\"121.289062\" xlink:href=\"#DejaVuSans-6f\"/>\r\n       <use x=\"182.470703\" xlink:href=\"#DejaVuSans-77\"/>\r\n      </g>\r\n     </g>\r\n    </g>\r\n    <g id=\"xtick_14\">\r\n     <g id=\"line2d_14\">\r\n      <g>\r\n       <use style=\"stroke:#000000;stroke-width:0.8;\" x=\"805.250891\" xlink:href=\"#m6284214561\" y=\"876.96\"/>\r\n      </g>\r\n     </g>\r\n     <g id=\"text_14\">\r\n      <!-- let -->\r\n      <g transform=\"translate(798.82511 891.558437)scale(0.1 -0.1)\">\r\n       <defs>\r\n        <path d=\"M 603 4863 \r\nL 1178 4863 \r\nL 1178 0 \r\nL 603 0 \r\nL 603 4863 \r\nz\r\n\" id=\"DejaVuSans-6c\" transform=\"scale(0.015625)\"/>\r\n       </defs>\r\n       <use xlink:href=\"#DejaVuSans-6c\"/>\r\n       <use x=\"27.783203\" xlink:href=\"#DejaVuSans-65\"/>\r\n       <use x=\"89.306641\" xlink:href=\"#DejaVuSans-74\"/>\r\n      </g>\r\n     </g>\r\n    </g>\r\n    <g id=\"xtick_15\">\r\n     <g id=\"line2d_15\">\r\n      <g>\r\n       <use style=\"stroke:#000000;stroke-width:0.8;\" x=\"857.72738\" xlink:href=\"#m6284214561\" y=\"876.96\"/>\r\n      </g>\r\n     </g>\r\n     <g id=\"text_15\">\r\n      <!-- world -->\r\n      <g transform=\"translate(843.960193 891.558437)scale(0.1 -0.1)\">\r\n       <use xlink:href=\"#DejaVuSans-77\"/>\r\n       <use x=\"81.787109\" xlink:href=\"#DejaVuSans-6f\"/>\r\n       <use x=\"142.96875\" xlink:href=\"#DejaVuSans-72\"/>\r\n       <use x=\"184.082031\" xlink:href=\"#DejaVuSans-6c\"/>\r\n       <use x=\"211.865234\" xlink:href=\"#DejaVuSans-64\"/>\r\n      </g>\r\n     </g>\r\n    </g>\r\n    <g id=\"xtick_16\">\r\n     <g id=\"line2d_16\">\r\n      <g>\r\n       <use style=\"stroke:#000000;stroke-width:0.8;\" x=\"910.20387\" xlink:href=\"#m6284214561\" y=\"876.96\"/>\r\n      </g>\r\n     </g>\r\n     <g id=\"text_16\">\r\n      <!-- us -->\r\n      <g transform=\"translate(904.430432 891.558437)scale(0.1 -0.1)\">\r\n       <defs>\r\n        <path d=\"M 544 1381 \r\nL 544 3500 \r\nL 1119 3500 \r\nL 1119 1403 \r\nQ 1119 906 1312 657 \r\nQ 1506 409 1894 409 \r\nQ 2359 409 2629 706 \r\nQ 2900 1003 2900 1516 \r\nL 2900 3500 \r\nL 3475 3500 \r\nL 3475 0 \r\nL 2900 0 \r\nL 2900 538 \r\nQ 2691 219 2414 64 \r\nQ 2138 -91 1772 -91 \r\nQ 1169 -91 856 284 \r\nQ 544 659 544 1381 \r\nz\r\nM 1991 3584 \r\nL 1991 3584 \r\nz\r\n\" id=\"DejaVuSans-75\" transform=\"scale(0.015625)\"/>\r\n       </defs>\r\n       <use xlink:href=\"#DejaVuSans-75\"/>\r\n       <use x=\"63.378906\" xlink:href=\"#DejaVuSans-73\"/>\r\n      </g>\r\n     </g>\r\n    </g>\r\n    <g id=\"xtick_17\">\r\n     <g id=\"line2d_17\">\r\n      <g>\r\n       <use style=\"stroke:#000000;stroke-width:0.8;\" x=\"962.680359\" xlink:href=\"#m6284214561\" y=\"876.96\"/>\r\n      </g>\r\n     </g>\r\n     <g id=\"text_17\">\r\n      <!-- new -->\r\n      <g transform=\"translate(952.345984 891.558437)scale(0.1 -0.1)\">\r\n       <use xlink:href=\"#DejaVuSans-6e\"/>\r\n       <use x=\"63.378906\" xlink:href=\"#DejaVuSans-65\"/>\r\n       <use x=\"124.902344\" xlink:href=\"#DejaVuSans-77\"/>\r\n      </g>\r\n     </g>\r\n    </g>\r\n    <g id=\"xtick_18\">\r\n     <g id=\"line2d_18\">\r\n      <g>\r\n       <use style=\"stroke:#000000;stroke-width:0.8;\" x=\"1015.156848\" xlink:href=\"#m6284214561\" y=\"876.96\"/>\r\n      </g>\r\n     </g>\r\n     <g id=\"text_18\">\r\n      <!-- make -->\r\n      <g transform=\"translate(1001.431848 891.558437)scale(0.1 -0.1)\">\r\n       <use xlink:href=\"#DejaVuSans-6d\"/>\r\n       <use x=\"97.412109\" xlink:href=\"#DejaVuSans-61\"/>\r\n       <use x=\"158.691406\" xlink:href=\"#DejaVuSans-6b\"/>\r\n       <use x=\"212.976562\" xlink:href=\"#DejaVuSans-65\"/>\r\n      </g>\r\n     </g>\r\n    </g>\r\n    <g id=\"xtick_19\">\r\n     <g id=\"line2d_19\">\r\n      <g>\r\n       <use style=\"stroke:#000000;stroke-width:0.8;\" x=\"1067.633337\" xlink:href=\"#m6284214561\" y=\"876.96\"/>\r\n      </g>\r\n     </g>\r\n     <g id=\"text_19\">\r\n      <!-- love -->\r\n      <g transform=\"translate(1057.148962 891.558437)scale(0.1 -0.1)\">\r\n       <use xlink:href=\"#DejaVuSans-6c\"/>\r\n       <use x=\"27.783203\" xlink:href=\"#DejaVuSans-6f\"/>\r\n       <use x=\"88.964844\" xlink:href=\"#DejaVuSans-76\"/>\r\n       <use x=\"148.144531\" xlink:href=\"#DejaVuSans-65\"/>\r\n      </g>\r\n     </g>\r\n    </g>\r\n    <g id=\"xtick_20\">\r\n     <g id=\"line2d_20\">\r\n      <g>\r\n       <use style=\"stroke:#000000;stroke-width:0.8;\" x=\"1120.109826\" xlink:href=\"#m6284214561\" y=\"876.96\"/>\r\n      </g>\r\n     </g>\r\n     <g id=\"text_20\">\r\n      <!-- sing -->\r\n      <g transform=\"translate(1109.773107 891.558437)scale(0.1 -0.1)\">\r\n       <use xlink:href=\"#DejaVuSans-73\"/>\r\n       <use x=\"52.099609\" xlink:href=\"#DejaVuSans-69\"/>\r\n       <use x=\"79.882812\" xlink:href=\"#DejaVuSans-6e\"/>\r\n       <use x=\"143.261719\" xlink:href=\"#DejaVuSans-67\"/>\r\n      </g>\r\n     </g>\r\n    </g>\r\n    <g id=\"xtick_21\">\r\n     <g id=\"line2d_21\">\r\n      <g>\r\n       <use style=\"stroke:#000000;stroke-width:0.8;\" x=\"1172.586315\" xlink:href=\"#m6284214561\" y=\"876.96\"/>\r\n      </g>\r\n     </g>\r\n     <g id=\"text_21\">\r\n      <!-- life -->\r\n      <g transform=\"translate(1164.971471 891.558437)scale(0.1 -0.1)\">\r\n       <defs>\r\n        <path d=\"M 2375 4863 \r\nL 2375 4384 \r\nL 1825 4384 \r\nQ 1516 4384 1395 4259 \r\nQ 1275 4134 1275 3809 \r\nL 1275 3500 \r\nL 2222 3500 \r\nL 2222 3053 \r\nL 1275 3053 \r\nL 1275 0 \r\nL 697 0 \r\nL 697 3053 \r\nL 147 3053 \r\nL 147 3500 \r\nL 697 3500 \r\nL 697 3744 \r\nQ 697 4328 969 4595 \r\nQ 1241 4863 1831 4863 \r\nL 2375 4863 \r\nz\r\n\" id=\"DejaVuSans-66\" transform=\"scale(0.015625)\"/>\r\n       </defs>\r\n       <use xlink:href=\"#DejaVuSans-6c\"/>\r\n       <use x=\"27.783203\" xlink:href=\"#DejaVuSans-69\"/>\r\n       <use x=\"55.566406\" xlink:href=\"#DejaVuSans-66\"/>\r\n       <use x=\"90.771484\" xlink:href=\"#DejaVuSans-65\"/>\r\n      </g>\r\n     </g>\r\n    </g>\r\n    <g id=\"xtick_22\">\r\n     <g id=\"line2d_22\">\r\n      <g>\r\n       <use style=\"stroke:#000000;stroke-width:0.8;\" x=\"1225.062804\" xlink:href=\"#m6284214561\" y=\"876.96\"/>\r\n      </g>\r\n     </g>\r\n     <g id=\"text_22\">\r\n      <!-- reach -->\r\n      <g transform=\"translate(1211.061241 891.558437)scale(0.1 -0.1)\">\r\n       <use xlink:href=\"#DejaVuSans-72\"/>\r\n       <use x=\"38.863281\" xlink:href=\"#DejaVuSans-65\"/>\r\n       <use x=\"100.386719\" xlink:href=\"#DejaVuSans-61\"/>\r\n       <use x=\"161.666016\" xlink:href=\"#DejaVuSans-63\"/>\r\n       <use x=\"216.646484\" xlink:href=\"#DejaVuSans-68\"/>\r\n      </g>\r\n     </g>\r\n    </g>\r\n    <g id=\"xtick_23\">\r\n     <g id=\"line2d_23\">\r\n      <g>\r\n       <use style=\"stroke:#000000;stroke-width:0.8;\" x=\"1277.539293\" xlink:href=\"#m6284214561\" y=\"876.96\"/>\r\n      </g>\r\n     </g>\r\n     <g id=\"text_23\">\r\n      <!-- may -->\r\n      <g transform=\"translate(1266.645543 891.558437)scale(0.1 -0.1)\">\r\n       <defs>\r\n        <path d=\"M 2059 -325 \r\nQ 1816 -950 1584 -1140 \r\nQ 1353 -1331 966 -1331 \r\nL 506 -1331 \r\nL 506 -850 \r\nL 844 -850 \r\nQ 1081 -850 1212 -737 \r\nQ 1344 -625 1503 -206 \r\nL 1606 56 \r\nL 191 3500 \r\nL 800 3500 \r\nL 1894 763 \r\nL 2988 3500 \r\nL 3597 3500 \r\nL 2059 -325 \r\nz\r\n\" id=\"DejaVuSans-79\" transform=\"scale(0.015625)\"/>\r\n       </defs>\r\n       <use xlink:href=\"#DejaVuSans-6d\"/>\r\n       <use x=\"97.412109\" xlink:href=\"#DejaVuSans-61\"/>\r\n       <use x=\"158.691406\" xlink:href=\"#DejaVuSans-79\"/>\r\n      </g>\r\n     </g>\r\n    </g>\r\n    <g id=\"xtick_24\">\r\n     <g id=\"line2d_24\">\r\n      <g>\r\n       <use style=\"stroke:#000000;stroke-width:0.8;\" x=\"1330.015782\" xlink:href=\"#m6284214561\" y=\"876.96\"/>\r\n      </g>\r\n     </g>\r\n     <g id=\"text_24\">\r\n      <!-- family -->\r\n      <g transform=\"translate(1314.58375 891.558437)scale(0.1 -0.1)\">\r\n       <use xlink:href=\"#DejaVuSans-66\"/>\r\n       <use x=\"35.205078\" xlink:href=\"#DejaVuSans-61\"/>\r\n       <use x=\"96.484375\" xlink:href=\"#DejaVuSans-6d\"/>\r\n       <use x=\"193.896484\" xlink:href=\"#DejaVuSans-69\"/>\r\n       <use x=\"221.679688\" xlink:href=\"#DejaVuSans-6c\"/>\r\n       <use x=\"249.462891\" xlink:href=\"#DejaVuSans-79\"/>\r\n      </g>\r\n     </g>\r\n    </g>\r\n    <g id=\"xtick_25\">\r\n     <g id=\"line2d_25\">\r\n      <g>\r\n       <use style=\"stroke:#000000;stroke-width:0.8;\" x=\"1382.492271\" xlink:href=\"#m6284214561\" y=\"876.96\"/>\r\n      </g>\r\n     </g>\r\n     <g id=\"text_25\">\r\n      <!-- look -->\r\n      <g transform=\"translate(1372.089146 891.558437)scale(0.1 -0.1)\">\r\n       <use xlink:href=\"#DejaVuSans-6c\"/>\r\n       <use x=\"27.783203\" xlink:href=\"#DejaVuSans-6f\"/>\r\n       <use x=\"88.964844\" xlink:href=\"#DejaVuSans-6f\"/>\r\n       <use x=\"150.146484\" xlink:href=\"#DejaVuSans-6b\"/>\r\n      </g>\r\n     </g>\r\n    </g>\r\n    <g id=\"xtick_26\">\r\n     <g id=\"line2d_26\">\r\n      <g>\r\n       <use style=\"stroke:#000000;stroke-width:0.8;\" x=\"1434.96876\" xlink:href=\"#m6284214561\" y=\"876.96\"/>\r\n      </g>\r\n     </g>\r\n     <g id=\"text_26\">\r\n      <!-- always -->\r\n      <g transform=\"translate(1417.798447 891.558437)scale(0.1 -0.1)\">\r\n       <use xlink:href=\"#DejaVuSans-61\"/>\r\n       <use x=\"61.279297\" xlink:href=\"#DejaVuSans-6c\"/>\r\n       <use x=\"89.0625\" xlink:href=\"#DejaVuSans-77\"/>\r\n       <use x=\"170.849609\" xlink:href=\"#DejaVuSans-61\"/>\r\n       <use x=\"232.128906\" xlink:href=\"#DejaVuSans-79\"/>\r\n       <use x=\"291.308594\" xlink:href=\"#DejaVuSans-73\"/>\r\n      </g>\r\n     </g>\r\n    </g>\r\n    <g id=\"xtick_27\">\r\n     <g id=\"line2d_27\">\r\n      <g>\r\n       <use style=\"stroke:#000000;stroke-width:0.8;\" x=\"1487.445249\" xlink:href=\"#m6284214561\" y=\"876.96\"/>\r\n      </g>\r\n     </g>\r\n     <g id=\"text_27\">\r\n      <!-- heartbeat -->\r\n      <g transform=\"translate(1462.845249 891.558437)scale(0.1 -0.1)\">\r\n       <defs>\r\n        <path d=\"M 3116 1747 \r\nQ 3116 2381 2855 2742 \r\nQ 2594 3103 2138 3103 \r\nQ 1681 3103 1420 2742 \r\nQ 1159 2381 1159 1747 \r\nQ 1159 1113 1420 752 \r\nQ 1681 391 2138 391 \r\nQ 2594 391 2855 752 \r\nQ 3116 1113 3116 1747 \r\nz\r\nM 1159 2969 \r\nQ 1341 3281 1617 3432 \r\nQ 1894 3584 2278 3584 \r\nQ 2916 3584 3314 3078 \r\nQ 3713 2572 3713 1747 \r\nQ 3713 922 3314 415 \r\nQ 2916 -91 2278 -91 \r\nQ 1894 -91 1617 61 \r\nQ 1341 213 1159 525 \r\nL 1159 0 \r\nL 581 0 \r\nL 581 4863 \r\nL 1159 4863 \r\nL 1159 2969 \r\nz\r\n\" id=\"DejaVuSans-62\" transform=\"scale(0.015625)\"/>\r\n       </defs>\r\n       <use xlink:href=\"#DejaVuSans-68\"/>\r\n       <use x=\"63.378906\" xlink:href=\"#DejaVuSans-65\"/>\r\n       <use x=\"124.902344\" xlink:href=\"#DejaVuSans-61\"/>\r\n       <use x=\"186.181641\" xlink:href=\"#DejaVuSans-72\"/>\r\n       <use x=\"227.294922\" xlink:href=\"#DejaVuSans-74\"/>\r\n       <use x=\"266.503906\" xlink:href=\"#DejaVuSans-62\"/>\r\n       <use x=\"329.980469\" xlink:href=\"#DejaVuSans-65\"/>\r\n       <use x=\"391.503906\" xlink:href=\"#DejaVuSans-61\"/>\r\n       <use x=\"452.783203\" xlink:href=\"#DejaVuSans-74\"/>\r\n      </g>\r\n     </g>\r\n    </g>\r\n    <g id=\"xtick_28\">\r\n     <g id=\"line2d_28\">\r\n      <g>\r\n       <use style=\"stroke:#000000;stroke-width:0.8;\" x=\"1539.921738\" xlink:href=\"#m6284214561\" y=\"876.96\"/>\r\n      </g>\r\n     </g>\r\n     <g id=\"text_28\">\r\n      <!-- dream -->\r\n      <g transform=\"translate(1523.793613 891.558437)scale(0.1 -0.1)\">\r\n       <use xlink:href=\"#DejaVuSans-64\"/>\r\n       <use x=\"63.476562\" xlink:href=\"#DejaVuSans-72\"/>\r\n       <use x=\"102.339844\" xlink:href=\"#DejaVuSans-65\"/>\r\n       <use x=\"163.863281\" xlink:href=\"#DejaVuSans-61\"/>\r\n       <use x=\"225.142578\" xlink:href=\"#DejaVuSans-6d\"/>\r\n      </g>\r\n     </g>\r\n    </g>\r\n    <g id=\"xtick_29\">\r\n     <g id=\"line2d_29\">\r\n      <g>\r\n       <use style=\"stroke:#000000;stroke-width:0.8;\" x=\"1592.398227\" xlink:href=\"#m6284214561\" y=\"876.96\"/>\r\n      </g>\r\n     </g>\r\n     <g id=\"text_29\">\r\n      <!-- people -->\r\n      <g transform=\"translate(1575.448227 891.558437)scale(0.1 -0.1)\">\r\n       <use xlink:href=\"#DejaVuSans-70\"/>\r\n       <use x=\"63.476562\" xlink:href=\"#DejaVuSans-65\"/>\r\n       <use x=\"125\" xlink:href=\"#DejaVuSans-6f\"/>\r\n       <use x=\"186.181641\" xlink:href=\"#DejaVuSans-70\"/>\r\n       <use x=\"249.658203\" xlink:href=\"#DejaVuSans-6c\"/>\r\n       <use x=\"277.441406\" xlink:href=\"#DejaVuSans-65\"/>\r\n      </g>\r\n     </g>\r\n    </g>\r\n    <g id=\"xtick_30\">\r\n     <g id=\"line2d_30\">\r\n      <g>\r\n       <use style=\"stroke:#000000;stroke-width:0.8;\" x=\"1644.874716\" xlink:href=\"#m6284214561\" y=\"876.96\"/>\r\n      </g>\r\n     </g>\r\n     <g id=\"text_30\">\r\n      <!-- nation -->\r\n      <g transform=\"translate(1629.06456 891.558437)scale(0.1 -0.1)\">\r\n       <use xlink:href=\"#DejaVuSans-6e\"/>\r\n       <use x=\"63.378906\" xlink:href=\"#DejaVuSans-61\"/>\r\n       <use x=\"124.658203\" xlink:href=\"#DejaVuSans-74\"/>\r\n       <use x=\"163.867188\" xlink:href=\"#DejaVuSans-69\"/>\r\n       <use x=\"191.650391\" xlink:href=\"#DejaVuSans-6f\"/>\r\n       <use x=\"252.832031\" xlink:href=\"#DejaVuSans-6e\"/>\r\n      </g>\r\n     </g>\r\n    </g>\r\n    <g id=\"text_31\">\r\n     <!-- word -->\r\n     <g transform=\"translate(871.675 905.236562)scale(0.1 -0.1)\">\r\n      <use xlink:href=\"#DejaVuSans-77\"/>\r\n      <use x=\"81.787109\" xlink:href=\"#DejaVuSans-6f\"/>\r\n      <use x=\"142.96875\" xlink:href=\"#DejaVuSans-72\"/>\r\n      <use x=\"182.332031\" xlink:href=\"#DejaVuSans-64\"/>\r\n     </g>\r\n    </g>\r\n   </g>\r\n   <g id=\"matplotlib.axis_2\">\r\n    <g id=\"ytick_1\">\r\n     <g id=\"line2d_31\">\r\n      <defs>\r\n       <path d=\"M 0 0 \r\nL -3.5 0 \r\n\" id=\"mae132511db\" style=\"stroke:#000000;stroke-width:0.8;\"/>\r\n      </defs>\r\n      <g>\r\n       <use style=\"stroke:#000000;stroke-width:0.8;\" x=\"46.965625\" xlink:href=\"#mae132511db\" y=\"827.541818\"/>\r\n      </g>\r\n     </g>\r\n     <g id=\"text_32\">\r\n      <!-- 20 -->\r\n      <g transform=\"translate(27.240625 831.341037)scale(0.1 -0.1)\">\r\n       <defs>\r\n        <path d=\"M 1228 531 \r\nL 3431 531 \r\nL 3431 0 \r\nL 469 0 \r\nL 469 531 \r\nQ 828 903 1448 1529 \r\nQ 2069 2156 2228 2338 \r\nQ 2531 2678 2651 2914 \r\nQ 2772 3150 2772 3378 \r\nQ 2772 3750 2511 3984 \r\nQ 2250 4219 1831 4219 \r\nQ 1534 4219 1204 4116 \r\nQ 875 4013 500 3803 \r\nL 500 4441 \r\nQ 881 4594 1212 4672 \r\nQ 1544 4750 1819 4750 \r\nQ 2544 4750 2975 4387 \r\nQ 3406 4025 3406 3419 \r\nQ 3406 3131 3298 2873 \r\nQ 3191 2616 2906 2266 \r\nQ 2828 2175 2409 1742 \r\nQ 1991 1309 1228 531 \r\nz\r\n\" id=\"DejaVuSans-32\" transform=\"scale(0.015625)\"/>\r\n        <path d=\"M 2034 4250 \r\nQ 1547 4250 1301 3770 \r\nQ 1056 3291 1056 2328 \r\nQ 1056 1369 1301 889 \r\nQ 1547 409 2034 409 \r\nQ 2525 409 2770 889 \r\nQ 3016 1369 3016 2328 \r\nQ 3016 3291 2770 3770 \r\nQ 2525 4250 2034 4250 \r\nz\r\nM 2034 4750 \r\nQ 2819 4750 3233 4129 \r\nQ 3647 3509 3647 2328 \r\nQ 3647 1150 3233 529 \r\nQ 2819 -91 2034 -91 \r\nQ 1250 -91 836 529 \r\nQ 422 1150 422 2328 \r\nQ 422 3509 836 4129 \r\nQ 1250 4750 2034 4750 \r\nz\r\n\" id=\"DejaVuSans-30\" transform=\"scale(0.015625)\"/>\r\n       </defs>\r\n       <use xlink:href=\"#DejaVuSans-32\"/>\r\n       <use x=\"63.623047\" xlink:href=\"#DejaVuSans-30\"/>\r\n      </g>\r\n     </g>\r\n    </g>\r\n    <g id=\"ytick_2\">\r\n     <g id=\"line2d_32\">\r\n      <g>\r\n       <use style=\"stroke:#000000;stroke-width:0.8;\" x=\"46.965625\" xlink:href=\"#mae132511db\" y=\"728.705455\"/>\r\n      </g>\r\n     </g>\r\n     <g id=\"text_33\">\r\n      <!-- 40 -->\r\n      <g transform=\"translate(27.240625 732.504673)scale(0.1 -0.1)\">\r\n       <defs>\r\n        <path d=\"M 2419 4116 \r\nL 825 1625 \r\nL 2419 1625 \r\nL 2419 4116 \r\nz\r\nM 2253 4666 \r\nL 3047 4666 \r\nL 3047 1625 \r\nL 3713 1625 \r\nL 3713 1100 \r\nL 3047 1100 \r\nL 3047 0 \r\nL 2419 0 \r\nL 2419 1100 \r\nL 313 1100 \r\nL 313 1709 \r\nL 2253 4666 \r\nz\r\n\" id=\"DejaVuSans-34\" transform=\"scale(0.015625)\"/>\r\n       </defs>\r\n       <use xlink:href=\"#DejaVuSans-34\"/>\r\n       <use x=\"63.623047\" xlink:href=\"#DejaVuSans-30\"/>\r\n      </g>\r\n     </g>\r\n    </g>\r\n    <g id=\"ytick_3\">\r\n     <g id=\"line2d_33\">\r\n      <g>\r\n       <use style=\"stroke:#000000;stroke-width:0.8;\" x=\"46.965625\" xlink:href=\"#mae132511db\" y=\"629.869091\"/>\r\n      </g>\r\n     </g>\r\n     <g id=\"text_34\">\r\n      <!-- 60 -->\r\n      <g transform=\"translate(27.240625 633.66831)scale(0.1 -0.1)\">\r\n       <defs>\r\n        <path d=\"M 2113 2584 \r\nQ 1688 2584 1439 2293 \r\nQ 1191 2003 1191 1497 \r\nQ 1191 994 1439 701 \r\nQ 1688 409 2113 409 \r\nQ 2538 409 2786 701 \r\nQ 3034 994 3034 1497 \r\nQ 3034 2003 2786 2293 \r\nQ 2538 2584 2113 2584 \r\nz\r\nM 3366 4563 \r\nL 3366 3988 \r\nQ 3128 4100 2886 4159 \r\nQ 2644 4219 2406 4219 \r\nQ 1781 4219 1451 3797 \r\nQ 1122 3375 1075 2522 \r\nQ 1259 2794 1537 2939 \r\nQ 1816 3084 2150 3084 \r\nQ 2853 3084 3261 2657 \r\nQ 3669 2231 3669 1497 \r\nQ 3669 778 3244 343 \r\nQ 2819 -91 2113 -91 \r\nQ 1303 -91 875 529 \r\nQ 447 1150 447 2328 \r\nQ 447 3434 972 4092 \r\nQ 1497 4750 2381 4750 \r\nQ 2619 4750 2861 4703 \r\nQ 3103 4656 3366 4563 \r\nz\r\n\" id=\"DejaVuSans-36\" transform=\"scale(0.015625)\"/>\r\n       </defs>\r\n       <use xlink:href=\"#DejaVuSans-36\"/>\r\n       <use x=\"63.623047\" xlink:href=\"#DejaVuSans-30\"/>\r\n      </g>\r\n     </g>\r\n    </g>\r\n    <g id=\"ytick_4\">\r\n     <g id=\"line2d_34\">\r\n      <g>\r\n       <use style=\"stroke:#000000;stroke-width:0.8;\" x=\"46.965625\" xlink:href=\"#mae132511db\" y=\"531.032727\"/>\r\n      </g>\r\n     </g>\r\n     <g id=\"text_35\">\r\n      <!-- 80 -->\r\n      <g transform=\"translate(27.240625 534.831946)scale(0.1 -0.1)\">\r\n       <defs>\r\n        <path d=\"M 2034 2216 \r\nQ 1584 2216 1326 1975 \r\nQ 1069 1734 1069 1313 \r\nQ 1069 891 1326 650 \r\nQ 1584 409 2034 409 \r\nQ 2484 409 2743 651 \r\nQ 3003 894 3003 1313 \r\nQ 3003 1734 2745 1975 \r\nQ 2488 2216 2034 2216 \r\nz\r\nM 1403 2484 \r\nQ 997 2584 770 2862 \r\nQ 544 3141 544 3541 \r\nQ 544 4100 942 4425 \r\nQ 1341 4750 2034 4750 \r\nQ 2731 4750 3128 4425 \r\nQ 3525 4100 3525 3541 \r\nQ 3525 3141 3298 2862 \r\nQ 3072 2584 2669 2484 \r\nQ 3125 2378 3379 2068 \r\nQ 3634 1759 3634 1313 \r\nQ 3634 634 3220 271 \r\nQ 2806 -91 2034 -91 \r\nQ 1263 -91 848 271 \r\nQ 434 634 434 1313 \r\nQ 434 1759 690 2068 \r\nQ 947 2378 1403 2484 \r\nz\r\nM 1172 3481 \r\nQ 1172 3119 1398 2916 \r\nQ 1625 2713 2034 2713 \r\nQ 2441 2713 2670 2916 \r\nQ 2900 3119 2900 3481 \r\nQ 2900 3844 2670 4047 \r\nQ 2441 4250 2034 4250 \r\nQ 1625 4250 1398 4047 \r\nQ 1172 3844 1172 3481 \r\nz\r\n\" id=\"DejaVuSans-38\" transform=\"scale(0.015625)\"/>\r\n       </defs>\r\n       <use xlink:href=\"#DejaVuSans-38\"/>\r\n       <use x=\"63.623047\" xlink:href=\"#DejaVuSans-30\"/>\r\n      </g>\r\n     </g>\r\n    </g>\r\n    <g id=\"ytick_5\">\r\n     <g id=\"line2d_35\">\r\n      <g>\r\n       <use style=\"stroke:#000000;stroke-width:0.8;\" x=\"46.965625\" xlink:href=\"#mae132511db\" y=\"432.196364\"/>\r\n      </g>\r\n     </g>\r\n     <g id=\"text_36\">\r\n      <!-- 100 -->\r\n      <g transform=\"translate(20.878125 435.995582)scale(0.1 -0.1)\">\r\n       <defs>\r\n        <path d=\"M 794 531 \r\nL 1825 531 \r\nL 1825 4091 \r\nL 703 3866 \r\nL 703 4441 \r\nL 1819 4666 \r\nL 2450 4666 \r\nL 2450 531 \r\nL 3481 531 \r\nL 3481 0 \r\nL 794 0 \r\nL 794 531 \r\nz\r\n\" id=\"DejaVuSans-31\" transform=\"scale(0.015625)\"/>\r\n       </defs>\r\n       <use xlink:href=\"#DejaVuSans-31\"/>\r\n       <use x=\"63.623047\" xlink:href=\"#DejaVuSans-30\"/>\r\n       <use x=\"127.246094\" xlink:href=\"#DejaVuSans-30\"/>\r\n      </g>\r\n     </g>\r\n    </g>\r\n    <g id=\"ytick_6\">\r\n     <g id=\"line2d_36\">\r\n      <g>\r\n       <use style=\"stroke:#000000;stroke-width:0.8;\" x=\"46.965625\" xlink:href=\"#mae132511db\" y=\"333.36\"/>\r\n      </g>\r\n     </g>\r\n     <g id=\"text_37\">\r\n      <!-- 120 -->\r\n      <g transform=\"translate(20.878125 337.159219)scale(0.1 -0.1)\">\r\n       <use xlink:href=\"#DejaVuSans-31\"/>\r\n       <use x=\"63.623047\" xlink:href=\"#DejaVuSans-32\"/>\r\n       <use x=\"127.246094\" xlink:href=\"#DejaVuSans-30\"/>\r\n      </g>\r\n     </g>\r\n    </g>\r\n    <g id=\"ytick_7\">\r\n     <g id=\"line2d_37\">\r\n      <g>\r\n       <use style=\"stroke:#000000;stroke-width:0.8;\" x=\"46.965625\" xlink:href=\"#mae132511db\" y=\"234.523636\"/>\r\n      </g>\r\n     </g>\r\n     <g id=\"text_38\">\r\n      <!-- 140 -->\r\n      <g transform=\"translate(20.878125 238.322855)scale(0.1 -0.1)\">\r\n       <use xlink:href=\"#DejaVuSans-31\"/>\r\n       <use x=\"63.623047\" xlink:href=\"#DejaVuSans-34\"/>\r\n       <use x=\"127.246094\" xlink:href=\"#DejaVuSans-30\"/>\r\n      </g>\r\n     </g>\r\n    </g>\r\n    <g id=\"ytick_8\">\r\n     <g id=\"line2d_38\">\r\n      <g>\r\n       <use style=\"stroke:#000000;stroke-width:0.8;\" x=\"46.965625\" xlink:href=\"#mae132511db\" y=\"135.687273\"/>\r\n      </g>\r\n     </g>\r\n     <g id=\"text_39\">\r\n      <!-- 160 -->\r\n      <g transform=\"translate(20.878125 139.486491)scale(0.1 -0.1)\">\r\n       <use xlink:href=\"#DejaVuSans-31\"/>\r\n       <use x=\"63.623047\" xlink:href=\"#DejaVuSans-36\"/>\r\n       <use x=\"127.246094\" xlink:href=\"#DejaVuSans-30\"/>\r\n      </g>\r\n     </g>\r\n    </g>\r\n    <g id=\"ytick_9\">\r\n     <g id=\"line2d_39\">\r\n      <g>\r\n       <use style=\"stroke:#000000;stroke-width:0.8;\" x=\"46.965625\" xlink:href=\"#mae132511db\" y=\"36.850909\"/>\r\n      </g>\r\n     </g>\r\n     <g id=\"text_40\">\r\n      <!-- 180 -->\r\n      <g transform=\"translate(20.878125 40.650128)scale(0.1 -0.1)\">\r\n       <use xlink:href=\"#DejaVuSans-31\"/>\r\n       <use x=\"63.623047\" xlink:href=\"#DejaVuSans-38\"/>\r\n       <use x=\"127.246094\" xlink:href=\"#DejaVuSans-30\"/>\r\n      </g>\r\n     </g>\r\n    </g>\r\n    <g id=\"text_41\">\r\n     <!-- freq -->\r\n     <g transform=\"translate(14.798438 452.033906)rotate(-90)scale(0.1 -0.1)\">\r\n      <defs>\r\n       <path d=\"M 947 1747 \r\nQ 947 1113 1208 752 \r\nQ 1469 391 1925 391 \r\nQ 2381 391 2643 752 \r\nQ 2906 1113 2906 1747 \r\nQ 2906 2381 2643 2742 \r\nQ 2381 3103 1925 3103 \r\nQ 1469 3103 1208 2742 \r\nQ 947 2381 947 1747 \r\nz\r\nM 2906 525 \r\nQ 2725 213 2448 61 \r\nQ 2172 -91 1784 -91 \r\nQ 1150 -91 751 415 \r\nQ 353 922 353 1747 \r\nQ 353 2572 751 3078 \r\nQ 1150 3584 1784 3584 \r\nQ 2172 3584 2448 3432 \r\nQ 2725 3281 2906 2969 \r\nL 2906 3500 \r\nL 3481 3500 \r\nL 3481 -1331 \r\nL 2906 -1331 \r\nL 2906 525 \r\nz\r\n\" id=\"DejaVuSans-71\" transform=\"scale(0.015625)\"/>\r\n      </defs>\r\n      <use xlink:href=\"#DejaVuSans-66\"/>\r\n      <use x=\"35.205078\" xlink:href=\"#DejaVuSans-72\"/>\r\n      <use x=\"74.068359\" xlink:href=\"#DejaVuSans-65\"/>\r\n      <use x=\"135.591797\" xlink:href=\"#DejaVuSans-71\"/>\r\n     </g>\r\n    </g>\r\n   </g>\r\n   <g id=\"line2d_40\">\r\n    <path clip-path=\"url(#pcf767d28aa)\" d=\"M 123.056534 46.734545 \r\nL 175.533023 397.603636 \r\nL 228.009512 615.043636 \r\nL 280.486001 689.170909 \r\nL 332.96249 689.170909 \r\nL 385.438979 733.647273 \r\nL 437.915468 763.298182 \r\nL 490.391957 763.298182 \r\nL 542.868446 768.24 \r\nL 595.344935 773.181818 \r\nL 647.821424 778.123636 \r\nL 700.297913 783.065455 \r\nL 752.774402 792.949091 \r\nL 805.250891 797.890909 \r\nL 857.72738 797.890909 \r\nL 910.20387 802.832727 \r\nL 962.680359 807.774545 \r\nL 1015.156848 817.658182 \r\nL 1067.633337 822.6 \r\nL 1120.109826 822.6 \r\nL 1172.586315 827.541818 \r\nL 1225.062804 827.541818 \r\nL 1277.539293 827.541818 \r\nL 1330.015782 832.483636 \r\nL 1382.492271 832.483636 \r\nL 1434.96876 832.483636 \r\nL 1487.445249 832.483636 \r\nL 1539.921738 837.425455 \r\nL 1592.398227 837.425455 \r\nL 1644.874716 837.425455 \r\n\" style=\"fill:none;stroke:#1f77b4;stroke-linecap:square;stroke-width:1.5;\"/>\r\n   </g>\r\n   <g id=\"patch_3\">\r\n    <path d=\"M 46.965625 876.96 \r\nL 46.965625 7.2 \r\n\" style=\"fill:none;stroke:#000000;stroke-linecap:square;stroke-linejoin:miter;stroke-width:0.8;\"/>\r\n   </g>\r\n   <g id=\"patch_4\">\r\n    <path d=\"M 1720.965625 876.96 \r\nL 1720.965625 7.2 \r\n\" style=\"fill:none;stroke:#000000;stroke-linecap:square;stroke-linejoin:miter;stroke-width:0.8;\"/>\r\n   </g>\r\n   <g id=\"patch_5\">\r\n    <path d=\"M 46.965625 876.96 \r\nL 1720.965625 876.96 \r\n\" style=\"fill:none;stroke:#000000;stroke-linecap:square;stroke-linejoin:miter;stroke-width:0.8;\"/>\r\n   </g>\r\n   <g id=\"patch_6\">\r\n    <path d=\"M 46.965625 7.2 \r\nL 1720.965625 7.2 \r\n\" style=\"fill:none;stroke:#000000;stroke-linecap:square;stroke-linejoin:miter;stroke-width:0.8;\"/>\r\n   </g>\r\n  </g>\r\n </g>\r\n <defs>\r\n  <clipPath id=\"pcf767d28aa\">\r\n   <rect height=\"869.76\" width=\"1674\" x=\"46.965625\" y=\"7.2\"/>\r\n  </clipPath>\r\n </defs>\r\n</svg>\r\n",
      "image/png": "[encoded data removed]"
     },
     "metadata": {
      "needs_background": "light"
     }
    }
   ],
   "source": [
    "# Top 30 words overall\n",
    "sns.lineplot(data = df_tf.head(30), x = \"word\", y = \"freq\")"
   ]
  },
  {
   "cell_type": "code",
   "execution_count": 30,
   "metadata": {},
   "outputs": [
    {
     "output_type": "execute_result",
     "data": {
      "text/plain": [
       "<AxesSubplot:xlabel='word', ylabel='avg_freq'>"
      ]
     },
     "metadata": {},
     "execution_count": 30
    },
    {
     "output_type": "display_data",
     "data": {
      "text/plain": "<Figure size 2160x1152 with 1 Axes>",
      "image/svg+xml": "<?xml version=\"1.0\" encoding=\"utf-8\" standalone=\"no\"?>\r\n<!DOCTYPE svg PUBLIC \"-//W3C//DTD SVG 1.1//EN\"\r\n  \"http://www.w3.org/Graphics/SVG/1.1/DTD/svg11.dtd\">\r\n<svg height=\"918.315469pt\" version=\"1.1\" viewBox=\"0 0 1715.71875 918.315469\" width=\"1715.71875pt\" xmlns=\"http://www.w3.org/2000/svg\" xmlns:xlink=\"http://www.w3.org/1999/xlink\">\r\n <metadata>\r\n  <rdf:RDF xmlns:cc=\"http://creativecommons.org/ns#\" xmlns:dc=\"http://purl.org/dc/elements/1.1/\" xmlns:rdf=\"http://www.w3.org/1999/02/22-rdf-syntax-ns#\">\r\n   <cc:Work>\r\n    <dc:type rdf:resource=\"http://purl.org/dc/dcmitype/StillImage\"/>\r\n    <dc:date>2021-06-12T21:17:08.226521</dc:date>\r\n    <dc:format>image/svg+xml</dc:format>\r\n    <dc:creator>\r\n     <cc:Agent>\r\n      <dc:title>Matplotlib v3.4.2, https://matplotlib.org/</dc:title>\r\n     </cc:Agent>\r\n    </dc:creator>\r\n   </cc:Work>\r\n  </rdf:RDF>\r\n </metadata>\r\n <defs>\r\n  <style type=\"text/css\">*{stroke-linecap:butt;stroke-linejoin:round;}</style>\r\n </defs>\r\n <g id=\"figure_1\">\r\n  <g id=\"patch_1\">\r\n   <path d=\"M 0 918.315469 \r\nL 1715.71875 918.315469 \r\nL 1715.71875 0 \r\nL 0 0 \r\nz\r\n\" style=\"fill:none;\"/>\r\n  </g>\r\n  <g id=\"axes_1\">\r\n   <g id=\"patch_2\">\r\n    <path d=\"M 34.51875 880.759219 \r\nL 1708.51875 880.759219 \r\nL 1708.51875 10.999219 \r\nL 34.51875 10.999219 \r\nz\r\n\" style=\"fill:#ffffff;\"/>\r\n   </g>\r\n   <g id=\"matplotlib.axis_1\">\r\n    <g id=\"xtick_1\">\r\n     <g id=\"line2d_1\">\r\n      <defs>\r\n       <path d=\"M 0 0 \r\nL 0 3.5 \r\n\" id=\"m65a5ccdfa3\" style=\"stroke:#000000;stroke-width:0.8;\"/>\r\n      </defs>\r\n      <g>\r\n       <use style=\"stroke:#000000;stroke-width:0.8;\" x=\"110.609659\" xlink:href=\"#m65a5ccdfa3\" y=\"880.759219\"/>\r\n      </g>\r\n     </g>\r\n     <g id=\"text_1\">\r\n      <!-- oh -->\r\n      <g transform=\"translate(104.381534 895.357656)scale(0.1 -0.1)\">\r\n       <defs>\r\n        <path d=\"M 1959 3097 \r\nQ 1497 3097 1228 2736 \r\nQ 959 2375 959 1747 \r\nQ 959 1119 1226 758 \r\nQ 1494 397 1959 397 \r\nQ 2419 397 2687 759 \r\nQ 2956 1122 2956 1747 \r\nQ 2956 2369 2687 2733 \r\nQ 2419 3097 1959 3097 \r\nz\r\nM 1959 3584 \r\nQ 2709 3584 3137 3096 \r\nQ 3566 2609 3566 1747 \r\nQ 3566 888 3137 398 \r\nQ 2709 -91 1959 -91 \r\nQ 1206 -91 779 398 \r\nQ 353 888 353 1747 \r\nQ 353 2609 779 3096 \r\nQ 1206 3584 1959 3584 \r\nz\r\n\" id=\"DejaVuSans-6f\" transform=\"scale(0.015625)\"/>\r\n        <path d=\"M 3513 2113 \r\nL 3513 0 \r\nL 2938 0 \r\nL 2938 2094 \r\nQ 2938 2591 2744 2837 \r\nQ 2550 3084 2163 3084 \r\nQ 1697 3084 1428 2787 \r\nQ 1159 2491 1159 1978 \r\nL 1159 0 \r\nL 581 0 \r\nL 581 4863 \r\nL 1159 4863 \r\nL 1159 2956 \r\nQ 1366 3272 1645 3428 \r\nQ 1925 3584 2291 3584 \r\nQ 2894 3584 3203 3211 \r\nQ 3513 2838 3513 2113 \r\nz\r\n\" id=\"DejaVuSans-68\" transform=\"scale(0.015625)\"/>\r\n       </defs>\r\n       <use xlink:href=\"#DejaVuSans-6f\"/>\r\n       <use x=\"61.181641\" xlink:href=\"#DejaVuSans-68\"/>\r\n      </g>\r\n     </g>\r\n    </g>\r\n    <g id=\"xtick_2\">\r\n     <g id=\"line2d_2\">\r\n      <g>\r\n       <use style=\"stroke:#000000;stroke-width:0.8;\" x=\"163.086148\" xlink:href=\"#m65a5ccdfa3\" y=\"880.759219\"/>\r\n      </g>\r\n     </g>\r\n     <g id=\"text_2\">\r\n      <!-- singapore -->\r\n      <g transform=\"translate(138.432242 895.357656)scale(0.1 -0.1)\">\r\n       <defs>\r\n        <path d=\"M 2834 3397 \r\nL 2834 2853 \r\nQ 2591 2978 2328 3040 \r\nQ 2066 3103 1784 3103 \r\nQ 1356 3103 1142 2972 \r\nQ 928 2841 928 2578 \r\nQ 928 2378 1081 2264 \r\nQ 1234 2150 1697 2047 \r\nL 1894 2003 \r\nQ 2506 1872 2764 1633 \r\nQ 3022 1394 3022 966 \r\nQ 3022 478 2636 193 \r\nQ 2250 -91 1575 -91 \r\nQ 1294 -91 989 -36 \r\nQ 684 19 347 128 \r\nL 347 722 \r\nQ 666 556 975 473 \r\nQ 1284 391 1588 391 \r\nQ 1994 391 2212 530 \r\nQ 2431 669 2431 922 \r\nQ 2431 1156 2273 1281 \r\nQ 2116 1406 1581 1522 \r\nL 1381 1569 \r\nQ 847 1681 609 1914 \r\nQ 372 2147 372 2553 \r\nQ 372 3047 722 3315 \r\nQ 1072 3584 1716 3584 \r\nQ 2034 3584 2315 3537 \r\nQ 2597 3491 2834 3397 \r\nz\r\n\" id=\"DejaVuSans-73\" transform=\"scale(0.015625)\"/>\r\n        <path d=\"M 603 3500 \r\nL 1178 3500 \r\nL 1178 0 \r\nL 603 0 \r\nL 603 3500 \r\nz\r\nM 603 4863 \r\nL 1178 4863 \r\nL 1178 4134 \r\nL 603 4134 \r\nL 603 4863 \r\nz\r\n\" id=\"DejaVuSans-69\" transform=\"scale(0.015625)\"/>\r\n        <path d=\"M 3513 2113 \r\nL 3513 0 \r\nL 2938 0 \r\nL 2938 2094 \r\nQ 2938 2591 2744 2837 \r\nQ 2550 3084 2163 3084 \r\nQ 1697 3084 1428 2787 \r\nQ 1159 2491 1159 1978 \r\nL 1159 0 \r\nL 581 0 \r\nL 581 3500 \r\nL 1159 3500 \r\nL 1159 2956 \r\nQ 1366 3272 1645 3428 \r\nQ 1925 3584 2291 3584 \r\nQ 2894 3584 3203 3211 \r\nQ 3513 2838 3513 2113 \r\nz\r\n\" id=\"DejaVuSans-6e\" transform=\"scale(0.015625)\"/>\r\n        <path d=\"M 2906 1791 \r\nQ 2906 2416 2648 2759 \r\nQ 2391 3103 1925 3103 \r\nQ 1463 3103 1205 2759 \r\nQ 947 2416 947 1791 \r\nQ 947 1169 1205 825 \r\nQ 1463 481 1925 481 \r\nQ 2391 481 2648 825 \r\nQ 2906 1169 2906 1791 \r\nz\r\nM 3481 434 \r\nQ 3481 -459 3084 -895 \r\nQ 2688 -1331 1869 -1331 \r\nQ 1566 -1331 1297 -1286 \r\nQ 1028 -1241 775 -1147 \r\nL 775 -588 \r\nQ 1028 -725 1275 -790 \r\nQ 1522 -856 1778 -856 \r\nQ 2344 -856 2625 -561 \r\nQ 2906 -266 2906 331 \r\nL 2906 616 \r\nQ 2728 306 2450 153 \r\nQ 2172 0 1784 0 \r\nQ 1141 0 747 490 \r\nQ 353 981 353 1791 \r\nQ 353 2603 747 3093 \r\nQ 1141 3584 1784 3584 \r\nQ 2172 3584 2450 3431 \r\nQ 2728 3278 2906 2969 \r\nL 2906 3500 \r\nL 3481 3500 \r\nL 3481 434 \r\nz\r\n\" id=\"DejaVuSans-67\" transform=\"scale(0.015625)\"/>\r\n        <path d=\"M 2194 1759 \r\nQ 1497 1759 1228 1600 \r\nQ 959 1441 959 1056 \r\nQ 959 750 1161 570 \r\nQ 1363 391 1709 391 \r\nQ 2188 391 2477 730 \r\nQ 2766 1069 2766 1631 \r\nL 2766 1759 \r\nL 2194 1759 \r\nz\r\nM 3341 1997 \r\nL 3341 0 \r\nL 2766 0 \r\nL 2766 531 \r\nQ 2569 213 2275 61 \r\nQ 1981 -91 1556 -91 \r\nQ 1019 -91 701 211 \r\nQ 384 513 384 1019 \r\nQ 384 1609 779 1909 \r\nQ 1175 2209 1959 2209 \r\nL 2766 2209 \r\nL 2766 2266 \r\nQ 2766 2663 2505 2880 \r\nQ 2244 3097 1772 3097 \r\nQ 1472 3097 1187 3025 \r\nQ 903 2953 641 2809 \r\nL 641 3341 \r\nQ 956 3463 1253 3523 \r\nQ 1550 3584 1831 3584 \r\nQ 2591 3584 2966 3190 \r\nQ 3341 2797 3341 1997 \r\nz\r\n\" id=\"DejaVuSans-61\" transform=\"scale(0.015625)\"/>\r\n        <path d=\"M 1159 525 \r\nL 1159 -1331 \r\nL 581 -1331 \r\nL 581 3500 \r\nL 1159 3500 \r\nL 1159 2969 \r\nQ 1341 3281 1617 3432 \r\nQ 1894 3584 2278 3584 \r\nQ 2916 3584 3314 3078 \r\nQ 3713 2572 3713 1747 \r\nQ 3713 922 3314 415 \r\nQ 2916 -91 2278 -91 \r\nQ 1894 -91 1617 61 \r\nQ 1341 213 1159 525 \r\nz\r\nM 3116 1747 \r\nQ 3116 2381 2855 2742 \r\nQ 2594 3103 2138 3103 \r\nQ 1681 3103 1420 2742 \r\nQ 1159 2381 1159 1747 \r\nQ 1159 1113 1420 752 \r\nQ 1681 391 2138 391 \r\nQ 2594 391 2855 752 \r\nQ 3116 1113 3116 1747 \r\nz\r\n\" id=\"DejaVuSans-70\" transform=\"scale(0.015625)\"/>\r\n        <path d=\"M 2631 2963 \r\nQ 2534 3019 2420 3045 \r\nQ 2306 3072 2169 3072 \r\nQ 1681 3072 1420 2755 \r\nQ 1159 2438 1159 1844 \r\nL 1159 0 \r\nL 581 0 \r\nL 581 3500 \r\nL 1159 3500 \r\nL 1159 2956 \r\nQ 1341 3275 1631 3429 \r\nQ 1922 3584 2338 3584 \r\nQ 2397 3584 2469 3576 \r\nQ 2541 3569 2628 3553 \r\nL 2631 2963 \r\nz\r\n\" id=\"DejaVuSans-72\" transform=\"scale(0.015625)\"/>\r\n        <path d=\"M 3597 1894 \r\nL 3597 1613 \r\nL 953 1613 \r\nQ 991 1019 1311 708 \r\nQ 1631 397 2203 397 \r\nQ 2534 397 2845 478 \r\nQ 3156 559 3463 722 \r\nL 3463 178 \r\nQ 3153 47 2828 -22 \r\nQ 2503 -91 2169 -91 \r\nQ 1331 -91 842 396 \r\nQ 353 884 353 1716 \r\nQ 353 2575 817 3079 \r\nQ 1281 3584 2069 3584 \r\nQ 2775 3584 3186 3129 \r\nQ 3597 2675 3597 1894 \r\nz\r\nM 3022 2063 \r\nQ 3016 2534 2758 2815 \r\nQ 2500 3097 2075 3097 \r\nQ 1594 3097 1305 2825 \r\nQ 1016 2553 972 2059 \r\nL 3022 2063 \r\nz\r\n\" id=\"DejaVuSans-65\" transform=\"scale(0.015625)\"/>\r\n       </defs>\r\n       <use xlink:href=\"#DejaVuSans-73\"/>\r\n       <use x=\"52.099609\" xlink:href=\"#DejaVuSans-69\"/>\r\n       <use x=\"79.882812\" xlink:href=\"#DejaVuSans-6e\"/>\r\n       <use x=\"143.261719\" xlink:href=\"#DejaVuSans-67\"/>\r\n       <use x=\"206.738281\" xlink:href=\"#DejaVuSans-61\"/>\r\n       <use x=\"268.017578\" xlink:href=\"#DejaVuSans-70\"/>\r\n       <use x=\"331.494141\" xlink:href=\"#DejaVuSans-6f\"/>\r\n       <use x=\"392.675781\" xlink:href=\"#DejaVuSans-72\"/>\r\n       <use x=\"431.539062\" xlink:href=\"#DejaVuSans-65\"/>\r\n      </g>\r\n     </g>\r\n    </g>\r\n    <g id=\"xtick_3\">\r\n     <g id=\"line2d_3\">\r\n      <g>\r\n       <use style=\"stroke:#000000;stroke-width:0.8;\" x=\"215.562637\" xlink:href=\"#m65a5ccdfa3\" y=\"880.759219\"/>\r\n      </g>\r\n     </g>\r\n     <g id=\"text_3\">\r\n      <!-- together -->\r\n      <g transform=\"translate(194.031387 895.357656)scale(0.1 -0.1)\">\r\n       <defs>\r\n        <path d=\"M 1172 4494 \r\nL 1172 3500 \r\nL 2356 3500 \r\nL 2356 3053 \r\nL 1172 3053 \r\nL 1172 1153 \r\nQ 1172 725 1289 603 \r\nQ 1406 481 1766 481 \r\nL 2356 481 \r\nL 2356 0 \r\nL 1766 0 \r\nQ 1100 0 847 248 \r\nQ 594 497 594 1153 \r\nL 594 3053 \r\nL 172 3053 \r\nL 172 3500 \r\nL 594 3500 \r\nL 594 4494 \r\nL 1172 4494 \r\nz\r\n\" id=\"DejaVuSans-74\" transform=\"scale(0.015625)\"/>\r\n       </defs>\r\n       <use xlink:href=\"#DejaVuSans-74\"/>\r\n       <use x=\"39.208984\" xlink:href=\"#DejaVuSans-6f\"/>\r\n       <use x=\"100.390625\" xlink:href=\"#DejaVuSans-67\"/>\r\n       <use x=\"163.867188\" xlink:href=\"#DejaVuSans-65\"/>\r\n       <use x=\"225.390625\" xlink:href=\"#DejaVuSans-74\"/>\r\n       <use x=\"264.599609\" xlink:href=\"#DejaVuSans-68\"/>\r\n       <use x=\"327.978516\" xlink:href=\"#DejaVuSans-65\"/>\r\n       <use x=\"389.501953\" xlink:href=\"#DejaVuSans-72\"/>\r\n      </g>\r\n     </g>\r\n    </g>\r\n    <g id=\"xtick_4\">\r\n     <g id=\"line2d_4\">\r\n      <g>\r\n       <use style=\"stroke:#000000;stroke-width:0.8;\" x=\"268.039126\" xlink:href=\"#m65a5ccdfa3\" y=\"880.759219\"/>\r\n      </g>\r\n     </g>\r\n     <g id=\"text_4\">\r\n      <!-- home -->\r\n      <g transform=\"translate(253.864126 895.357656)scale(0.1 -0.1)\">\r\n       <defs>\r\n        <path d=\"M 3328 2828 \r\nQ 3544 3216 3844 3400 \r\nQ 4144 3584 4550 3584 \r\nQ 5097 3584 5394 3201 \r\nQ 5691 2819 5691 2113 \r\nL 5691 0 \r\nL 5113 0 \r\nL 5113 2094 \r\nQ 5113 2597 4934 2840 \r\nQ 4756 3084 4391 3084 \r\nQ 3944 3084 3684 2787 \r\nQ 3425 2491 3425 1978 \r\nL 3425 0 \r\nL 2847 0 \r\nL 2847 2094 \r\nQ 2847 2600 2669 2842 \r\nQ 2491 3084 2119 3084 \r\nQ 1678 3084 1418 2786 \r\nQ 1159 2488 1159 1978 \r\nL 1159 0 \r\nL 581 0 \r\nL 581 3500 \r\nL 1159 3500 \r\nL 1159 2956 \r\nQ 1356 3278 1631 3431 \r\nQ 1906 3584 2284 3584 \r\nQ 2666 3584 2933 3390 \r\nQ 3200 3197 3328 2828 \r\nz\r\n\" id=\"DejaVuSans-6d\" transform=\"scale(0.015625)\"/>\r\n       </defs>\r\n       <use xlink:href=\"#DejaVuSans-68\"/>\r\n       <use x=\"63.378906\" xlink:href=\"#DejaVuSans-6f\"/>\r\n       <use x=\"124.560547\" xlink:href=\"#DejaVuSans-6d\"/>\r\n       <use x=\"221.972656\" xlink:href=\"#DejaVuSans-65\"/>\r\n      </g>\r\n     </g>\r\n    </g>\r\n    <g id=\"xtick_5\">\r\n     <g id=\"line2d_5\">\r\n      <g>\r\n       <use style=\"stroke:#000000;stroke-width:0.8;\" x=\"320.515615\" xlink:href=\"#m65a5ccdfa3\" y=\"880.759219\"/>\r\n      </g>\r\n     </g>\r\n     <g id=\"text_5\">\r\n      <!-- one -->\r\n      <g transform=\"translate(311.210928 895.357656)scale(0.1 -0.1)\">\r\n       <use xlink:href=\"#DejaVuSans-6f\"/>\r\n       <use x=\"61.181641\" xlink:href=\"#DejaVuSans-6e\"/>\r\n       <use x=\"124.560547\" xlink:href=\"#DejaVuSans-65\"/>\r\n      </g>\r\n     </g>\r\n    </g>\r\n    <g id=\"xtick_6\">\r\n     <g id=\"line2d_6\">\r\n      <g>\r\n       <use style=\"stroke:#000000;stroke-width:0.8;\" x=\"372.992104\" xlink:href=\"#m65a5ccdfa3\" y=\"880.759219\"/>\r\n      </g>\r\n     </g>\r\n     <g id=\"text_6\">\r\n      <!-- heart -->\r\n      <g transform=\"translate(359.667104 895.357656)scale(0.1 -0.1)\">\r\n       <use xlink:href=\"#DejaVuSans-68\"/>\r\n       <use x=\"63.378906\" xlink:href=\"#DejaVuSans-65\"/>\r\n       <use x=\"124.902344\" xlink:href=\"#DejaVuSans-61\"/>\r\n       <use x=\"186.181641\" xlink:href=\"#DejaVuSans-72\"/>\r\n       <use x=\"227.294922\" xlink:href=\"#DejaVuSans-74\"/>\r\n      </g>\r\n     </g>\r\n    </g>\r\n    <g id=\"xtick_7\">\r\n     <g id=\"line2d_7\">\r\n      <g>\r\n       <use style=\"stroke:#000000;stroke-width:0.8;\" x=\"425.468593\" xlink:href=\"#m65a5ccdfa3\" y=\"880.759219\"/>\r\n      </g>\r\n     </g>\r\n     <g id=\"text_7\">\r\n      <!-- come -->\r\n      <g transform=\"translate(411.713125 895.357656)scale(0.1 -0.1)\">\r\n       <defs>\r\n        <path d=\"M 3122 3366 \r\nL 3122 2828 \r\nQ 2878 2963 2633 3030 \r\nQ 2388 3097 2138 3097 \r\nQ 1578 3097 1268 2742 \r\nQ 959 2388 959 1747 \r\nQ 959 1106 1268 751 \r\nQ 1578 397 2138 397 \r\nQ 2388 397 2633 464 \r\nQ 2878 531 3122 666 \r\nL 3122 134 \r\nQ 2881 22 2623 -34 \r\nQ 2366 -91 2075 -91 \r\nQ 1284 -91 818 406 \r\nQ 353 903 353 1747 \r\nQ 353 2603 823 3093 \r\nQ 1294 3584 2113 3584 \r\nQ 2378 3584 2631 3529 \r\nQ 2884 3475 3122 3366 \r\nz\r\n\" id=\"DejaVuSans-63\" transform=\"scale(0.015625)\"/>\r\n       </defs>\r\n       <use xlink:href=\"#DejaVuSans-63\"/>\r\n       <use x=\"54.980469\" xlink:href=\"#DejaVuSans-6f\"/>\r\n       <use x=\"116.162109\" xlink:href=\"#DejaVuSans-6d\"/>\r\n       <use x=\"213.574219\" xlink:href=\"#DejaVuSans-65\"/>\r\n      </g>\r\n     </g>\r\n    </g>\r\n    <g id=\"xtick_8\">\r\n     <g id=\"line2d_8\">\r\n      <g>\r\n       <use style=\"stroke:#000000;stroke-width:0.8;\" x=\"477.945082\" xlink:href=\"#m65a5ccdfa3\" y=\"880.759219\"/>\r\n      </g>\r\n     </g>\r\n     <g id=\"text_8\">\r\n      <!-- see -->\r\n      <g transform=\"translate(469.18727 895.357656)scale(0.1 -0.1)\">\r\n       <use xlink:href=\"#DejaVuSans-73\"/>\r\n       <use x=\"52.099609\" xlink:href=\"#DejaVuSans-65\"/>\r\n       <use x=\"113.623047\" xlink:href=\"#DejaVuSans-65\"/>\r\n      </g>\r\n     </g>\r\n    </g>\r\n    <g id=\"xtick_9\">\r\n     <g id=\"line2d_9\">\r\n      <g>\r\n       <use style=\"stroke:#000000;stroke-width:0.8;\" x=\"530.421571\" xlink:href=\"#m65a5ccdfa3\" y=\"880.759219\"/>\r\n      </g>\r\n     </g>\r\n     <g id=\"text_9\">\r\n      <!-- achieve -->\r\n      <g transform=\"translate(510.937978 895.357656)scale(0.1 -0.1)\">\r\n       <defs>\r\n        <path d=\"M 191 3500 \r\nL 800 3500 \r\nL 1894 563 \r\nL 2988 3500 \r\nL 3597 3500 \r\nL 2284 0 \r\nL 1503 0 \r\nL 191 3500 \r\nz\r\n\" id=\"DejaVuSans-76\" transform=\"scale(0.015625)\"/>\r\n       </defs>\r\n       <use xlink:href=\"#DejaVuSans-61\"/>\r\n       <use x=\"61.279297\" xlink:href=\"#DejaVuSans-63\"/>\r\n       <use x=\"116.259766\" xlink:href=\"#DejaVuSans-68\"/>\r\n       <use x=\"179.638672\" xlink:href=\"#DejaVuSans-69\"/>\r\n       <use x=\"207.421875\" xlink:href=\"#DejaVuSans-65\"/>\r\n       <use x=\"268.945312\" xlink:href=\"#DejaVuSans-76\"/>\r\n       <use x=\"328.125\" xlink:href=\"#DejaVuSans-65\"/>\r\n      </g>\r\n     </g>\r\n    </g>\r\n    <g id=\"xtick_10\">\r\n     <g id=\"line2d_10\">\r\n      <g>\r\n       <use style=\"stroke:#000000;stroke-width:0.8;\" x=\"582.89806\" xlink:href=\"#m65a5ccdfa3\" y=\"880.759219\"/>\r\n      </g>\r\n     </g>\r\n     <g id=\"text_10\">\r\n      <!-- hand -->\r\n      <g transform=\"translate(570.322279 895.357656)scale(0.1 -0.1)\">\r\n       <defs>\r\n        <path d=\"M 2906 2969 \r\nL 2906 4863 \r\nL 3481 4863 \r\nL 3481 0 \r\nL 2906 0 \r\nL 2906 525 \r\nQ 2725 213 2448 61 \r\nQ 2172 -91 1784 -91 \r\nQ 1150 -91 751 415 \r\nQ 353 922 353 1747 \r\nQ 353 2572 751 3078 \r\nQ 1150 3584 1784 3584 \r\nQ 2172 3584 2448 3432 \r\nQ 2725 3281 2906 2969 \r\nz\r\nM 947 1747 \r\nQ 947 1113 1208 752 \r\nQ 1469 391 1925 391 \r\nQ 2381 391 2643 752 \r\nQ 2906 1113 2906 1747 \r\nQ 2906 2381 2643 2742 \r\nQ 2381 3103 1925 3103 \r\nQ 1469 3103 1208 2742 \r\nQ 947 2381 947 1747 \r\nz\r\n\" id=\"DejaVuSans-64\" transform=\"scale(0.015625)\"/>\r\n       </defs>\r\n       <use xlink:href=\"#DejaVuSans-68\"/>\r\n       <use x=\"63.378906\" xlink:href=\"#DejaVuSans-61\"/>\r\n       <use x=\"124.658203\" xlink:href=\"#DejaVuSans-6e\"/>\r\n       <use x=\"188.037109\" xlink:href=\"#DejaVuSans-64\"/>\r\n      </g>\r\n     </g>\r\n    </g>\r\n    <g id=\"xtick_11\">\r\n     <g id=\"line2d_11\">\r\n      <g>\r\n       <use style=\"stroke:#000000;stroke-width:0.8;\" x=\"635.374549\" xlink:href=\"#m65a5ccdfa3\" y=\"880.759219\"/>\r\n      </g>\r\n     </g>\r\n     <g id=\"text_11\">\r\n      <!-- stand -->\r\n      <g transform=\"translate(621.402674 895.357656)scale(0.1 -0.1)\">\r\n       <use xlink:href=\"#DejaVuSans-73\"/>\r\n       <use x=\"52.099609\" xlink:href=\"#DejaVuSans-74\"/>\r\n       <use x=\"91.308594\" xlink:href=\"#DejaVuSans-61\"/>\r\n       <use x=\"152.587891\" xlink:href=\"#DejaVuSans-6e\"/>\r\n       <use x=\"215.966797\" xlink:href=\"#DejaVuSans-64\"/>\r\n      </g>\r\n     </g>\r\n    </g>\r\n    <g id=\"xtick_12\">\r\n     <g id=\"line2d_12\">\r\n      <g>\r\n       <use style=\"stroke:#000000;stroke-width:0.8;\" x=\"687.851038\" xlink:href=\"#m65a5ccdfa3\" y=\"880.759219\"/>\r\n      </g>\r\n     </g>\r\n     <g id=\"text_12\">\r\n      <!-- dreams -->\r\n      <g transform=\"translate(669.118226 895.357656)scale(0.1 -0.1)\">\r\n       <use xlink:href=\"#DejaVuSans-64\"/>\r\n       <use x=\"63.476562\" xlink:href=\"#DejaVuSans-72\"/>\r\n       <use x=\"102.339844\" xlink:href=\"#DejaVuSans-65\"/>\r\n       <use x=\"163.863281\" xlink:href=\"#DejaVuSans-61\"/>\r\n       <use x=\"225.142578\" xlink:href=\"#DejaVuSans-6d\"/>\r\n       <use x=\"322.554688\" xlink:href=\"#DejaVuSans-73\"/>\r\n      </g>\r\n     </g>\r\n    </g>\r\n    <g id=\"xtick_13\">\r\n     <g id=\"line2d_13\">\r\n      <g>\r\n       <use style=\"stroke:#000000;stroke-width:0.8;\" x=\"740.327527\" xlink:href=\"#m65a5ccdfa3\" y=\"880.759219\"/>\r\n      </g>\r\n     </g>\r\n     <g id=\"text_13\">\r\n      <!-- know -->\r\n      <g transform=\"translate(727.115027 895.357656)scale(0.1 -0.1)\">\r\n       <defs>\r\n        <path d=\"M 581 4863 \r\nL 1159 4863 \r\nL 1159 1991 \r\nL 2875 3500 \r\nL 3609 3500 \r\nL 1753 1863 \r\nL 3688 0 \r\nL 2938 0 \r\nL 1159 1709 \r\nL 1159 0 \r\nL 581 0 \r\nL 581 4863 \r\nz\r\n\" id=\"DejaVuSans-6b\" transform=\"scale(0.015625)\"/>\r\n        <path d=\"M 269 3500 \r\nL 844 3500 \r\nL 1563 769 \r\nL 2278 3500 \r\nL 2956 3500 \r\nL 3675 769 \r\nL 4391 3500 \r\nL 4966 3500 \r\nL 4050 0 \r\nL 3372 0 \r\nL 2619 2869 \r\nL 1863 0 \r\nL 1184 0 \r\nL 269 3500 \r\nz\r\n\" id=\"DejaVuSans-77\" transform=\"scale(0.015625)\"/>\r\n       </defs>\r\n       <use xlink:href=\"#DejaVuSans-6b\"/>\r\n       <use x=\"57.910156\" xlink:href=\"#DejaVuSans-6e\"/>\r\n       <use x=\"121.289062\" xlink:href=\"#DejaVuSans-6f\"/>\r\n       <use x=\"182.470703\" xlink:href=\"#DejaVuSans-77\"/>\r\n      </g>\r\n     </g>\r\n    </g>\r\n    <g id=\"xtick_14\">\r\n     <g id=\"line2d_14\">\r\n      <g>\r\n       <use style=\"stroke:#000000;stroke-width:0.8;\" x=\"792.804016\" xlink:href=\"#m65a5ccdfa3\" y=\"880.759219\"/>\r\n      </g>\r\n     </g>\r\n     <g id=\"text_14\">\r\n      <!-- let -->\r\n      <g transform=\"translate(786.378235 895.357656)scale(0.1 -0.1)\">\r\n       <defs>\r\n        <path d=\"M 603 4863 \r\nL 1178 4863 \r\nL 1178 0 \r\nL 603 0 \r\nL 603 4863 \r\nz\r\n\" id=\"DejaVuSans-6c\" transform=\"scale(0.015625)\"/>\r\n       </defs>\r\n       <use xlink:href=\"#DejaVuSans-6c\"/>\r\n       <use x=\"27.783203\" xlink:href=\"#DejaVuSans-65\"/>\r\n       <use x=\"89.306641\" xlink:href=\"#DejaVuSans-74\"/>\r\n      </g>\r\n     </g>\r\n    </g>\r\n    <g id=\"xtick_15\">\r\n     <g id=\"line2d_15\">\r\n      <g>\r\n       <use style=\"stroke:#000000;stroke-width:0.8;\" x=\"845.280505\" xlink:href=\"#m65a5ccdfa3\" y=\"880.759219\"/>\r\n      </g>\r\n     </g>\r\n     <g id=\"text_15\">\r\n      <!-- world -->\r\n      <g transform=\"translate(831.513318 895.357656)scale(0.1 -0.1)\">\r\n       <use xlink:href=\"#DejaVuSans-77\"/>\r\n       <use x=\"81.787109\" xlink:href=\"#DejaVuSans-6f\"/>\r\n       <use x=\"142.96875\" xlink:href=\"#DejaVuSans-72\"/>\r\n       <use x=\"184.082031\" xlink:href=\"#DejaVuSans-6c\"/>\r\n       <use x=\"211.865234\" xlink:href=\"#DejaVuSans-64\"/>\r\n      </g>\r\n     </g>\r\n    </g>\r\n    <g id=\"xtick_16\">\r\n     <g id=\"line2d_16\">\r\n      <g>\r\n       <use style=\"stroke:#000000;stroke-width:0.8;\" x=\"897.756995\" xlink:href=\"#m65a5ccdfa3\" y=\"880.759219\"/>\r\n      </g>\r\n     </g>\r\n     <g id=\"text_16\">\r\n      <!-- us -->\r\n      <g transform=\"translate(891.983557 895.357656)scale(0.1 -0.1)\">\r\n       <defs>\r\n        <path d=\"M 544 1381 \r\nL 544 3500 \r\nL 1119 3500 \r\nL 1119 1403 \r\nQ 1119 906 1312 657 \r\nQ 1506 409 1894 409 \r\nQ 2359 409 2629 706 \r\nQ 2900 1003 2900 1516 \r\nL 2900 3500 \r\nL 3475 3500 \r\nL 3475 0 \r\nL 2900 0 \r\nL 2900 538 \r\nQ 2691 219 2414 64 \r\nQ 2138 -91 1772 -91 \r\nQ 1169 -91 856 284 \r\nQ 544 659 544 1381 \r\nz\r\nM 1991 3584 \r\nL 1991 3584 \r\nz\r\n\" id=\"DejaVuSans-75\" transform=\"scale(0.015625)\"/>\r\n       </defs>\r\n       <use xlink:href=\"#DejaVuSans-75\"/>\r\n       <use x=\"63.378906\" xlink:href=\"#DejaVuSans-73\"/>\r\n      </g>\r\n     </g>\r\n    </g>\r\n    <g id=\"xtick_17\">\r\n     <g id=\"line2d_17\">\r\n      <g>\r\n       <use style=\"stroke:#000000;stroke-width:0.8;\" x=\"950.233484\" xlink:href=\"#m65a5ccdfa3\" y=\"880.759219\"/>\r\n      </g>\r\n     </g>\r\n     <g id=\"text_17\">\r\n      <!-- new -->\r\n      <g transform=\"translate(939.899109 895.357656)scale(0.1 -0.1)\">\r\n       <use xlink:href=\"#DejaVuSans-6e\"/>\r\n       <use x=\"63.378906\" xlink:href=\"#DejaVuSans-65\"/>\r\n       <use x=\"124.902344\" xlink:href=\"#DejaVuSans-77\"/>\r\n      </g>\r\n     </g>\r\n    </g>\r\n    <g id=\"xtick_18\">\r\n     <g id=\"line2d_18\">\r\n      <g>\r\n       <use style=\"stroke:#000000;stroke-width:0.8;\" x=\"1002.709973\" xlink:href=\"#m65a5ccdfa3\" y=\"880.759219\"/>\r\n      </g>\r\n     </g>\r\n     <g id=\"text_18\">\r\n      <!-- make -->\r\n      <g transform=\"translate(988.984973 895.357656)scale(0.1 -0.1)\">\r\n       <use xlink:href=\"#DejaVuSans-6d\"/>\r\n       <use x=\"97.412109\" xlink:href=\"#DejaVuSans-61\"/>\r\n       <use x=\"158.691406\" xlink:href=\"#DejaVuSans-6b\"/>\r\n       <use x=\"212.976562\" xlink:href=\"#DejaVuSans-65\"/>\r\n      </g>\r\n     </g>\r\n    </g>\r\n    <g id=\"xtick_19\">\r\n     <g id=\"line2d_19\">\r\n      <g>\r\n       <use style=\"stroke:#000000;stroke-width:0.8;\" x=\"1055.186462\" xlink:href=\"#m65a5ccdfa3\" y=\"880.759219\"/>\r\n      </g>\r\n     </g>\r\n     <g id=\"text_19\">\r\n      <!-- love -->\r\n      <g transform=\"translate(1044.702087 895.357656)scale(0.1 -0.1)\">\r\n       <use xlink:href=\"#DejaVuSans-6c\"/>\r\n       <use x=\"27.783203\" xlink:href=\"#DejaVuSans-6f\"/>\r\n       <use x=\"88.964844\" xlink:href=\"#DejaVuSans-76\"/>\r\n       <use x=\"148.144531\" xlink:href=\"#DejaVuSans-65\"/>\r\n      </g>\r\n     </g>\r\n    </g>\r\n    <g id=\"xtick_20\">\r\n     <g id=\"line2d_20\">\r\n      <g>\r\n       <use style=\"stroke:#000000;stroke-width:0.8;\" x=\"1107.662951\" xlink:href=\"#m65a5ccdfa3\" y=\"880.759219\"/>\r\n      </g>\r\n     </g>\r\n     <g id=\"text_20\">\r\n      <!-- sing -->\r\n      <g transform=\"translate(1097.326232 895.357656)scale(0.1 -0.1)\">\r\n       <use xlink:href=\"#DejaVuSans-73\"/>\r\n       <use x=\"52.099609\" xlink:href=\"#DejaVuSans-69\"/>\r\n       <use x=\"79.882812\" xlink:href=\"#DejaVuSans-6e\"/>\r\n       <use x=\"143.261719\" xlink:href=\"#DejaVuSans-67\"/>\r\n      </g>\r\n     </g>\r\n    </g>\r\n    <g id=\"xtick_21\">\r\n     <g id=\"line2d_21\">\r\n      <g>\r\n       <use style=\"stroke:#000000;stroke-width:0.8;\" x=\"1160.13944\" xlink:href=\"#m65a5ccdfa3\" y=\"880.759219\"/>\r\n      </g>\r\n     </g>\r\n     <g id=\"text_21\">\r\n      <!-- life -->\r\n      <g transform=\"translate(1152.524596 895.357656)scale(0.1 -0.1)\">\r\n       <defs>\r\n        <path d=\"M 2375 4863 \r\nL 2375 4384 \r\nL 1825 4384 \r\nQ 1516 4384 1395 4259 \r\nQ 1275 4134 1275 3809 \r\nL 1275 3500 \r\nL 2222 3500 \r\nL 2222 3053 \r\nL 1275 3053 \r\nL 1275 0 \r\nL 697 0 \r\nL 697 3053 \r\nL 147 3053 \r\nL 147 3500 \r\nL 697 3500 \r\nL 697 3744 \r\nQ 697 4328 969 4595 \r\nQ 1241 4863 1831 4863 \r\nL 2375 4863 \r\nz\r\n\" id=\"DejaVuSans-66\" transform=\"scale(0.015625)\"/>\r\n       </defs>\r\n       <use xlink:href=\"#DejaVuSans-6c\"/>\r\n       <use x=\"27.783203\" xlink:href=\"#DejaVuSans-69\"/>\r\n       <use x=\"55.566406\" xlink:href=\"#DejaVuSans-66\"/>\r\n       <use x=\"90.771484\" xlink:href=\"#DejaVuSans-65\"/>\r\n      </g>\r\n     </g>\r\n    </g>\r\n    <g id=\"xtick_22\">\r\n     <g id=\"line2d_22\">\r\n      <g>\r\n       <use style=\"stroke:#000000;stroke-width:0.8;\" x=\"1212.615929\" xlink:href=\"#m65a5ccdfa3\" y=\"880.759219\"/>\r\n      </g>\r\n     </g>\r\n     <g id=\"text_22\">\r\n      <!-- reach -->\r\n      <g transform=\"translate(1198.614366 895.357656)scale(0.1 -0.1)\">\r\n       <use xlink:href=\"#DejaVuSans-72\"/>\r\n       <use x=\"38.863281\" xlink:href=\"#DejaVuSans-65\"/>\r\n       <use x=\"100.386719\" xlink:href=\"#DejaVuSans-61\"/>\r\n       <use x=\"161.666016\" xlink:href=\"#DejaVuSans-63\"/>\r\n       <use x=\"216.646484\" xlink:href=\"#DejaVuSans-68\"/>\r\n      </g>\r\n     </g>\r\n    </g>\r\n    <g id=\"xtick_23\">\r\n     <g id=\"line2d_23\">\r\n      <g>\r\n       <use style=\"stroke:#000000;stroke-width:0.8;\" x=\"1265.092418\" xlink:href=\"#m65a5ccdfa3\" y=\"880.759219\"/>\r\n      </g>\r\n     </g>\r\n     <g id=\"text_23\">\r\n      <!-- may -->\r\n      <g transform=\"translate(1254.198668 895.357656)scale(0.1 -0.1)\">\r\n       <defs>\r\n        <path d=\"M 2059 -325 \r\nQ 1816 -950 1584 -1140 \r\nQ 1353 -1331 966 -1331 \r\nL 506 -1331 \r\nL 506 -850 \r\nL 844 -850 \r\nQ 1081 -850 1212 -737 \r\nQ 1344 -625 1503 -206 \r\nL 1606 56 \r\nL 191 3500 \r\nL 800 3500 \r\nL 1894 763 \r\nL 2988 3500 \r\nL 3597 3500 \r\nL 2059 -325 \r\nz\r\n\" id=\"DejaVuSans-79\" transform=\"scale(0.015625)\"/>\r\n       </defs>\r\n       <use xlink:href=\"#DejaVuSans-6d\"/>\r\n       <use x=\"97.412109\" xlink:href=\"#DejaVuSans-61\"/>\r\n       <use x=\"158.691406\" xlink:href=\"#DejaVuSans-79\"/>\r\n      </g>\r\n     </g>\r\n    </g>\r\n    <g id=\"xtick_24\">\r\n     <g id=\"line2d_24\">\r\n      <g>\r\n       <use style=\"stroke:#000000;stroke-width:0.8;\" x=\"1317.568907\" xlink:href=\"#m65a5ccdfa3\" y=\"880.759219\"/>\r\n      </g>\r\n     </g>\r\n     <g id=\"text_24\">\r\n      <!-- family -->\r\n      <g transform=\"translate(1302.136875 895.357656)scale(0.1 -0.1)\">\r\n       <use xlink:href=\"#DejaVuSans-66\"/>\r\n       <use x=\"35.205078\" xlink:href=\"#DejaVuSans-61\"/>\r\n       <use x=\"96.484375\" xlink:href=\"#DejaVuSans-6d\"/>\r\n       <use x=\"193.896484\" xlink:href=\"#DejaVuSans-69\"/>\r\n       <use x=\"221.679688\" xlink:href=\"#DejaVuSans-6c\"/>\r\n       <use x=\"249.462891\" xlink:href=\"#DejaVuSans-79\"/>\r\n      </g>\r\n     </g>\r\n    </g>\r\n    <g id=\"xtick_25\">\r\n     <g id=\"line2d_25\">\r\n      <g>\r\n       <use style=\"stroke:#000000;stroke-width:0.8;\" x=\"1370.045396\" xlink:href=\"#m65a5ccdfa3\" y=\"880.759219\"/>\r\n      </g>\r\n     </g>\r\n     <g id=\"text_25\">\r\n      <!-- look -->\r\n      <g transform=\"translate(1359.642271 895.357656)scale(0.1 -0.1)\">\r\n       <use xlink:href=\"#DejaVuSans-6c\"/>\r\n       <use x=\"27.783203\" xlink:href=\"#DejaVuSans-6f\"/>\r\n       <use x=\"88.964844\" xlink:href=\"#DejaVuSans-6f\"/>\r\n       <use x=\"150.146484\" xlink:href=\"#DejaVuSans-6b\"/>\r\n      </g>\r\n     </g>\r\n    </g>\r\n    <g id=\"xtick_26\">\r\n     <g id=\"line2d_26\">\r\n      <g>\r\n       <use style=\"stroke:#000000;stroke-width:0.8;\" x=\"1422.521885\" xlink:href=\"#m65a5ccdfa3\" y=\"880.759219\"/>\r\n      </g>\r\n     </g>\r\n     <g id=\"text_26\">\r\n      <!-- always -->\r\n      <g transform=\"translate(1405.351572 895.357656)scale(0.1 -0.1)\">\r\n       <use xlink:href=\"#DejaVuSans-61\"/>\r\n       <use x=\"61.279297\" xlink:href=\"#DejaVuSans-6c\"/>\r\n       <use x=\"89.0625\" xlink:href=\"#DejaVuSans-77\"/>\r\n       <use x=\"170.849609\" xlink:href=\"#DejaVuSans-61\"/>\r\n       <use x=\"232.128906\" xlink:href=\"#DejaVuSans-79\"/>\r\n       <use x=\"291.308594\" xlink:href=\"#DejaVuSans-73\"/>\r\n      </g>\r\n     </g>\r\n    </g>\r\n    <g id=\"xtick_27\">\r\n     <g id=\"line2d_27\">\r\n      <g>\r\n       <use style=\"stroke:#000000;stroke-width:0.8;\" x=\"1474.998374\" xlink:href=\"#m65a5ccdfa3\" y=\"880.759219\"/>\r\n      </g>\r\n     </g>\r\n     <g id=\"text_27\">\r\n      <!-- heartbeat -->\r\n      <g transform=\"translate(1450.398374 895.357656)scale(0.1 -0.1)\">\r\n       <defs>\r\n        <path d=\"M 3116 1747 \r\nQ 3116 2381 2855 2742 \r\nQ 2594 3103 2138 3103 \r\nQ 1681 3103 1420 2742 \r\nQ 1159 2381 1159 1747 \r\nQ 1159 1113 1420 752 \r\nQ 1681 391 2138 391 \r\nQ 2594 391 2855 752 \r\nQ 3116 1113 3116 1747 \r\nz\r\nM 1159 2969 \r\nQ 1341 3281 1617 3432 \r\nQ 1894 3584 2278 3584 \r\nQ 2916 3584 3314 3078 \r\nQ 3713 2572 3713 1747 \r\nQ 3713 922 3314 415 \r\nQ 2916 -91 2278 -91 \r\nQ 1894 -91 1617 61 \r\nQ 1341 213 1159 525 \r\nL 1159 0 \r\nL 581 0 \r\nL 581 4863 \r\nL 1159 4863 \r\nL 1159 2969 \r\nz\r\n\" id=\"DejaVuSans-62\" transform=\"scale(0.015625)\"/>\r\n       </defs>\r\n       <use xlink:href=\"#DejaVuSans-68\"/>\r\n       <use x=\"63.378906\" xlink:href=\"#DejaVuSans-65\"/>\r\n       <use x=\"124.902344\" xlink:href=\"#DejaVuSans-61\"/>\r\n       <use x=\"186.181641\" xlink:href=\"#DejaVuSans-72\"/>\r\n       <use x=\"227.294922\" xlink:href=\"#DejaVuSans-74\"/>\r\n       <use x=\"266.503906\" xlink:href=\"#DejaVuSans-62\"/>\r\n       <use x=\"329.980469\" xlink:href=\"#DejaVuSans-65\"/>\r\n       <use x=\"391.503906\" xlink:href=\"#DejaVuSans-61\"/>\r\n       <use x=\"452.783203\" xlink:href=\"#DejaVuSans-74\"/>\r\n      </g>\r\n     </g>\r\n    </g>\r\n    <g id=\"xtick_28\">\r\n     <g id=\"line2d_28\">\r\n      <g>\r\n       <use style=\"stroke:#000000;stroke-width:0.8;\" x=\"1527.474863\" xlink:href=\"#m65a5ccdfa3\" y=\"880.759219\"/>\r\n      </g>\r\n     </g>\r\n     <g id=\"text_28\">\r\n      <!-- dream -->\r\n      <g transform=\"translate(1511.346738 895.357656)scale(0.1 -0.1)\">\r\n       <use xlink:href=\"#DejaVuSans-64\"/>\r\n       <use x=\"63.476562\" xlink:href=\"#DejaVuSans-72\"/>\r\n       <use x=\"102.339844\" xlink:href=\"#DejaVuSans-65\"/>\r\n       <use x=\"163.863281\" xlink:href=\"#DejaVuSans-61\"/>\r\n       <use x=\"225.142578\" xlink:href=\"#DejaVuSans-6d\"/>\r\n      </g>\r\n     </g>\r\n    </g>\r\n    <g id=\"xtick_29\">\r\n     <g id=\"line2d_29\">\r\n      <g>\r\n       <use style=\"stroke:#000000;stroke-width:0.8;\" x=\"1579.951352\" xlink:href=\"#m65a5ccdfa3\" y=\"880.759219\"/>\r\n      </g>\r\n     </g>\r\n     <g id=\"text_29\">\r\n      <!-- people -->\r\n      <g transform=\"translate(1563.001352 895.357656)scale(0.1 -0.1)\">\r\n       <use xlink:href=\"#DejaVuSans-70\"/>\r\n       <use x=\"63.476562\" xlink:href=\"#DejaVuSans-65\"/>\r\n       <use x=\"125\" xlink:href=\"#DejaVuSans-6f\"/>\r\n       <use x=\"186.181641\" xlink:href=\"#DejaVuSans-70\"/>\r\n       <use x=\"249.658203\" xlink:href=\"#DejaVuSans-6c\"/>\r\n       <use x=\"277.441406\" xlink:href=\"#DejaVuSans-65\"/>\r\n      </g>\r\n     </g>\r\n    </g>\r\n    <g id=\"xtick_30\">\r\n     <g id=\"line2d_30\">\r\n      <g>\r\n       <use style=\"stroke:#000000;stroke-width:0.8;\" x=\"1632.427841\" xlink:href=\"#m65a5ccdfa3\" y=\"880.759219\"/>\r\n      </g>\r\n     </g>\r\n     <g id=\"text_30\">\r\n      <!-- nation -->\r\n      <g transform=\"translate(1616.617685 895.357656)scale(0.1 -0.1)\">\r\n       <use xlink:href=\"#DejaVuSans-6e\"/>\r\n       <use x=\"63.378906\" xlink:href=\"#DejaVuSans-61\"/>\r\n       <use x=\"124.658203\" xlink:href=\"#DejaVuSans-74\"/>\r\n       <use x=\"163.867188\" xlink:href=\"#DejaVuSans-69\"/>\r\n       <use x=\"191.650391\" xlink:href=\"#DejaVuSans-6f\"/>\r\n       <use x=\"252.832031\" xlink:href=\"#DejaVuSans-6e\"/>\r\n      </g>\r\n     </g>\r\n    </g>\r\n    <g id=\"text_31\">\r\n     <!-- word -->\r\n     <g transform=\"translate(859.228125 909.035781)scale(0.1 -0.1)\">\r\n      <use xlink:href=\"#DejaVuSans-77\"/>\r\n      <use x=\"81.787109\" xlink:href=\"#DejaVuSans-6f\"/>\r\n      <use x=\"142.96875\" xlink:href=\"#DejaVuSans-72\"/>\r\n      <use x=\"182.332031\" xlink:href=\"#DejaVuSans-64\"/>\r\n     </g>\r\n    </g>\r\n   </g>\r\n   <g id=\"matplotlib.axis_2\">\r\n    <g id=\"ytick_1\">\r\n     <g id=\"line2d_31\">\r\n      <defs>\r\n       <path d=\"M 0 0 \r\nL -3.5 0 \r\n\" id=\"me8e083ed59\" style=\"stroke:#000000;stroke-width:0.8;\"/>\r\n      </defs>\r\n      <g>\r\n       <use style=\"stroke:#000000;stroke-width:0.8;\" x=\"34.51875\" xlink:href=\"#me8e083ed59\" y=\"776.981037\"/>\r\n      </g>\r\n     </g>\r\n     <g id=\"text_32\">\r\n      <!-- 1 -->\r\n      <g transform=\"translate(21.15625 780.780256)scale(0.1 -0.1)\">\r\n       <defs>\r\n        <path d=\"M 794 531 \r\nL 1825 531 \r\nL 1825 4091 \r\nL 703 3866 \r\nL 703 4441 \r\nL 1819 4666 \r\nL 2450 4666 \r\nL 2450 531 \r\nL 3481 531 \r\nL 3481 0 \r\nL 794 0 \r\nL 794 531 \r\nz\r\n\" id=\"DejaVuSans-31\" transform=\"scale(0.015625)\"/>\r\n       </defs>\r\n       <use xlink:href=\"#DejaVuSans-31\"/>\r\n      </g>\r\n     </g>\r\n    </g>\r\n    <g id=\"ytick_2\">\r\n     <g id=\"line2d_32\">\r\n      <g>\r\n       <use style=\"stroke:#000000;stroke-width:0.8;\" x=\"34.51875\" xlink:href=\"#me8e083ed59\" y=\"623.784673\"/>\r\n      </g>\r\n     </g>\r\n     <g id=\"text_33\">\r\n      <!-- 2 -->\r\n      <g transform=\"translate(21.15625 627.583892)scale(0.1 -0.1)\">\r\n       <defs>\r\n        <path d=\"M 1228 531 \r\nL 3431 531 \r\nL 3431 0 \r\nL 469 0 \r\nL 469 531 \r\nQ 828 903 1448 1529 \r\nQ 2069 2156 2228 2338 \r\nQ 2531 2678 2651 2914 \r\nQ 2772 3150 2772 3378 \r\nQ 2772 3750 2511 3984 \r\nQ 2250 4219 1831 4219 \r\nQ 1534 4219 1204 4116 \r\nQ 875 4013 500 3803 \r\nL 500 4441 \r\nQ 881 4594 1212 4672 \r\nQ 1544 4750 1819 4750 \r\nQ 2544 4750 2975 4387 \r\nQ 3406 4025 3406 3419 \r\nQ 3406 3131 3298 2873 \r\nQ 3191 2616 2906 2266 \r\nQ 2828 2175 2409 1742 \r\nQ 1991 1309 1228 531 \r\nz\r\n\" id=\"DejaVuSans-32\" transform=\"scale(0.015625)\"/>\r\n       </defs>\r\n       <use xlink:href=\"#DejaVuSans-32\"/>\r\n      </g>\r\n     </g>\r\n    </g>\r\n    <g id=\"ytick_3\">\r\n     <g id=\"line2d_33\">\r\n      <g>\r\n       <use style=\"stroke:#000000;stroke-width:0.8;\" x=\"34.51875\" xlink:href=\"#me8e083ed59\" y=\"470.58831\"/>\r\n      </g>\r\n     </g>\r\n     <g id=\"text_34\">\r\n      <!-- 3 -->\r\n      <g transform=\"translate(21.15625 474.387528)scale(0.1 -0.1)\">\r\n       <defs>\r\n        <path d=\"M 2597 2516 \r\nQ 3050 2419 3304 2112 \r\nQ 3559 1806 3559 1356 \r\nQ 3559 666 3084 287 \r\nQ 2609 -91 1734 -91 \r\nQ 1441 -91 1130 -33 \r\nQ 819 25 488 141 \r\nL 488 750 \r\nQ 750 597 1062 519 \r\nQ 1375 441 1716 441 \r\nQ 2309 441 2620 675 \r\nQ 2931 909 2931 1356 \r\nQ 2931 1769 2642 2001 \r\nQ 2353 2234 1838 2234 \r\nL 1294 2234 \r\nL 1294 2753 \r\nL 1863 2753 \r\nQ 2328 2753 2575 2939 \r\nQ 2822 3125 2822 3475 \r\nQ 2822 3834 2567 4026 \r\nQ 2313 4219 1838 4219 \r\nQ 1578 4219 1281 4162 \r\nQ 984 4106 628 3988 \r\nL 628 4550 \r\nQ 988 4650 1302 4700 \r\nQ 1616 4750 1894 4750 \r\nQ 2613 4750 3031 4423 \r\nQ 3450 4097 3450 3541 \r\nQ 3450 3153 3228 2886 \r\nQ 3006 2619 2597 2516 \r\nz\r\n\" id=\"DejaVuSans-33\" transform=\"scale(0.015625)\"/>\r\n       </defs>\r\n       <use xlink:href=\"#DejaVuSans-33\"/>\r\n      </g>\r\n     </g>\r\n    </g>\r\n    <g id=\"ytick_4\">\r\n     <g id=\"line2d_34\">\r\n      <g>\r\n       <use style=\"stroke:#000000;stroke-width:0.8;\" x=\"34.51875\" xlink:href=\"#me8e083ed59\" y=\"317.391946\"/>\r\n      </g>\r\n     </g>\r\n     <g id=\"text_35\">\r\n      <!-- 4 -->\r\n      <g transform=\"translate(21.15625 321.191165)scale(0.1 -0.1)\">\r\n       <defs>\r\n        <path d=\"M 2419 4116 \r\nL 825 1625 \r\nL 2419 1625 \r\nL 2419 4116 \r\nz\r\nM 2253 4666 \r\nL 3047 4666 \r\nL 3047 1625 \r\nL 3713 1625 \r\nL 3713 1100 \r\nL 3047 1100 \r\nL 3047 0 \r\nL 2419 0 \r\nL 2419 1100 \r\nL 313 1100 \r\nL 313 1709 \r\nL 2253 4666 \r\nz\r\n\" id=\"DejaVuSans-34\" transform=\"scale(0.015625)\"/>\r\n       </defs>\r\n       <use xlink:href=\"#DejaVuSans-34\"/>\r\n      </g>\r\n     </g>\r\n    </g>\r\n    <g id=\"ytick_5\">\r\n     <g id=\"line2d_35\">\r\n      <g>\r\n       <use style=\"stroke:#000000;stroke-width:0.8;\" x=\"34.51875\" xlink:href=\"#me8e083ed59\" y=\"164.195582\"/>\r\n      </g>\r\n     </g>\r\n     <g id=\"text_36\">\r\n      <!-- 5 -->\r\n      <g transform=\"translate(21.15625 167.994801)scale(0.1 -0.1)\">\r\n       <defs>\r\n        <path d=\"M 691 4666 \r\nL 3169 4666 \r\nL 3169 4134 \r\nL 1269 4134 \r\nL 1269 2991 \r\nQ 1406 3038 1543 3061 \r\nQ 1681 3084 1819 3084 \r\nQ 2600 3084 3056 2656 \r\nQ 3513 2228 3513 1497 \r\nQ 3513 744 3044 326 \r\nQ 2575 -91 1722 -91 \r\nQ 1428 -91 1123 -41 \r\nQ 819 9 494 109 \r\nL 494 744 \r\nQ 775 591 1075 516 \r\nQ 1375 441 1709 441 \r\nQ 2250 441 2565 725 \r\nQ 2881 1009 2881 1497 \r\nQ 2881 1984 2565 2268 \r\nQ 2250 2553 1709 2553 \r\nQ 1456 2553 1204 2497 \r\nQ 953 2441 691 2322 \r\nL 691 4666 \r\nz\r\n\" id=\"DejaVuSans-35\" transform=\"scale(0.015625)\"/>\r\n       </defs>\r\n       <use xlink:href=\"#DejaVuSans-35\"/>\r\n      </g>\r\n     </g>\r\n    </g>\r\n    <g id=\"ytick_6\">\r\n     <g id=\"line2d_36\">\r\n      <g>\r\n       <use style=\"stroke:#000000;stroke-width:0.8;\" x=\"34.51875\" xlink:href=\"#me8e083ed59\" y=\"10.999219\"/>\r\n      </g>\r\n     </g>\r\n     <g id=\"text_37\">\r\n      <!-- 6 -->\r\n      <g transform=\"translate(21.15625 14.798437)scale(0.1 -0.1)\">\r\n       <defs>\r\n        <path d=\"M 2113 2584 \r\nQ 1688 2584 1439 2293 \r\nQ 1191 2003 1191 1497 \r\nQ 1191 994 1439 701 \r\nQ 1688 409 2113 409 \r\nQ 2538 409 2786 701 \r\nQ 3034 994 3034 1497 \r\nQ 3034 2003 2786 2293 \r\nQ 2538 2584 2113 2584 \r\nz\r\nM 3366 4563 \r\nL 3366 3988 \r\nQ 3128 4100 2886 4159 \r\nQ 2644 4219 2406 4219 \r\nQ 1781 4219 1451 3797 \r\nQ 1122 3375 1075 2522 \r\nQ 1259 2794 1537 2939 \r\nQ 1816 3084 2150 3084 \r\nQ 2853 3084 3261 2657 \r\nQ 3669 2231 3669 1497 \r\nQ 3669 778 3244 343 \r\nQ 2819 -91 2113 -91 \r\nQ 1303 -91 875 529 \r\nQ 447 1150 447 2328 \r\nQ 447 3434 972 4092 \r\nQ 1497 4750 2381 4750 \r\nQ 2619 4750 2861 4703 \r\nQ 3103 4656 3366 4563 \r\nz\r\n\" id=\"DejaVuSans-36\" transform=\"scale(0.015625)\"/>\r\n       </defs>\r\n       <use xlink:href=\"#DejaVuSans-36\"/>\r\n      </g>\r\n     </g>\r\n    </g>\r\n    <g id=\"text_38\">\r\n     <!-- avg_freq -->\r\n     <g transform=\"translate(14.798438 467.530781)rotate(-90)scale(0.1 -0.1)\">\r\n      <defs>\r\n       <path d=\"M 3263 -1063 \r\nL 3263 -1509 \r\nL -63 -1509 \r\nL -63 -1063 \r\nL 3263 -1063 \r\nz\r\n\" id=\"DejaVuSans-5f\" transform=\"scale(0.015625)\"/>\r\n       <path d=\"M 947 1747 \r\nQ 947 1113 1208 752 \r\nQ 1469 391 1925 391 \r\nQ 2381 391 2643 752 \r\nQ 2906 1113 2906 1747 \r\nQ 2906 2381 2643 2742 \r\nQ 2381 3103 1925 3103 \r\nQ 1469 3103 1208 2742 \r\nQ 947 2381 947 1747 \r\nz\r\nM 2906 525 \r\nQ 2725 213 2448 61 \r\nQ 2172 -91 1784 -91 \r\nQ 1150 -91 751 415 \r\nQ 353 922 353 1747 \r\nQ 353 2572 751 3078 \r\nQ 1150 3584 1784 3584 \r\nQ 2172 3584 2448 3432 \r\nQ 2725 3281 2906 2969 \r\nL 2906 3500 \r\nL 3481 3500 \r\nL 3481 -1331 \r\nL 2906 -1331 \r\nL 2906 525 \r\nz\r\n\" id=\"DejaVuSans-71\" transform=\"scale(0.015625)\"/>\r\n      </defs>\r\n      <use xlink:href=\"#DejaVuSans-61\"/>\r\n      <use x=\"61.279297\" xlink:href=\"#DejaVuSans-76\"/>\r\n      <use x=\"120.458984\" xlink:href=\"#DejaVuSans-67\"/>\r\n      <use x=\"183.935547\" xlink:href=\"#DejaVuSans-5f\"/>\r\n      <use x=\"233.935547\" xlink:href=\"#DejaVuSans-66\"/>\r\n      <use x=\"269.140625\" xlink:href=\"#DejaVuSans-72\"/>\r\n      <use x=\"308.003906\" xlink:href=\"#DejaVuSans-65\"/>\r\n      <use x=\"369.527344\" xlink:href=\"#DejaVuSans-71\"/>\r\n     </g>\r\n    </g>\r\n   </g>\r\n   <g id=\"line2d_37\">\r\n    <path clip-path=\"url(#p3b07bb37e4)\" d=\"M 110.609659 50.533764 \r\nL 163.086148 401.402855 \r\nL 215.562637 618.842855 \r\nL 268.039126 692.970128 \r\nL 320.515615 692.970128 \r\nL 372.992104 737.446491 \r\nL 425.468593 767.097401 \r\nL 477.945082 767.097401 \r\nL 530.421571 772.039219 \r\nL 582.89806 776.981037 \r\nL 635.374549 781.922855 \r\nL 687.851038 786.864673 \r\nL 740.327527 796.74831 \r\nL 792.804016 801.690128 \r\nL 845.280505 801.690128 \r\nL 897.756995 806.631946 \r\nL 950.233484 811.573764 \r\nL 1002.709973 821.457401 \r\nL 1055.186462 826.399219 \r\nL 1107.662951 826.399219 \r\nL 1160.13944 831.341037 \r\nL 1212.615929 831.341037 \r\nL 1265.092418 831.341037 \r\nL 1317.568907 836.282855 \r\nL 1370.045396 836.282855 \r\nL 1422.521885 836.282855 \r\nL 1474.998374 836.282855 \r\nL 1527.474863 841.224673 \r\nL 1579.951352 841.224673 \r\nL 1632.427841 841.224673 \r\n\" style=\"fill:none;stroke:#1f77b4;stroke-linecap:square;stroke-width:1.5;\"/>\r\n   </g>\r\n   <g id=\"patch_3\">\r\n    <path d=\"M 34.51875 880.759219 \r\nL 34.51875 10.999219 \r\n\" style=\"fill:none;stroke:#000000;stroke-linecap:square;stroke-linejoin:miter;stroke-width:0.8;\"/>\r\n   </g>\r\n   <g id=\"patch_4\">\r\n    <path d=\"M 1708.51875 880.759219 \r\nL 1708.51875 10.999219 \r\n\" style=\"fill:none;stroke:#000000;stroke-linecap:square;stroke-linejoin:miter;stroke-width:0.8;\"/>\r\n   </g>\r\n   <g id=\"patch_5\">\r\n    <path d=\"M 34.51875 880.759219 \r\nL 1708.51875 880.759219 \r\n\" style=\"fill:none;stroke:#000000;stroke-linecap:square;stroke-linejoin:miter;stroke-width:0.8;\"/>\r\n   </g>\r\n   <g id=\"patch_6\">\r\n    <path d=\"M 34.51875 10.999219 \r\nL 1708.51875 10.999219 \r\n\" style=\"fill:none;stroke:#000000;stroke-linecap:square;stroke-linejoin:miter;stroke-width:0.8;\"/>\r\n   </g>\r\n  </g>\r\n </g>\r\n <defs>\r\n  <clipPath id=\"p3b07bb37e4\">\r\n   <rect height=\"869.76\" width=\"1674\" x=\"34.51875\" y=\"10.999219\"/>\r\n  </clipPath>\r\n </defs>\r\n</svg>\r\n",
      "image/png": "[encoded data removed]"
     },
     "metadata": {
      "needs_background": "light"
     }
    }
   ],
   "source": [
    "# Freq of top 30 words, averaged across 31 songs\n",
    "df_tf[\"avg_freq\"] = df_tf[\"freq\"].apply(lambda x : x/31)\n",
    "sns.lineplot(data = df_tf.head(30), x = \"word\", y = \"avg_freq\")"
   ]
  },
  {
   "cell_type": "code",
   "execution_count": 45,
   "metadata": {},
   "outputs": [
    {
     "output_type": "execute_result",
     "data": {
      "text/plain": [
       "   accustomed  achieve  across  add  afraid  ago  ahead  air  alight  alive  \\\n",
       "0           0        0       0    0       0    0      0    0       0      0   \n",
       "1           0        8       0    0       0    0      0    1       0      0   \n",
       "2           0        1       0    0       0    0      0    0       0      0   \n",
       "3           0        0       0    0       0    0      0    0       0      0   \n",
       "4           1        0       0    0       0    0      0    1       0      0   \n",
       "\n",
       "   ...  yeah  yearning  years  yet  yo  youll  young  youre  youthful  \\\n",
       "0  ...     0         0      0    0   0      0      0      0         0   \n",
       "1  ...     0         0      0    0   0      0      0      0         0   \n",
       "2  ...     0         0      0    0   0      0      0      0         0   \n",
       "3  ...     0         0      0    1   0      0      0      0         1   \n",
       "4  ...     0         0      3    0   0      0      0      0         0   \n",
       "\n",
       "        year  \n",
       "0 1985-01-01  \n",
       "1 1986-01-01  \n",
       "2 1987-01-01  \n",
       "3 1989-01-01  \n",
       "4 1991-01-01  \n",
       "\n",
       "[5 rows x 633 columns]"
      ],
      "text/html": "<div>\n<style scoped>\n    .dataframe tbody tr th:only-of-type {\n        vertical-align: middle;\n    }\n\n    .dataframe tbody tr th {\n        vertical-align: top;\n    }\n\n    .dataframe thead th {\n        text-align: right;\n    }\n</style>\n<table border=\"1\" class=\"dataframe\">\n  <thead>\n    <tr style=\"text-align: right;\">\n      <th></th>\n      <th>accustomed</th>\n      <th>achieve</th>\n      <th>across</th>\n      <th>add</th>\n      <th>afraid</th>\n      <th>ago</th>\n      <th>ahead</th>\n      <th>air</th>\n      <th>alight</th>\n      <th>alive</th>\n      <th>...</th>\n      <th>yeah</th>\n      <th>yearning</th>\n      <th>years</th>\n      <th>yet</th>\n      <th>yo</th>\n      <th>youll</th>\n      <th>young</th>\n      <th>youre</th>\n      <th>youthful</th>\n      <th>year</th>\n    </tr>\n  </thead>\n  <tbody>\n    <tr>\n      <th>0</th>\n      <td>0</td>\n      <td>0</td>\n      <td>0</td>\n      <td>0</td>\n      <td>0</td>\n      <td>0</td>\n      <td>0</td>\n      <td>0</td>\n      <td>0</td>\n      <td>0</td>\n      <td>...</td>\n      <td>0</td>\n      <td>0</td>\n      <td>0</td>\n      <td>0</td>\n      <td>0</td>\n      <td>0</td>\n      <td>0</td>\n      <td>0</td>\n      <td>0</td>\n      <td>1985-01-01</td>\n    </tr>\n    <tr>\n      <th>1</th>\n      <td>0</td>\n      <td>8</td>\n      <td>0</td>\n      <td>0</td>\n      <td>0</td>\n      <td>0</td>\n      <td>0</td>\n      <td>1</td>\n      <td>0</td>\n      <td>0</td>\n      <td>...</td>\n      <td>0</td>\n      <td>0</td>\n      <td>0</td>\n      <td>0</td>\n      <td>0</td>\n      <td>0</td>\n      <td>0</td>\n      <td>0</td>\n      <td>0</td>\n      <td>1986-01-01</td>\n    </tr>\n    <tr>\n      <th>2</th>\n      <td>0</td>\n      <td>1</td>\n      <td>0</td>\n      <td>0</td>\n      <td>0</td>\n      <td>0</td>\n      <td>0</td>\n      <td>0</td>\n      <td>0</td>\n      <td>0</td>\n      <td>...</td>\n      <td>0</td>\n      <td>0</td>\n      <td>0</td>\n      <td>0</td>\n      <td>0</td>\n      <td>0</td>\n      <td>0</td>\n      <td>0</td>\n      <td>0</td>\n      <td>1987-01-01</td>\n    </tr>\n    <tr>\n      <th>3</th>\n      <td>0</td>\n      <td>0</td>\n      <td>0</td>\n      <td>0</td>\n      <td>0</td>\n      <td>0</td>\n      <td>0</td>\n      <td>0</td>\n      <td>0</td>\n      <td>0</td>\n      <td>...</td>\n      <td>0</td>\n      <td>0</td>\n      <td>0</td>\n      <td>1</td>\n      <td>0</td>\n      <td>0</td>\n      <td>0</td>\n      <td>0</td>\n      <td>1</td>\n      <td>1989-01-01</td>\n    </tr>\n    <tr>\n      <th>4</th>\n      <td>1</td>\n      <td>0</td>\n      <td>0</td>\n      <td>0</td>\n      <td>0</td>\n      <td>0</td>\n      <td>0</td>\n      <td>1</td>\n      <td>0</td>\n      <td>0</td>\n      <td>...</td>\n      <td>0</td>\n      <td>0</td>\n      <td>3</td>\n      <td>0</td>\n      <td>0</td>\n      <td>0</td>\n      <td>0</td>\n      <td>0</td>\n      <td>0</td>\n      <td>1991-01-01</td>\n    </tr>\n  </tbody>\n</table>\n<p>5 rows × 633 columns</p>\n</div>"
     },
     "metadata": {},
     "execution_count": 45
    }
   ],
   "source": [
    "df_dtm.head()"
   ]
  },
  {
   "cell_type": "code",
   "execution_count": 68,
   "metadata": {},
   "outputs": [],
   "source": [
    "import datetime\n",
    "\n",
    "# Function that accepts a row of the dtm, sorts by count (descending), extracts the top 5 most frequent words, appends the freq and words to a new dataframe\n",
    "def top_5_per_year(df) :\n",
    "    indices = df.index.tolist()\n",
    "    df_top_5 = pd.DataFrame(data = {\"words\" : [], \"freq\" : []})\n",
    "    for i in range(max(indices)) :\n",
    "        df_tmp = df.iloc[[i]]\n",
    "\n",
    "        # Index everything except the last column since that is the year column in df_dtm\n",
    "        df_tmp = pd.DataFrame(data = {\"year\" : [df_lyrics[\"year\"][i].strftime(\"%Y\")] * (len(df_tmp.columns) - 1) , \"words\" : df_tmp.columns.tolist()[:-1], \"freq\" : df_tmp.iloc[0, :-1] })\n",
    "\n",
    "        df_tmp.reset_index(drop = True, inplace = True)\n",
    "        df_tmp[\"year\"] = pd.to_datetime(df_tmp[\"year\"], format = \"%Y\")\n",
    "        df_tmp[\"freq\"] = df_tmp[\"freq\"].astype(int)\n",
    "\n",
    "        df_tmp = df_tmp.sort_values(by = \"freq\", ascending=False, axis = 0)\n",
    "        df_top_5 = df_top_5.append(df_tmp.head(3), ignore_index=True)\n",
    "    \n",
    "    df_top_5[\"year\"] = pd.to_datetime(df_top_5[\"year\"], format = \"%Y\")\n",
    "\n",
    "    return df_top_5"
   ]
  },
  {
   "cell_type": "code",
   "execution_count": 69,
   "metadata": {
    "tags": []
   },
   "outputs": [
    {
     "output_type": "stream",
     "name": "stdout",
     "text": [
      "<class 'pandas.core.frame.DataFrame'>\n",
      "RangeIndex: 632 entries, 0 to 631\n",
      "Data columns (total 3 columns):\n",
      " #   Column  Non-Null Count  Dtype           \n",
      "---  ------  --------------  -----           \n",
      " 0   year    632 non-null    datetime64[ns]  \n",
      " 1   words   632 non-null    object          \n",
      " 2   freq    632 non-null    Sparse[int32, 0]\n",
      "dtypes: Sparse[int32, 0](1), datetime64[ns](1), object(1)\n",
      "memory usage: 10.3+ KB\n",
      "None\n",
      "<class 'pandas.core.frame.DataFrame'>\n",
      "RangeIndex: 632 entries, 0 to 631\n",
      "Data columns (total 3 columns):\n",
      " #   Column  Non-Null Count  Dtype           \n",
      "---  ------  --------------  -----           \n",
      " 0   year    632 non-null    datetime64[ns]  \n",
      " 1   words   632 non-null    object          \n",
      " 2   freq    632 non-null    Sparse[int32, 0]\n",
      "dtypes: Sparse[int32, 0](1), datetime64[ns](1), object(1)\n",
      "memory usage: 10.2+ KB\n",
      "None\n",
      "<class 'pandas.core.frame.DataFrame'>\n",
      "RangeIndex: 632 entries, 0 to 631\n",
      "Data columns (total 3 columns):\n",
      " #   Column  Non-Null Count  Dtype           \n",
      "---  ------  --------------  -----           \n",
      " 0   year    632 non-null    datetime64[ns]  \n",
      " 1   words   632 non-null    object          \n",
      " 2   freq    632 non-null    Sparse[int32, 0]\n",
      "dtypes: Sparse[int32, 0](1), datetime64[ns](1), object(1)\n",
      "memory usage: 10.4+ KB\n",
      "None\n",
      "<class 'pandas.core.frame.DataFrame'>\n",
      "RangeIndex: 632 entries, 0 to 631\n",
      "Data columns (total 3 columns):\n",
      " #   Column  Non-Null Count  Dtype           \n",
      "---  ------  --------------  -----           \n",
      " 0   year    632 non-null    datetime64[ns]  \n",
      " 1   words   632 non-null    object          \n",
      " 2   freq    632 non-null    Sparse[int32, 0]\n",
      "dtypes: Sparse[int32, 0](1), datetime64[ns](1), object(1)\n",
      "memory usage: 10.2+ KB\n",
      "None\n",
      "<class 'pandas.core.frame.DataFrame'>\n",
      "RangeIndex: 632 entries, 0 to 631\n",
      "Data columns (total 3 columns):\n",
      " #   Column  Non-Null Count  Dtype           \n",
      "---  ------  --------------  -----           \n",
      " 0   year    632 non-null    datetime64[ns]  \n",
      " 1   words   632 non-null    object          \n",
      " 2   freq    632 non-null    Sparse[int32, 0]\n",
      "dtypes: Sparse[int32, 0](1), datetime64[ns](1), object(1)\n",
      "memory usage: 10.4+ KB\n",
      "None\n",
      "<class 'pandas.core.frame.DataFrame'>\n",
      "RangeIndex: 632 entries, 0 to 631\n",
      "Data columns (total 3 columns):\n",
      " #   Column  Non-Null Count  Dtype           \n",
      "---  ------  --------------  -----           \n",
      " 0   year    632 non-null    datetime64[ns]  \n",
      " 1   words   632 non-null    object          \n",
      " 2   freq    632 non-null    Sparse[int32, 0]\n",
      "dtypes: Sparse[int32, 0](1), datetime64[ns](1), object(1)\n",
      "memory usage: 10.4+ KB\n",
      "None\n",
      "<class 'pandas.core.frame.DataFrame'>\n",
      "RangeIndex: 632 entries, 0 to 631\n",
      "Data columns (total 3 columns):\n",
      " #   Column  Non-Null Count  Dtype           \n",
      "---  ------  --------------  -----           \n",
      " 0   year    632 non-null    datetime64[ns]  \n",
      " 1   words   632 non-null    object          \n",
      " 2   freq    632 non-null    Sparse[int32, 0]\n",
      "dtypes: Sparse[int32, 0](1), datetime64[ns](1), object(1)\n",
      "memory usage: 10.2+ KB\n",
      "None\n",
      "<class 'pandas.core.frame.DataFrame'>\n",
      "RangeIndex: 632 entries, 0 to 631\n",
      "Data columns (total 3 columns):\n",
      " #   Column  Non-Null Count  Dtype           \n",
      "---  ------  --------------  -----           \n",
      " 0   year    632 non-null    datetime64[ns]  \n",
      " 1   words   632 non-null    object          \n",
      " 2   freq    632 non-null    Sparse[int32, 0]\n",
      "dtypes: Sparse[int32, 0](1), datetime64[ns](1), object(1)\n",
      "memory usage: 10.3+ KB\n",
      "None\n",
      "<class 'pandas.core.frame.DataFrame'>\n",
      "RangeIndex: 632 entries, 0 to 631\n",
      "Data columns (total 3 columns):\n",
      " #   Column  Non-Null Count  Dtype           \n",
      "---  ------  --------------  -----           \n",
      " 0   year    632 non-null    datetime64[ns]  \n",
      " 1   words   632 non-null    object          \n",
      " 2   freq    632 non-null    Sparse[int32, 0]\n",
      "dtypes: Sparse[int32, 0](1), datetime64[ns](1), object(1)\n",
      "memory usage: 10.3+ KB\n",
      "None\n",
      "<class 'pandas.core.frame.DataFrame'>\n",
      "RangeIndex: 632 entries, 0 to 631\n",
      "Data columns (total 3 columns):\n",
      " #   Column  Non-Null Count  Dtype           \n",
      "---  ------  --------------  -----           \n",
      " 0   year    632 non-null    datetime64[ns]  \n",
      " 1   words   632 non-null    object          \n",
      " 2   freq    632 non-null    Sparse[int32, 0]\n",
      "dtypes: Sparse[int32, 0](1), datetime64[ns](1), object(1)\n",
      "memory usage: 10.4+ KB\n",
      "None\n",
      "<class 'pandas.core.frame.DataFrame'>\n",
      "RangeIndex: 632 entries, 0 to 631\n",
      "Data columns (total 3 columns):\n",
      " #   Column  Non-Null Count  Dtype           \n",
      "---  ------  --------------  -----           \n",
      " 0   year    632 non-null    datetime64[ns]  \n",
      " 1   words   632 non-null    object          \n",
      " 2   freq    632 non-null    Sparse[int32, 0]\n",
      "dtypes: Sparse[int32, 0](1), datetime64[ns](1), object(1)\n",
      "memory usage: 10.4+ KB\n",
      "None\n",
      "<class 'pandas.core.frame.DataFrame'>\n",
      "RangeIndex: 632 entries, 0 to 631\n",
      "Data columns (total 3 columns):\n",
      " #   Column  Non-Null Count  Dtype           \n",
      "---  ------  --------------  -----           \n",
      " 0   year    632 non-null    datetime64[ns]  \n",
      " 1   words   632 non-null    object          \n",
      " 2   freq    632 non-null    Sparse[int32, 0]\n",
      "dtypes: Sparse[int32, 0](1), datetime64[ns](1), object(1)\n",
      "memory usage: 10.5+ KB\n",
      "None\n",
      "<class 'pandas.core.frame.DataFrame'>\n",
      "RangeIndex: 632 entries, 0 to 631\n",
      "Data columns (total 3 columns):\n",
      " #   Column  Non-Null Count  Dtype           \n",
      "---  ------  --------------  -----           \n",
      " 0   year    632 non-null    datetime64[ns]  \n",
      " 1   words   632 non-null    object          \n",
      " 2   freq    632 non-null    Sparse[int32, 0]\n",
      "dtypes: Sparse[int32, 0](1), datetime64[ns](1), object(1)\n",
      "memory usage: 10.5+ KB\n",
      "None\n",
      "<class 'pandas.core.frame.DataFrame'>\n",
      "RangeIndex: 632 entries, 0 to 631\n",
      "Data columns (total 3 columns):\n",
      " #   Column  Non-Null Count  Dtype           \n",
      "---  ------  --------------  -----           \n",
      " 0   year    632 non-null    datetime64[ns]  \n",
      " 1   words   632 non-null    object          \n",
      " 2   freq    632 non-null    Sparse[int32, 0]\n",
      "dtypes: Sparse[int32, 0](1), datetime64[ns](1), object(1)\n",
      "memory usage: 10.3+ KB\n",
      "None\n",
      "<class 'pandas.core.frame.DataFrame'>\n",
      "RangeIndex: 632 entries, 0 to 631\n",
      "Data columns (total 3 columns):\n",
      " #   Column  Non-Null Count  Dtype           \n",
      "---  ------  --------------  -----           \n",
      " 0   year    632 non-null    datetime64[ns]  \n",
      " 1   words   632 non-null    object          \n",
      " 2   freq    632 non-null    Sparse[int32, 0]\n",
      "dtypes: Sparse[int32, 0](1), datetime64[ns](1), object(1)\n",
      "memory usage: 10.3+ KB\n",
      "None\n",
      "<class 'pandas.core.frame.DataFrame'>\n",
      "RangeIndex: 632 entries, 0 to 631\n",
      "Data columns (total 3 columns):\n",
      " #   Column  Non-Null Count  Dtype           \n",
      "---  ------  --------------  -----           \n",
      " 0   year    632 non-null    datetime64[ns]  \n",
      " 1   words   632 non-null    object          \n",
      " 2   freq    632 non-null    Sparse[int32, 0]\n",
      "dtypes: Sparse[int32, 0](1), datetime64[ns](1), object(1)\n",
      "memory usage: 10.3+ KB\n",
      "None\n",
      "<class 'pandas.core.frame.DataFrame'>\n",
      "RangeIndex: 632 entries, 0 to 631\n",
      "Data columns (total 3 columns):\n",
      " #   Column  Non-Null Count  Dtype           \n",
      "---  ------  --------------  -----           \n",
      " 0   year    632 non-null    datetime64[ns]  \n",
      " 1   words   632 non-null    object          \n",
      " 2   freq    632 non-null    Sparse[int32, 0]\n",
      "dtypes: Sparse[int32, 0](1), datetime64[ns](1), object(1)\n",
      "memory usage: 10.2+ KB\n",
      "None\n",
      "<class 'pandas.core.frame.DataFrame'>\n",
      "RangeIndex: 632 entries, 0 to 631\n",
      "Data columns (total 3 columns):\n",
      " #   Column  Non-Null Count  Dtype           \n",
      "---  ------  --------------  -----           \n",
      " 0   year    632 non-null    datetime64[ns]  \n",
      " 1   words   632 non-null    object          \n",
      " 2   freq    632 non-null    Sparse[int32, 0]\n",
      "dtypes: Sparse[int32, 0](1), datetime64[ns](1), object(1)\n",
      "memory usage: 10.5+ KB\n",
      "None\n",
      "<class 'pandas.core.frame.DataFrame'>\n",
      "RangeIndex: 632 entries, 0 to 631\n",
      "Data columns (total 3 columns):\n",
      " #   Column  Non-Null Count  Dtype           \n",
      "---  ------  --------------  -----           \n",
      " 0   year    632 non-null    datetime64[ns]  \n",
      " 1   words   632 non-null    object          \n",
      " 2   freq    632 non-null    Sparse[int32, 0]\n",
      "dtypes: Sparse[int32, 0](1), datetime64[ns](1), object(1)\n",
      "memory usage: 10.4+ KB\n",
      "None\n",
      "<class 'pandas.core.frame.DataFrame'>\n",
      "RangeIndex: 632 entries, 0 to 631\n",
      "Data columns (total 3 columns):\n",
      " #   Column  Non-Null Count  Dtype           \n",
      "---  ------  --------------  -----           \n",
      " 0   year    632 non-null    datetime64[ns]  \n",
      " 1   words   632 non-null    object          \n",
      " 2   freq    632 non-null    Sparse[int32, 0]\n",
      "dtypes: Sparse[int32, 0](1), datetime64[ns](1), object(1)\n",
      "memory usage: 10.4+ KB\n",
      "None\n",
      "<class 'pandas.core.frame.DataFrame'>\n",
      "RangeIndex: 632 entries, 0 to 631\n",
      "Data columns (total 3 columns):\n",
      " #   Column  Non-Null Count  Dtype           \n",
      "---  ------  --------------  -----           \n",
      " 0   year    632 non-null    datetime64[ns]  \n",
      " 1   words   632 non-null    object          \n",
      " 2   freq    632 non-null    Sparse[int32, 0]\n",
      "dtypes: Sparse[int32, 0](1), datetime64[ns](1), object(1)\n",
      "memory usage: 10.5+ KB\n",
      "None\n",
      "<class 'pandas.core.frame.DataFrame'>\n",
      "RangeIndex: 632 entries, 0 to 631\n",
      "Data columns (total 3 columns):\n",
      " #   Column  Non-Null Count  Dtype           \n",
      "---  ------  --------------  -----           \n",
      " 0   year    632 non-null    datetime64[ns]  \n",
      " 1   words   632 non-null    object          \n",
      " 2   freq    632 non-null    Sparse[int32, 0]\n",
      "dtypes: Sparse[int32, 0](1), datetime64[ns](1), object(1)\n",
      "memory usage: 10.4+ KB\n",
      "None\n",
      "<class 'pandas.core.frame.DataFrame'>\n",
      "RangeIndex: 632 entries, 0 to 631\n",
      "Data columns (total 3 columns):\n",
      " #   Column  Non-Null Count  Dtype           \n",
      "---  ------  --------------  -----           \n",
      " 0   year    632 non-null    datetime64[ns]  \n",
      " 1   words   632 non-null    object          \n",
      " 2   freq    632 non-null    Sparse[int32, 0]\n",
      "dtypes: Sparse[int32, 0](1), datetime64[ns](1), object(1)\n",
      "memory usage: 10.3+ KB\n",
      "None\n",
      "<class 'pandas.core.frame.DataFrame'>\n",
      "RangeIndex: 632 entries, 0 to 631\n",
      "Data columns (total 3 columns):\n",
      " #   Column  Non-Null Count  Dtype           \n",
      "---  ------  --------------  -----           \n",
      " 0   year    632 non-null    datetime64[ns]  \n",
      " 1   words   632 non-null    object          \n",
      " 2   freq    632 non-null    Sparse[int32, 0]\n",
      "dtypes: Sparse[int32, 0](1), datetime64[ns](1), object(1)\n",
      "memory usage: 10.6+ KB\n",
      "None\n",
      "<class 'pandas.core.frame.DataFrame'>\n",
      "RangeIndex: 632 entries, 0 to 631\n",
      "Data columns (total 3 columns):\n",
      " #   Column  Non-Null Count  Dtype           \n",
      "---  ------  --------------  -----           \n",
      " 0   year    632 non-null    datetime64[ns]  \n",
      " 1   words   632 non-null    object          \n",
      " 2   freq    632 non-null    Sparse[int32, 0]\n",
      "dtypes: Sparse[int32, 0](1), datetime64[ns](1), object(1)\n",
      "memory usage: 10.6+ KB\n",
      "None\n",
      "<class 'pandas.core.frame.DataFrame'>\n",
      "RangeIndex: 632 entries, 0 to 631\n",
      "Data columns (total 3 columns):\n",
      " #   Column  Non-Null Count  Dtype           \n",
      "---  ------  --------------  -----           \n",
      " 0   year    632 non-null    datetime64[ns]  \n",
      " 1   words   632 non-null    object          \n",
      " 2   freq    632 non-null    Sparse[int32, 0]\n",
      "dtypes: Sparse[int32, 0](1), datetime64[ns](1), object(1)\n",
      "memory usage: 10.5+ KB\n",
      "None\n",
      "<class 'pandas.core.frame.DataFrame'>\n",
      "RangeIndex: 632 entries, 0 to 631\n",
      "Data columns (total 3 columns):\n",
      " #   Column  Non-Null Count  Dtype           \n",
      "---  ------  --------------  -----           \n",
      " 0   year    632 non-null    datetime64[ns]  \n",
      " 1   words   632 non-null    object          \n",
      " 2   freq    632 non-null    Sparse[int32, 0]\n",
      "dtypes: Sparse[int32, 0](1), datetime64[ns](1), object(1)\n",
      "memory usage: 10.5+ KB\n",
      "None\n",
      "<class 'pandas.core.frame.DataFrame'>\n",
      "RangeIndex: 632 entries, 0 to 631\n",
      "Data columns (total 3 columns):\n",
      " #   Column  Non-Null Count  Dtype           \n",
      "---  ------  --------------  -----           \n",
      " 0   year    632 non-null    datetime64[ns]  \n",
      " 1   words   632 non-null    object          \n",
      " 2   freq    632 non-null    Sparse[int32, 0]\n",
      "dtypes: Sparse[int32, 0](1), datetime64[ns](1), object(1)\n",
      "memory usage: 10.3+ KB\n",
      "None\n",
      "<class 'pandas.core.frame.DataFrame'>\n",
      "RangeIndex: 632 entries, 0 to 631\n",
      "Data columns (total 3 columns):\n",
      " #   Column  Non-Null Count  Dtype           \n",
      "---  ------  --------------  -----           \n",
      " 0   year    632 non-null    datetime64[ns]  \n",
      " 1   words   632 non-null    object          \n",
      " 2   freq    632 non-null    Sparse[int32, 0]\n",
      "dtypes: Sparse[int32, 0](1), datetime64[ns](1), object(1)\n",
      "memory usage: 10.5+ KB\n",
      "None\n",
      "<class 'pandas.core.frame.DataFrame'>\n",
      "RangeIndex: 632 entries, 0 to 631\n",
      "Data columns (total 3 columns):\n",
      " #   Column  Non-Null Count  Dtype           \n",
      "---  ------  --------------  -----           \n",
      " 0   year    632 non-null    datetime64[ns]  \n",
      " 1   words   632 non-null    object          \n",
      " 2   freq    632 non-null    Sparse[int32, 0]\n",
      "dtypes: Sparse[int32, 0](1), datetime64[ns](1), object(1)\n",
      "memory usage: 10.8+ KB\n",
      "None\n"
     ]
    },
    {
     "output_type": "execute_result",
     "data": {
      "text/plain": [
       "        words  freq       year\n",
       "0       stand    10 1985-01-01\n",
       "1   singapore     7 1985-01-01\n",
       "2         got     2 1985-01-01\n",
       "3     achieve     8 1986-01-01\n",
       "4   singapore     7 1986-01-01\n",
       "5       count     6 1986-01-01\n",
       "6   singapore     9 1987-01-01\n",
       "7      nation     4 1987-01-01\n",
       "8      strong     3 1987-01-01\n",
       "9     arising     6 1989-01-01\n",
       "10        sea     5 1989-01-01\n",
       "11     stormy     5 1989-01-01\n",
       "12      years     3 1991-01-01\n",
       "13       part     2 1991-01-01\n",
       "14      grown     2 1991-01-01\n",
       "15        may     5 1995-01-01\n",
       "16    achieve     3 1995-01-01\n",
       "17     shared     3 1995-01-01\n",
       "18    achieve     8 1996-01-01\n",
       "19  singapore     7 1996-01-01"
      ],
      "text/html": "<div>\n<style scoped>\n    .dataframe tbody tr th:only-of-type {\n        vertical-align: middle;\n    }\n\n    .dataframe tbody tr th {\n        vertical-align: top;\n    }\n\n    .dataframe thead th {\n        text-align: right;\n    }\n</style>\n<table border=\"1\" class=\"dataframe\">\n  <thead>\n    <tr style=\"text-align: right;\">\n      <th></th>\n      <th>words</th>\n      <th>freq</th>\n      <th>year</th>\n    </tr>\n  </thead>\n  <tbody>\n    <tr>\n      <th>0</th>\n      <td>stand</td>\n      <td>10</td>\n      <td>1985-01-01</td>\n    </tr>\n    <tr>\n      <th>1</th>\n      <td>singapore</td>\n      <td>7</td>\n      <td>1985-01-01</td>\n    </tr>\n    <tr>\n      <th>2</th>\n      <td>got</td>\n      <td>2</td>\n      <td>1985-01-01</td>\n    </tr>\n    <tr>\n      <th>3</th>\n      <td>achieve</td>\n      <td>8</td>\n      <td>1986-01-01</td>\n    </tr>\n    <tr>\n      <th>4</th>\n      <td>singapore</td>\n      <td>7</td>\n      <td>1986-01-01</td>\n    </tr>\n    <tr>\n      <th>5</th>\n      <td>count</td>\n      <td>6</td>\n      <td>1986-01-01</td>\n    </tr>\n    <tr>\n      <th>6</th>\n      <td>singapore</td>\n      <td>9</td>\n      <td>1987-01-01</td>\n    </tr>\n    <tr>\n      <th>7</th>\n      <td>nation</td>\n      <td>4</td>\n      <td>1987-01-01</td>\n    </tr>\n    <tr>\n      <th>8</th>\n      <td>strong</td>\n      <td>3</td>\n      <td>1987-01-01</td>\n    </tr>\n    <tr>\n      <th>9</th>\n      <td>arising</td>\n      <td>6</td>\n      <td>1989-01-01</td>\n    </tr>\n    <tr>\n      <th>10</th>\n      <td>sea</td>\n      <td>5</td>\n      <td>1989-01-01</td>\n    </tr>\n    <tr>\n      <th>11</th>\n      <td>stormy</td>\n      <td>5</td>\n      <td>1989-01-01</td>\n    </tr>\n    <tr>\n      <th>12</th>\n      <td>years</td>\n      <td>3</td>\n      <td>1991-01-01</td>\n    </tr>\n    <tr>\n      <th>13</th>\n      <td>part</td>\n      <td>2</td>\n      <td>1991-01-01</td>\n    </tr>\n    <tr>\n      <th>14</th>\n      <td>grown</td>\n      <td>2</td>\n      <td>1991-01-01</td>\n    </tr>\n    <tr>\n      <th>15</th>\n      <td>may</td>\n      <td>5</td>\n      <td>1995-01-01</td>\n    </tr>\n    <tr>\n      <th>16</th>\n      <td>achieve</td>\n      <td>3</td>\n      <td>1995-01-01</td>\n    </tr>\n    <tr>\n      <th>17</th>\n      <td>shared</td>\n      <td>3</td>\n      <td>1995-01-01</td>\n    </tr>\n    <tr>\n      <th>18</th>\n      <td>achieve</td>\n      <td>8</td>\n      <td>1996-01-01</td>\n    </tr>\n    <tr>\n      <th>19</th>\n      <td>singapore</td>\n      <td>7</td>\n      <td>1996-01-01</td>\n    </tr>\n  </tbody>\n</table>\n</div>"
     },
     "metadata": {},
     "execution_count": 69
    }
   ],
   "source": [
    "df_top_5 = top_5_per_year(df_dtm)\n",
    "df_top_5.head(20)"
   ]
  },
  {
   "cell_type": "code",
   "execution_count": 61,
   "metadata": {},
   "outputs": [],
   "source": [
    "import plotly.express as px"
   ]
  },
  {
   "cell_type": "code",
   "execution_count": 70,
   "metadata": {},
   "outputs": [
    {
     "output_type": "display_data",
     "data": {
      "application/vnd.plotly.v1+json": {
       "config": {
        "plotlyServerURL": "https://plot.ly"
       },
       "data": [
        {
         "alignmentgroup": "True",
         "hovertemplate": "words=stand<br>year=%{x}<br>freq=%{y}<extra></extra>",
         "legendgroup": "stand",
         "marker": {
          "color": "#636efa"
         },
         "name": "stand",
         "offsetgroup": "stand",
         "orientation": "v",
         "showlegend": true,
         "textposition": "auto",
         "type": "bar",
         "x": [
          "1985-01-01T00:00:00"
         ],
         "xaxis": "x",
         "y": [
          10
         ],
         "yaxis": "y"
        },
        {
         "alignmentgroup": "True",
         "hovertemplate": "words=singapore<br>year=%{x}<br>freq=%{y}<extra></extra>",
         "legendgroup": "singapore",
         "marker": {
          "color": "#EF553B"
         },
         "name": "singapore",
         "offsetgroup": "singapore",
         "orientation": "v",
         "showlegend": true,
         "textposition": "auto",
         "type": "bar",
         "x": [
          "1985-01-01T00:00:00",
          "1986-01-01T00:00:00",
          "1987-01-01T00:00:00",
          "1996-01-01T00:00:00",
          "1997-01-01T00:00:00",
          "2003-01-01T00:00:00",
          "2008-01-01T00:00:00",
          "2010-01-01T00:00:00",
          "2015-01-01T00:00:00",
          "2018-01-01T00:00:00"
         ],
         "xaxis": "x",
         "y": [
          7,
          7,
          9,
          7,
          6,
          8,
          6,
          15,
          9,
          14
         ],
         "yaxis": "y"
        },
        {
         "alignmentgroup": "True",
         "hovertemplate": "words=got<br>year=%{x}<br>freq=%{y}<extra></extra>",
         "legendgroup": "got",
         "marker": {
          "color": "#00cc96"
         },
         "name": "got",
         "offsetgroup": "got",
         "orientation": "v",
         "showlegend": true,
         "textposition": "auto",
         "type": "bar",
         "x": [
          "1985-01-01T00:00:00"
         ],
         "xaxis": "x",
         "y": [
          2
         ],
         "yaxis": "y"
        },
        {
         "alignmentgroup": "True",
         "hovertemplate": "words=achieve<br>year=%{x}<br>freq=%{y}<extra></extra>",
         "legendgroup": "achieve",
         "marker": {
          "color": "#ab63fa"
         },
         "name": "achieve",
         "offsetgroup": "achieve",
         "orientation": "v",
         "showlegend": true,
         "textposition": "auto",
         "type": "bar",
         "x": [
          "1986-01-01T00:00:00",
          "1995-01-01T00:00:00",
          "1996-01-01T00:00:00"
         ],
         "xaxis": "x",
         "y": [
          8,
          3,
          8
         ],
         "yaxis": "y"
        },
        {
         "alignmentgroup": "True",
         "hovertemplate": "words=count<br>year=%{x}<br>freq=%{y}<extra></extra>",
         "legendgroup": "count",
         "marker": {
          "color": "#FFA15A"
         },
         "name": "count",
         "offsetgroup": "count",
         "orientation": "v",
         "showlegend": true,
         "textposition": "auto",
         "type": "bar",
         "x": [
          "1986-01-01T00:00:00",
          "1996-01-01T00:00:00"
         ],
         "xaxis": "x",
         "y": [
          6,
          6
         ],
         "yaxis": "y"
        },
        {
         "alignmentgroup": "True",
         "hovertemplate": "words=nation<br>year=%{x}<br>freq=%{y}<extra></extra>",
         "legendgroup": "nation",
         "marker": {
          "color": "#19d3f3"
         },
         "name": "nation",
         "offsetgroup": "nation",
         "orientation": "v",
         "showlegend": true,
         "textposition": "auto",
         "type": "bar",
         "x": [
          "1987-01-01T00:00:00"
         ],
         "xaxis": "x",
         "y": [
          4
         ],
         "yaxis": "y"
        },
        {
         "alignmentgroup": "True",
         "hovertemplate": "words=strong<br>year=%{x}<br>freq=%{y}<extra></extra>",
         "legendgroup": "strong",
         "marker": {
          "color": "#FF6692"
         },
         "name": "strong",
         "offsetgroup": "strong",
         "orientation": "v",
         "showlegend": true,
         "textposition": "auto",
         "type": "bar",
         "x": [
          "1987-01-01T00:00:00"
         ],
         "xaxis": "x",
         "y": [
          3
         ],
         "yaxis": "y"
        },
        {
         "alignmentgroup": "True",
         "hovertemplate": "words=arising<br>year=%{x}<br>freq=%{y}<extra></extra>",
         "legendgroup": "arising",
         "marker": {
          "color": "#B6E880"
         },
         "name": "arising",
         "offsetgroup": "arising",
         "orientation": "v",
         "showlegend": true,
         "textposition": "auto",
         "type": "bar",
         "x": [
          "1989-01-01T00:00:00"
         ],
         "xaxis": "x",
         "y": [
          6
         ],
         "yaxis": "y"
        },
        {
         "alignmentgroup": "True",
         "hovertemplate": "words=sea<br>year=%{x}<br>freq=%{y}<extra></extra>",
         "legendgroup": "sea",
         "marker": {
          "color": "#FF97FF"
         },
         "name": "sea",
         "offsetgroup": "sea",
         "orientation": "v",
         "showlegend": true,
         "textposition": "auto",
         "type": "bar",
         "x": [
          "1989-01-01T00:00:00"
         ],
         "xaxis": "x",
         "y": [
          5
         ],
         "yaxis": "y"
        },
        {
         "alignmentgroup": "True",
         "hovertemplate": "words=stormy<br>year=%{x}<br>freq=%{y}<extra></extra>",
         "legendgroup": "stormy",
         "marker": {
          "color": "#FECB52"
         },
         "name": "stormy",
         "offsetgroup": "stormy",
         "orientation": "v",
         "showlegend": true,
         "textposition": "auto",
         "type": "bar",
         "x": [
          "1989-01-01T00:00:00"
         ],
         "xaxis": "x",
         "y": [
          5
         ],
         "yaxis": "y"
        },
        {
         "alignmentgroup": "True",
         "hovertemplate": "words=years<br>year=%{x}<br>freq=%{y}<extra></extra>",
         "legendgroup": "years",
         "marker": {
          "color": "#636efa"
         },
         "name": "years",
         "offsetgroup": "years",
         "orientation": "v",
         "showlegend": true,
         "textposition": "auto",
         "type": "bar",
         "x": [
          "1991-01-01T00:00:00"
         ],
         "xaxis": "x",
         "y": [
          3
         ],
         "yaxis": "y"
        },
        {
         "alignmentgroup": "True",
         "hovertemplate": "words=part<br>year=%{x}<br>freq=%{y}<extra></extra>",
         "legendgroup": "part",
         "marker": {
          "color": "#EF553B"
         },
         "name": "part",
         "offsetgroup": "part",
         "orientation": "v",
         "showlegend": true,
         "textposition": "auto",
         "type": "bar",
         "x": [
          "1991-01-01T00:00:00"
         ],
         "xaxis": "x",
         "y": [
          2
         ],
         "yaxis": "y"
        },
        {
         "alignmentgroup": "True",
         "hovertemplate": "words=grown<br>year=%{x}<br>freq=%{y}<extra></extra>",
         "legendgroup": "grown",
         "marker": {
          "color": "#00cc96"
         },
         "name": "grown",
         "offsetgroup": "grown",
         "orientation": "v",
         "showlegend": true,
         "textposition": "auto",
         "type": "bar",
         "x": [
          "1991-01-01T00:00:00"
         ],
         "xaxis": "x",
         "y": [
          2
         ],
         "yaxis": "y"
        },
        {
         "alignmentgroup": "True",
         "hovertemplate": "words=may<br>year=%{x}<br>freq=%{y}<extra></extra>",
         "legendgroup": "may",
         "marker": {
          "color": "#ab63fa"
         },
         "name": "may",
         "offsetgroup": "may",
         "orientation": "v",
         "showlegend": true,
         "textposition": "auto",
         "type": "bar",
         "x": [
          "1995-01-01T00:00:00",
          "2006-01-01T00:00:00"
         ],
         "xaxis": "x",
         "y": [
          5,
          3
         ],
         "yaxis": "y"
        },
        {
         "alignmentgroup": "True",
         "hovertemplate": "words=shared<br>year=%{x}<br>freq=%{y}<extra></extra>",
         "legendgroup": "shared",
         "marker": {
          "color": "#FFA15A"
         },
         "name": "shared",
         "offsetgroup": "shared",
         "orientation": "v",
         "showlegend": true,
         "textposition": "auto",
         "type": "bar",
         "x": [
          "1995-01-01T00:00:00"
         ],
         "xaxis": "x",
         "y": [
          3
         ],
         "yaxis": "y"
        },
        {
         "alignmentgroup": "True",
         "hovertemplate": "words=people<br>year=%{x}<br>freq=%{y}<extra></extra>",
         "legendgroup": "people",
         "marker": {
          "color": "#19d3f3"
         },
         "name": "people",
         "offsetgroup": "people",
         "orientation": "v",
         "showlegend": true,
         "textposition": "auto",
         "type": "bar",
         "x": [
          "1997-01-01T00:00:00"
         ],
         "xaxis": "x",
         "y": [
          2
         ],
         "yaxis": "y"
        },
        {
         "alignmentgroup": "True",
         "hovertemplate": "words=see<br>year=%{x}<br>freq=%{y}<extra></extra>",
         "legendgroup": "see",
         "marker": {
          "color": "#FF6692"
         },
         "name": "see",
         "offsetgroup": "see",
         "orientation": "v",
         "showlegend": true,
         "textposition": "auto",
         "type": "bar",
         "x": [
          "1997-01-01T00:00:00",
          "2009-01-01T00:00:00"
         ],
         "xaxis": "x",
         "y": [
          2,
          15
         ],
         "yaxis": "y"
        },
        {
         "alignmentgroup": "True",
         "hovertemplate": "words=know<br>year=%{x}<br>freq=%{y}<extra></extra>",
         "legendgroup": "know",
         "marker": {
          "color": "#B6E880"
         },
         "name": "know",
         "offsetgroup": "know",
         "orientation": "v",
         "showlegend": true,
         "textposition": "auto",
         "type": "bar",
         "x": [
          "1998-01-01T00:00:00",
          "2001-01-01T00:00:00",
          "2004-01-01T00:00:00"
         ],
         "xaxis": "x",
         "y": [
          4,
          3,
          4
         ],
         "yaxis": "y"
        },
        {
         "alignmentgroup": "True",
         "hovertemplate": "words=home<br>year=%{x}<br>freq=%{y}<extra></extra>",
         "legendgroup": "home",
         "marker": {
          "color": "#FF97FF"
         },
         "name": "home",
         "offsetgroup": "home",
         "orientation": "v",
         "showlegend": true,
         "textposition": "auto",
         "type": "bar",
         "x": [
          "1998-01-01T00:00:00",
          "2004-01-01T00:00:00",
          "2006-01-01T00:00:00",
          "2019-01-01T00:00:00"
         ],
         "xaxis": "x",
         "y": [
          3,
          3,
          8,
          6
         ],
         "yaxis": "y"
        },
        {
         "alignmentgroup": "True",
         "hovertemplate": "words=always<br>year=%{x}<br>freq=%{y}<extra></extra>",
         "legendgroup": "always",
         "marker": {
          "color": "#FECB52"
         },
         "name": "always",
         "offsetgroup": "always",
         "orientation": "v",
         "showlegend": true,
         "textposition": "auto",
         "type": "bar",
         "x": [
          "1998-01-01T00:00:00",
          "2004-01-01T00:00:00",
          "2011-01-01T00:00:00"
         ],
         "xaxis": "x",
         "y": [
          2,
          2,
          4
         ],
         "yaxis": "y"
        },
        {
         "alignmentgroup": "True",
         "hovertemplate": "words=together<br>year=%{x}<br>freq=%{y}<extra></extra>",
         "legendgroup": "together",
         "marker": {
          "color": "#636efa"
         },
         "name": "together",
         "offsetgroup": "together",
         "orientation": "v",
         "showlegend": true,
         "textposition": "auto",
         "type": "bar",
         "x": [
          "1999-01-01T00:00:00",
          "2000-01-01T00:00:00",
          "2002-01-01T00:00:00",
          "2003-01-01T00:00:00",
          "2011-01-01T00:00:00",
          "2013-01-01T00:00:00",
          "2017-01-01T00:00:00"
         ],
         "xaxis": "x",
         "y": [
          5,
          5,
          4,
          8,
          3,
          8,
          8
         ],
         "yaxis": "y"
        },
        {
         "alignmentgroup": "True",
         "hovertemplate": "words=us<br>year=%{x}<br>freq=%{y}<extra></extra>",
         "legendgroup": "us",
         "marker": {
          "color": "#EF553B"
         },
         "name": "us",
         "offsetgroup": "us",
         "orientation": "v",
         "showlegend": true,
         "textposition": "auto",
         "type": "bar",
         "x": [
          "1999-01-01T00:00:00",
          "2000-01-01T00:00:00"
         ],
         "xaxis": "x",
         "y": [
          4,
          4
         ],
         "yaxis": "y"
        },
        {
         "alignmentgroup": "True",
         "hovertemplate": "words=let<br>year=%{x}<br>freq=%{y}<extra></extra>",
         "legendgroup": "let",
         "marker": {
          "color": "#00cc96"
         },
         "name": "let",
         "offsetgroup": "let",
         "orientation": "v",
         "showlegend": true,
         "textposition": "auto",
         "type": "bar",
         "x": [
          "1999-01-01T00:00:00",
          "2000-01-01T00:00:00",
          "2005-01-01T00:00:00"
         ],
         "xaxis": "x",
         "y": [
          4,
          4,
          8
         ],
         "yaxis": "y"
        },
        {
         "alignmentgroup": "True",
         "hovertemplate": "words=belong<br>year=%{x}<br>freq=%{y}<extra></extra>",
         "legendgroup": "belong",
         "marker": {
          "color": "#ab63fa"
         },
         "name": "belong",
         "offsetgroup": "belong",
         "orientation": "v",
         "showlegend": true,
         "textposition": "auto",
         "type": "bar",
         "x": [
          "2001-01-01T00:00:00"
         ],
         "xaxis": "x",
         "y": [
          5
         ],
         "yaxis": "y"
        },
        {
         "alignmentgroup": "True",
         "hovertemplate": "words=heart<br>year=%{x}<br>freq=%{y}<extra></extra>",
         "legendgroup": "heart",
         "marker": {
          "color": "#FFA15A"
         },
         "name": "heart",
         "offsetgroup": "heart",
         "orientation": "v",
         "showlegend": true,
         "textposition": "auto",
         "type": "bar",
         "x": [
          "2001-01-01T00:00:00",
          "2015-01-01T00:00:00",
          "2019-01-01T00:00:00"
         ],
         "xaxis": "x",
         "y": [
          3,
          6,
          7
         ],
         "yaxis": "y"
        },
        {
         "alignmentgroup": "True",
         "hovertemplate": "words=long<br>year=%{x}<br>freq=%{y}<extra></extra>",
         "legendgroup": "long",
         "marker": {
          "color": "#19d3f3"
         },
         "name": "long",
         "offsetgroup": "long",
         "orientation": "v",
         "showlegend": true,
         "textposition": "auto",
         "type": "bar",
         "x": [
          "2002-01-01T00:00:00"
         ],
         "xaxis": "x",
         "y": [
          4
         ],
         "yaxis": "y"
        },
        {
         "alignmentgroup": "True",
         "hovertemplate": "words=side<br>year=%{x}<br>freq=%{y}<extra></extra>",
         "legendgroup": "side",
         "marker": {
          "color": "#FF6692"
         },
         "name": "side",
         "offsetgroup": "side",
         "orientation": "v",
         "showlegend": true,
         "textposition": "auto",
         "type": "bar",
         "x": [
          "2002-01-01T00:00:00"
         ],
         "xaxis": "x",
         "y": [
          4
         ],
         "yaxis": "y"
        },
        {
         "alignmentgroup": "True",
         "hovertemplate": "words=one<br>year=%{x}<br>freq=%{y}<extra></extra>",
         "legendgroup": "one",
         "marker": {
          "color": "#B6E880"
         },
         "name": "one",
         "offsetgroup": "one",
         "orientation": "v",
         "showlegend": true,
         "textposition": "auto",
         "type": "bar",
         "x": [
          "2003-01-01T00:00:00",
          "2008-01-01T00:00:00"
         ],
         "xaxis": "x",
         "y": [
          14,
          7
         ],
         "yaxis": "y"
        },
        {
         "alignmentgroup": "True",
         "hovertemplate": "words=skies<br>year=%{x}<br>freq=%{y}<extra></extra>",
         "legendgroup": "skies",
         "marker": {
          "color": "#FF97FF"
         },
         "name": "skies",
         "offsetgroup": "skies",
         "orientation": "v",
         "showlegend": true,
         "textposition": "auto",
         "type": "bar",
         "x": [
          "2005-01-01T00:00:00"
         ],
         "xaxis": "x",
         "y": [
          8
         ],
         "yaxis": "y"
        },
        {
         "alignmentgroup": "True",
         "hovertemplate": "words=soar<br>year=%{x}<br>freq=%{y}<extra></extra>",
         "legendgroup": "soar",
         "marker": {
          "color": "#FECB52"
         },
         "name": "soar",
         "offsetgroup": "soar",
         "orientation": "v",
         "showlegend": true,
         "textposition": "auto",
         "type": "bar",
         "x": [
          "2005-01-01T00:00:00"
         ],
         "xaxis": "x",
         "y": [
          7
         ],
         "yaxis": "y"
        },
        {
         "alignmentgroup": "True",
         "hovertemplate": "words=wherever<br>year=%{x}<br>freq=%{y}<extra></extra>",
         "legendgroup": "wherever",
         "marker": {
          "color": "#636efa"
         },
         "name": "wherever",
         "offsetgroup": "wherever",
         "orientation": "v",
         "showlegend": true,
         "textposition": "auto",
         "type": "bar",
         "x": [
          "2006-01-01T00:00:00"
         ],
         "xaxis": "x",
         "y": [
          3
         ],
         "yaxis": "y"
        },
        {
         "alignmentgroup": "True",
         "hovertemplate": "words=place<br>year=%{x}<br>freq=%{y}<extra></extra>",
         "legendgroup": "place",
         "marker": {
          "color": "#EF553B"
         },
         "name": "place",
         "offsetgroup": "place",
         "orientation": "v",
         "showlegend": true,
         "textposition": "auto",
         "type": "bar",
         "x": [
          "2007-01-01T00:00:00"
         ],
         "xaxis": "x",
         "y": [
          3
         ],
         "yaxis": "y"
        },
        {
         "alignmentgroup": "True",
         "hovertemplate": "words=rather<br>year=%{x}<br>freq=%{y}<extra></extra>",
         "legendgroup": "rather",
         "marker": {
          "color": "#00cc96"
         },
         "name": "rather",
         "offsetgroup": "rather",
         "orientation": "v",
         "showlegend": true,
         "textposition": "auto",
         "type": "bar",
         "x": [
          "2007-01-01T00:00:00"
         ],
         "xaxis": "x",
         "y": [
          3
         ],
         "yaxis": "y"
        },
        {
         "alignmentgroup": "True",
         "hovertemplate": "words=still<br>year=%{x}<br>freq=%{y}<extra></extra>",
         "legendgroup": "still",
         "marker": {
          "color": "#ab63fa"
         },
         "name": "still",
         "offsetgroup": "still",
         "orientation": "v",
         "showlegend": true,
         "textposition": "auto",
         "type": "bar",
         "x": [
          "2007-01-01T00:00:00"
         ],
         "xaxis": "x",
         "y": [
          3
         ],
         "yaxis": "y"
        },
        {
         "alignmentgroup": "True",
         "hovertemplate": "words=make<br>year=%{x}<br>freq=%{y}<extra></extra>",
         "legendgroup": "make",
         "marker": {
          "color": "#FFA15A"
         },
         "name": "make",
         "offsetgroup": "make",
         "orientation": "v",
         "showlegend": true,
         "textposition": "auto",
         "type": "bar",
         "x": [
          "2007-01-01T00:00:00"
         ],
         "xaxis": "x",
         "y": [
          7
         ],
         "yaxis": "y"
        },
        {
         "alignmentgroup": "True",
         "hovertemplate": "words=new<br>year=%{x}<br>freq=%{y}<extra></extra>",
         "legendgroup": "new",
         "marker": {
          "color": "#19d3f3"
         },
         "name": "new",
         "offsetgroup": "new",
         "orientation": "v",
         "showlegend": true,
         "textposition": "auto",
         "type": "bar",
         "x": [
          "2007-01-01T00:00:00"
         ],
         "xaxis": "x",
         "y": [
          7
         ],
         "yaxis": "y"
        },
        {
         "alignmentgroup": "True",
         "hovertemplate": "words=dare<br>year=%{x}<br>freq=%{y}<extra></extra>",
         "legendgroup": "dare",
         "marker": {
          "color": "#FF6692"
         },
         "name": "dare",
         "offsetgroup": "dare",
         "orientation": "v",
         "showlegend": true,
         "textposition": "auto",
         "type": "bar",
         "x": [
          "2007-01-01T00:00:00"
         ],
         "xaxis": "x",
         "y": [
          5
         ],
         "yaxis": "y"
        },
        {
         "alignmentgroup": "True",
         "hovertemplate": "words=song<br>year=%{x}<br>freq=%{y}<extra></extra>",
         "legendgroup": "song",
         "marker": {
          "color": "#B6E880"
         },
         "name": "song",
         "offsetgroup": "song",
         "orientation": "v",
         "showlegend": true,
         "textposition": "auto",
         "type": "bar",
         "x": [
          "2008-01-01T00:00:00",
          "2010-01-01T00:00:00"
         ],
         "xaxis": "x",
         "y": [
          6,
          6
         ],
         "yaxis": "y"
        },
        {
         "alignmentgroup": "True",
         "hovertemplate": "words=look<br>year=%{x}<br>freq=%{y}<extra></extra>",
         "legendgroup": "look",
         "marker": {
          "color": "#FF97FF"
         },
         "name": "look",
         "offsetgroup": "look",
         "orientation": "v",
         "showlegend": true,
         "textposition": "auto",
         "type": "bar",
         "x": [
          "2009-01-01T00:00:00"
         ],
         "xaxis": "x",
         "y": [
          6
         ],
         "yaxis": "y"
        },
        {
         "alignmentgroup": "True",
         "hovertemplate": "words=dreams<br>year=%{x}<br>freq=%{y}<extra></extra>",
         "legendgroup": "dreams",
         "marker": {
          "color": "#FECB52"
         },
         "name": "dreams",
         "offsetgroup": "dreams",
         "orientation": "v",
         "showlegend": true,
         "textposition": "auto",
         "type": "bar",
         "x": [
          "2009-01-01T00:00:00"
         ],
         "xaxis": "x",
         "y": [
          4
         ],
         "yaxis": "y"
        },
        {
         "alignmentgroup": "True",
         "hovertemplate": "words=sing<br>year=%{x}<br>freq=%{y}<extra></extra>",
         "legendgroup": "sing",
         "marker": {
          "color": "#636efa"
         },
         "name": "sing",
         "offsetgroup": "sing",
         "orientation": "v",
         "showlegend": true,
         "textposition": "auto",
         "type": "bar",
         "x": [
          "2010-01-01T00:00:00"
         ],
         "xaxis": "x",
         "y": [
          12
         ],
         "yaxis": "y"
        },
        {
         "alignmentgroup": "True",
         "hovertemplate": "words=heartbeat<br>year=%{x}<br>freq=%{y}<extra></extra>",
         "legendgroup": "heartbeat",
         "marker": {
          "color": "#EF553B"
         },
         "name": "heartbeat",
         "offsetgroup": "heartbeat",
         "orientation": "v",
         "showlegend": true,
         "textposition": "auto",
         "type": "bar",
         "x": [
          "2011-01-01T00:00:00"
         ],
         "xaxis": "x",
         "y": [
          12
         ],
         "yaxis": "y"
        },
        {
         "alignmentgroup": "True",
         "hovertemplate": "words=love<br>year=%{x}<br>freq=%{y}<extra></extra>",
         "legendgroup": "love",
         "marker": {
          "color": "#00cc96"
         },
         "name": "love",
         "offsetgroup": "love",
         "orientation": "v",
         "showlegend": true,
         "textposition": "auto",
         "type": "bar",
         "x": [
          "2012-01-01T00:00:00",
          "2013-01-01T00:00:00"
         ],
         "xaxis": "x",
         "y": [
          4,
          6
         ],
         "yaxis": "y"
        },
        {
         "alignmentgroup": "True",
         "hovertemplate": "words=light<br>year=%{x}<br>freq=%{y}<extra></extra>",
         "legendgroup": "light",
         "marker": {
          "color": "#ab63fa"
         },
         "name": "light",
         "offsetgroup": "light",
         "orientation": "v",
         "showlegend": true,
         "textposition": "auto",
         "type": "bar",
         "x": [
          "2012-01-01T00:00:00"
         ],
         "xaxis": "x",
         "y": [
          3
         ],
         "yaxis": "y"
        },
        {
         "alignmentgroup": "True",
         "hovertemplate": "words=first<br>year=%{x}<br>freq=%{y}<extra></extra>",
         "legendgroup": "first",
         "marker": {
          "color": "#FFA15A"
         },
         "name": "first",
         "offsetgroup": "first",
         "orientation": "v",
         "showlegend": true,
         "textposition": "auto",
         "type": "bar",
         "x": [
          "2012-01-01T00:00:00"
         ],
         "xaxis": "x",
         "y": [
          3
         ],
         "yaxis": "y"
        },
        {
         "alignmentgroup": "True",
         "hovertemplate": "words=oh<br>year=%{x}<br>freq=%{y}<extra></extra>",
         "legendgroup": "oh",
         "marker": {
          "color": "#19d3f3"
         },
         "name": "oh",
         "offsetgroup": "oh",
         "orientation": "v",
         "showlegend": true,
         "textposition": "auto",
         "type": "bar",
         "x": [
          "2013-01-01T00:00:00",
          "2015-01-01T00:00:00",
          "2019-01-01T00:00:00"
         ],
         "xaxis": "x",
         "y": [
          11,
          81,
          84
         ],
         "yaxis": "y"
        },
        {
         "alignmentgroup": "True",
         "hovertemplate": "words=tomorrow<br>year=%{x}<br>freq=%{y}<extra></extra>",
         "legendgroup": "tomorrow",
         "marker": {
          "color": "#FF6692"
         },
         "name": "tomorrow",
         "offsetgroup": "tomorrow",
         "orientation": "v",
         "showlegend": true,
         "textposition": "auto",
         "type": "bar",
         "x": [
          "2016-01-01T00:00:00"
         ],
         "xaxis": "x",
         "y": [
          8
         ],
         "yaxis": "y"
        },
        {
         "alignmentgroup": "True",
         "hovertemplate": "words=today<br>year=%{x}<br>freq=%{y}<extra></extra>",
         "legendgroup": "today",
         "marker": {
          "color": "#B6E880"
         },
         "name": "today",
         "offsetgroup": "today",
         "orientation": "v",
         "showlegend": true,
         "textposition": "auto",
         "type": "bar",
         "x": [
          "2016-01-01T00:00:00"
         ],
         "xaxis": "x",
         "y": [
          7
         ],
         "yaxis": "y"
        },
        {
         "alignmentgroup": "True",
         "hovertemplate": "words=cause<br>year=%{x}<br>freq=%{y}<extra></extra>",
         "legendgroup": "cause",
         "marker": {
          "color": "#FF97FF"
         },
         "name": "cause",
         "offsetgroup": "cause",
         "orientation": "v",
         "showlegend": true,
         "textposition": "auto",
         "type": "bar",
         "x": [
          "2016-01-01T00:00:00"
         ],
         "xaxis": "x",
         "y": [
          6
         ],
         "yaxis": "y"
        },
        {
         "alignmentgroup": "True",
         "hovertemplate": "words=world<br>year=%{x}<br>freq=%{y}<extra></extra>",
         "legendgroup": "world",
         "marker": {
          "color": "#FECB52"
         },
         "name": "world",
         "offsetgroup": "world",
         "orientation": "v",
         "showlegend": true,
         "textposition": "auto",
         "type": "bar",
         "x": [
          "2017-01-01T00:00:00"
         ],
         "xaxis": "x",
         "y": [
          8
         ],
         "yaxis": "y"
        },
        {
         "alignmentgroup": "True",
         "hovertemplate": "words=compares<br>year=%{x}<br>freq=%{y}<extra></extra>",
         "legendgroup": "compares",
         "marker": {
          "color": "#636efa"
         },
         "name": "compares",
         "offsetgroup": "compares",
         "orientation": "v",
         "showlegend": true,
         "textposition": "auto",
         "type": "bar",
         "x": [
          "2017-01-01T00:00:00"
         ],
         "xaxis": "x",
         "y": [
          6
         ],
         "yaxis": "y"
        },
        {
         "alignmentgroup": "True",
         "hovertemplate": "words=future<br>year=%{x}<br>freq=%{y}<extra></extra>",
         "legendgroup": "future",
         "marker": {
          "color": "#EF553B"
         },
         "name": "future",
         "offsetgroup": "future",
         "orientation": "v",
         "showlegend": true,
         "textposition": "auto",
         "type": "bar",
         "x": [
          "2018-01-01T00:00:00"
         ],
         "xaxis": "x",
         "y": [
          5
         ],
         "yaxis": "y"
        },
        {
         "alignmentgroup": "True",
         "hovertemplate": "words=singaporeans<br>year=%{x}<br>freq=%{y}<extra></extra>",
         "legendgroup": "singaporeans",
         "marker": {
          "color": "#00cc96"
         },
         "name": "singaporeans",
         "offsetgroup": "singaporeans",
         "orientation": "v",
         "showlegend": true,
         "textposition": "auto",
         "type": "bar",
         "x": [
          "2018-01-01T00:00:00"
         ],
         "xaxis": "x",
         "y": [
          5
         ],
         "yaxis": "y"
        }
       ],
       "layout": {
        "barmode": "group",
        "height": 700,
        "legend": {
         "title": {
          "text": "words"
         },
         "tracegroupgap": 0
        },
        "margin": {
         "t": 60
        },
        "template": {
         "data": {
          "bar": [
           {
            "error_x": {
             "color": "#2a3f5f"
            },
            "error_y": {
             "color": "#2a3f5f"
            },
            "marker": {
             "line": {
              "color": "#E5ECF6",
              "width": 0.5
             }
            },
            "type": "bar"
           }
          ],
          "barpolar": [
           {
            "marker": {
             "line": {
              "color": "#E5ECF6",
              "width": 0.5
             }
            },
            "type": "barpolar"
           }
          ],
          "carpet": [
           {
            "aaxis": {
             "endlinecolor": "#2a3f5f",
             "gridcolor": "white",
             "linecolor": "white",
             "minorgridcolor": "white",
             "startlinecolor": "#2a3f5f"
            },
            "baxis": {
             "endlinecolor": "#2a3f5f",
             "gridcolor": "white",
             "linecolor": "white",
             "minorgridcolor": "white",
             "startlinecolor": "#2a3f5f"
            },
            "type": "carpet"
           }
          ],
          "choropleth": [
           {
            "colorbar": {
             "outlinewidth": 0,
             "ticks": ""
            },
            "type": "choropleth"
           }
          ],
          "contour": [
           {
            "colorbar": {
             "outlinewidth": 0,
             "ticks": ""
            },
            "colorscale": [
             [
              0,
              "#0d0887"
             ],
             [
              0.1111111111111111,
              "#46039f"
             ],
             [
              0.2222222222222222,
              "#7201a8"
             ],
             [
              0.3333333333333333,
              "#9c179e"
             ],
             [
              0.4444444444444444,
              "#bd3786"
             ],
             [
              0.5555555555555556,
              "#d8576b"
             ],
             [
              0.6666666666666666,
              "#ed7953"
             ],
             [
              0.7777777777777778,
              "#fb9f3a"
             ],
             [
              0.8888888888888888,
              "#fdca26"
             ],
             [
              1,
              "#f0f921"
             ]
            ],
            "type": "contour"
           }
          ],
          "contourcarpet": [
           {
            "colorbar": {
             "outlinewidth": 0,
             "ticks": ""
            },
            "type": "contourcarpet"
           }
          ],
          "heatmap": [
           {
            "colorbar": {
             "outlinewidth": 0,
             "ticks": ""
            },
            "colorscale": [
             [
              0,
              "#0d0887"
             ],
             [
              0.1111111111111111,
              "#46039f"
             ],
             [
              0.2222222222222222,
              "#7201a8"
             ],
             [
              0.3333333333333333,
              "#9c179e"
             ],
             [
              0.4444444444444444,
              "#bd3786"
             ],
             [
              0.5555555555555556,
              "#d8576b"
             ],
             [
              0.6666666666666666,
              "#ed7953"
             ],
             [
              0.7777777777777778,
              "#fb9f3a"
             ],
             [
              0.8888888888888888,
              "#fdca26"
             ],
             [
              1,
              "#f0f921"
             ]
            ],
            "type": "heatmap"
           }
          ],
          "heatmapgl": [
           {
            "colorbar": {
             "outlinewidth": 0,
             "ticks": ""
            },
            "colorscale": [
             [
              0,
              "#0d0887"
             ],
             [
              0.1111111111111111,
              "#46039f"
             ],
             [
              0.2222222222222222,
              "#7201a8"
             ],
             [
              0.3333333333333333,
              "#9c179e"
             ],
             [
              0.4444444444444444,
              "#bd3786"
             ],
             [
              0.5555555555555556,
              "#d8576b"
             ],
             [
              0.6666666666666666,
              "#ed7953"
             ],
             [
              0.7777777777777778,
              "#fb9f3a"
             ],
             [
              0.8888888888888888,
              "#fdca26"
             ],
             [
              1,
              "#f0f921"
             ]
            ],
            "type": "heatmapgl"
           }
          ],
          "histogram": [
           {
            "marker": {
             "colorbar": {
              "outlinewidth": 0,
              "ticks": ""
             }
            },
            "type": "histogram"
           }
          ],
          "histogram2d": [
           {
            "colorbar": {
             "outlinewidth": 0,
             "ticks": ""
            },
            "colorscale": [
             [
              0,
              "#0d0887"
             ],
             [
              0.1111111111111111,
              "#46039f"
             ],
             [
              0.2222222222222222,
              "#7201a8"
             ],
             [
              0.3333333333333333,
              "#9c179e"
             ],
             [
              0.4444444444444444,
              "#bd3786"
             ],
             [
              0.5555555555555556,
              "#d8576b"
             ],
             [
              0.6666666666666666,
              "#ed7953"
             ],
             [
              0.7777777777777778,
              "#fb9f3a"
             ],
             [
              0.8888888888888888,
              "#fdca26"
             ],
             [
              1,
              "#f0f921"
             ]
            ],
            "type": "histogram2d"
           }
          ],
          "histogram2dcontour": [
           {
            "colorbar": {
             "outlinewidth": 0,
             "ticks": ""
            },
            "colorscale": [
             [
              0,
              "#0d0887"
             ],
             [
              0.1111111111111111,
              "#46039f"
             ],
             [
              0.2222222222222222,
              "#7201a8"
             ],
             [
              0.3333333333333333,
              "#9c179e"
             ],
             [
              0.4444444444444444,
              "#bd3786"
             ],
             [
              0.5555555555555556,
              "#d8576b"
             ],
             [
              0.6666666666666666,
              "#ed7953"
             ],
             [
              0.7777777777777778,
              "#fb9f3a"
             ],
             [
              0.8888888888888888,
              "#fdca26"
             ],
             [
              1,
              "#f0f921"
             ]
            ],
            "type": "histogram2dcontour"
           }
          ],
          "mesh3d": [
           {
            "colorbar": {
             "outlinewidth": 0,
             "ticks": ""
            },
            "type": "mesh3d"
           }
          ],
          "parcoords": [
           {
            "line": {
             "colorbar": {
              "outlinewidth": 0,
              "ticks": ""
             }
            },
            "type": "parcoords"
           }
          ],
          "pie": [
           {
            "automargin": true,
            "type": "pie"
           }
          ],
          "scatter": [
           {
            "marker": {
             "colorbar": {
              "outlinewidth": 0,
              "ticks": ""
             }
            },
            "type": "scatter"
           }
          ],
          "scatter3d": [
           {
            "line": {
             "colorbar": {
              "outlinewidth": 0,
              "ticks": ""
             }
            },
            "marker": {
             "colorbar": {
              "outlinewidth": 0,
              "ticks": ""
             }
            },
            "type": "scatter3d"
           }
          ],
          "scattercarpet": [
           {
            "marker": {
             "colorbar": {
              "outlinewidth": 0,
              "ticks": ""
             }
            },
            "type": "scattercarpet"
           }
          ],
          "scattergeo": [
           {
            "marker": {
             "colorbar": {
              "outlinewidth": 0,
              "ticks": ""
             }
            },
            "type": "scattergeo"
           }
          ],
          "scattergl": [
           {
            "marker": {
             "colorbar": {
              "outlinewidth": 0,
              "ticks": ""
             }
            },
            "type": "scattergl"
           }
          ],
          "scattermapbox": [
           {
            "marker": {
             "colorbar": {
              "outlinewidth": 0,
              "ticks": ""
             }
            },
            "type": "scattermapbox"
           }
          ],
          "scatterpolar": [
           {
            "marker": {
             "colorbar": {
              "outlinewidth": 0,
              "ticks": ""
             }
            },
            "type": "scatterpolar"
           }
          ],
          "scatterpolargl": [
           {
            "marker": {
             "colorbar": {
              "outlinewidth": 0,
              "ticks": ""
             }
            },
            "type": "scatterpolargl"
           }
          ],
          "scatterternary": [
           {
            "marker": {
             "colorbar": {
              "outlinewidth": 0,
              "ticks": ""
             }
            },
            "type": "scatterternary"
           }
          ],
          "surface": [
           {
            "colorbar": {
             "outlinewidth": 0,
             "ticks": ""
            },
            "colorscale": [
             [
              0,
              "#0d0887"
             ],
             [
              0.1111111111111111,
              "#46039f"
             ],
             [
              0.2222222222222222,
              "#7201a8"
             ],
             [
              0.3333333333333333,
              "#9c179e"
             ],
             [
              0.4444444444444444,
              "#bd3786"
             ],
             [
              0.5555555555555556,
              "#d8576b"
             ],
             [
              0.6666666666666666,
              "#ed7953"
             ],
             [
              0.7777777777777778,
              "#fb9f3a"
             ],
             [
              0.8888888888888888,
              "#fdca26"
             ],
             [
              1,
              "#f0f921"
             ]
            ],
            "type": "surface"
           }
          ],
          "table": [
           {
            "cells": {
             "fill": {
              "color": "#EBF0F8"
             },
             "line": {
              "color": "white"
             }
            },
            "header": {
             "fill": {
              "color": "#C8D4E3"
             },
             "line": {
              "color": "white"
             }
            },
            "type": "table"
           }
          ]
         },
         "layout": {
          "annotationdefaults": {
           "arrowcolor": "#2a3f5f",
           "arrowhead": 0,
           "arrowwidth": 1
          },
          "autotypenumbers": "strict",
          "coloraxis": {
           "colorbar": {
            "outlinewidth": 0,
            "ticks": ""
           }
          },
          "colorscale": {
           "diverging": [
            [
             0,
             "#8e0152"
            ],
            [
             0.1,
             "#c51b7d"
            ],
            [
             0.2,
             "#de77ae"
            ],
            [
             0.3,
             "#f1b6da"
            ],
            [
             0.4,
             "#fde0ef"
            ],
            [
             0.5,
             "#f7f7f7"
            ],
            [
             0.6,
             "#e6f5d0"
            ],
            [
             0.7,
             "#b8e186"
            ],
            [
             0.8,
             "#7fbc41"
            ],
            [
             0.9,
             "#4d9221"
            ],
            [
             1,
             "#276419"
            ]
           ],
           "sequential": [
            [
             0,
             "#0d0887"
            ],
            [
             0.1111111111111111,
             "#46039f"
            ],
            [
             0.2222222222222222,
             "#7201a8"
            ],
            [
             0.3333333333333333,
             "#9c179e"
            ],
            [
             0.4444444444444444,
             "#bd3786"
            ],
            [
             0.5555555555555556,
             "#d8576b"
            ],
            [
             0.6666666666666666,
             "#ed7953"
            ],
            [
             0.7777777777777778,
             "#fb9f3a"
            ],
            [
             0.8888888888888888,
             "#fdca26"
            ],
            [
             1,
             "#f0f921"
            ]
           ],
           "sequentialminus": [
            [
             0,
             "#0d0887"
            ],
            [
             0.1111111111111111,
             "#46039f"
            ],
            [
             0.2222222222222222,
             "#7201a8"
            ],
            [
             0.3333333333333333,
             "#9c179e"
            ],
            [
             0.4444444444444444,
             "#bd3786"
            ],
            [
             0.5555555555555556,
             "#d8576b"
            ],
            [
             0.6666666666666666,
             "#ed7953"
            ],
            [
             0.7777777777777778,
             "#fb9f3a"
            ],
            [
             0.8888888888888888,
             "#fdca26"
            ],
            [
             1,
             "#f0f921"
            ]
           ]
          },
          "colorway": [
           "#636efa",
           "#EF553B",
           "#00cc96",
           "#ab63fa",
           "#FFA15A",
           "#19d3f3",
           "#FF6692",
           "#B6E880",
           "#FF97FF",
           "#FECB52"
          ],
          "font": {
           "color": "#2a3f5f"
          },
          "geo": {
           "bgcolor": "white",
           "lakecolor": "white",
           "landcolor": "#E5ECF6",
           "showlakes": true,
           "showland": true,
           "subunitcolor": "white"
          },
          "hoverlabel": {
           "align": "left"
          },
          "hovermode": "closest",
          "mapbox": {
           "style": "light"
          },
          "paper_bgcolor": "white",
          "plot_bgcolor": "#E5ECF6",
          "polar": {
           "angularaxis": {
            "gridcolor": "white",
            "linecolor": "white",
            "ticks": ""
           },
           "bgcolor": "#E5ECF6",
           "radialaxis": {
            "gridcolor": "white",
            "linecolor": "white",
            "ticks": ""
           }
          },
          "scene": {
           "xaxis": {
            "backgroundcolor": "#E5ECF6",
            "gridcolor": "white",
            "gridwidth": 2,
            "linecolor": "white",
            "showbackground": true,
            "ticks": "",
            "zerolinecolor": "white"
           },
           "yaxis": {
            "backgroundcolor": "#E5ECF6",
            "gridcolor": "white",
            "gridwidth": 2,
            "linecolor": "white",
            "showbackground": true,
            "ticks": "",
            "zerolinecolor": "white"
           },
           "zaxis": {
            "backgroundcolor": "#E5ECF6",
            "gridcolor": "white",
            "gridwidth": 2,
            "linecolor": "white",
            "showbackground": true,
            "ticks": "",
            "zerolinecolor": "white"
           }
          },
          "shapedefaults": {
           "line": {
            "color": "#2a3f5f"
           }
          },
          "ternary": {
           "aaxis": {
            "gridcolor": "white",
            "linecolor": "white",
            "ticks": ""
           },
           "baxis": {
            "gridcolor": "white",
            "linecolor": "white",
            "ticks": ""
           },
           "bgcolor": "#E5ECF6",
           "caxis": {
            "gridcolor": "white",
            "linecolor": "white",
            "ticks": ""
           }
          },
          "title": {
           "x": 0.05
          },
          "xaxis": {
           "automargin": true,
           "gridcolor": "white",
           "linecolor": "white",
           "ticks": "",
           "title": {
            "standoff": 15
           },
           "zerolinecolor": "white",
           "zerolinewidth": 2
          },
          "yaxis": {
           "automargin": true,
           "gridcolor": "white",
           "linecolor": "white",
           "ticks": "",
           "title": {
            "standoff": 15
           },
           "zerolinecolor": "white",
           "zerolinewidth": 2
          }
         }
        },
        "width": 1400,
        "xaxis": {
         "anchor": "y",
         "domain": [
          0,
          1
         ],
         "title": {
          "text": "year"
         }
        },
        "yaxis": {
         "anchor": "x",
         "domain": [
          0,
          1
         ],
         "title": {
          "text": "freq"
         }
        }
       }
      }
     },
     "metadata": {}
    }
   ],
   "source": [
    "fig = px.bar(df_top_5, x = \"year\", y = \"freq\", color = \"words\", barmode = 'group')\n",
    "fig.update_layout(width = 1400, height = 700)\n",
    "fig.show()"
   ]
  },
  {
   "source": [
    "## Sentiment analysis"
   ],
   "cell_type": "markdown",
   "metadata": {}
  },
  {
   "cell_type": "code",
   "execution_count": 102,
   "metadata": {},
   "outputs": [
    {
     "output_type": "stream",
     "name": "stderr",
     "text": [
      "[nltk_data] Downloading package wordnet to\n[nltk_data]     C:\\Users\\Tristan\\AppData\\Roaming\\nltk_data...\n[nltk_data]   Package wordnet is already up-to-date!\n"
     ]
    }
   ],
   "source": [
    "# First need to preprocess the original string, lowercase, lemmatise, but don't remove stop words.\n",
    "from nltk.stem import WordNetLemmatizer\n",
    "nltk.download('wordnet')\n",
    "import string\n",
    "\n",
    "def pre_process_lyrics(lyrics) :\n",
    "    processed_str = \"\"\n",
    "    lyrics = \"\".join(u for u in lyrics if u not in string.punctuation)\n",
    "    lyrics_split = lyrics.split()\n",
    "    lemmatizer = WordNetLemmatizer()\n",
    "\n",
    "    for s in lyrics_split :\n",
    "        s = s.lower()\n",
    "        s = lemmatizer.lemmatize(s)\n",
    "        processed_str = processed_str + \" \" + s\n",
    "    \n",
    "    return processed_str"
   ]
  },
  {
   "cell_type": "code",
   "execution_count": 95,
   "metadata": {},
   "outputs": [
    {
     "output_type": "execute_result",
     "data": {
      "text/plain": [
       "        year                    name  \\\n",
       "0 1985-01-01  Stand Up For Singapore   \n",
       "1 1986-01-01   Count On Me Singapore   \n",
       "2 1987-01-01        We Are Singapore   \n",
       "3 1989-01-01      Five Stars Arising   \n",
       "4 1991-01-01  It’s the Little Things   \n",
       "\n",
       "                                              lyrics  num_words  avg_word_len  \\\n",
       "0  Stand up for Singapore, do the best you can Re...        120      4.158333   \n",
       "1  We have a vision for tomorrow, just believe, j...        173      3.809249   \n",
       "2  There was a time when people said That Singapo...        173      4.468208   \n",
       "3  There's a new moon arising, out of the stormy ...        135      3.992593   \n",
       "4  Over the years, I've grown to be a part of you...        145      3.682759   \n",
       "\n",
       "                  combined_name  \n",
       "0  1985, Stand Up For Singapore  \n",
       "1   1986, Count On Me Singapore  \n",
       "2        1987, We Are Singapore  \n",
       "3      1989, Five Stars Arising  \n",
       "4  1991, It’s the Little Things  "
      ],
      "text/html": "<div>\n<style scoped>\n    .dataframe tbody tr th:only-of-type {\n        vertical-align: middle;\n    }\n\n    .dataframe tbody tr th {\n        vertical-align: top;\n    }\n\n    .dataframe thead th {\n        text-align: right;\n    }\n</style>\n<table border=\"1\" class=\"dataframe\">\n  <thead>\n    <tr style=\"text-align: right;\">\n      <th></th>\n      <th>year</th>\n      <th>name</th>\n      <th>lyrics</th>\n      <th>num_words</th>\n      <th>avg_word_len</th>\n      <th>combined_name</th>\n    </tr>\n  </thead>\n  <tbody>\n    <tr>\n      <th>0</th>\n      <td>1985-01-01</td>\n      <td>Stand Up For Singapore</td>\n      <td>Stand up for Singapore, do the best you can Re...</td>\n      <td>120</td>\n      <td>4.158333</td>\n      <td>1985, Stand Up For Singapore</td>\n    </tr>\n    <tr>\n      <th>1</th>\n      <td>1986-01-01</td>\n      <td>Count On Me Singapore</td>\n      <td>We have a vision for tomorrow, just believe, j...</td>\n      <td>173</td>\n      <td>3.809249</td>\n      <td>1986, Count On Me Singapore</td>\n    </tr>\n    <tr>\n      <th>2</th>\n      <td>1987-01-01</td>\n      <td>We Are Singapore</td>\n      <td>There was a time when people said That Singapo...</td>\n      <td>173</td>\n      <td>4.468208</td>\n      <td>1987, We Are Singapore</td>\n    </tr>\n    <tr>\n      <th>3</th>\n      <td>1989-01-01</td>\n      <td>Five Stars Arising</td>\n      <td>There's a new moon arising, out of the stormy ...</td>\n      <td>135</td>\n      <td>3.992593</td>\n      <td>1989, Five Stars Arising</td>\n    </tr>\n    <tr>\n      <th>4</th>\n      <td>1991-01-01</td>\n      <td>It’s the Little Things</td>\n      <td>Over the years, I've grown to be a part of you...</td>\n      <td>145</td>\n      <td>3.682759</td>\n      <td>1991, It’s the Little Things</td>\n    </tr>\n  </tbody>\n</table>\n</div>"
     },
     "metadata": {},
     "execution_count": 95
    }
   ],
   "source": [
    "df_lyrics_sentiment = df_lyrics.copy()\n",
    "df_lyrics_sentiment.head()"
   ]
  },
  {
   "cell_type": "code",
   "execution_count": 103,
   "metadata": {},
   "outputs": [
    {
     "output_type": "execute_result",
     "data": {
      "text/plain": [
       "        year                    name  \\\n",
       "0 1985-01-01  Stand Up For Singapore   \n",
       "1 1986-01-01   Count On Me Singapore   \n",
       "2 1987-01-01        We Are Singapore   \n",
       "3 1989-01-01      Five Stars Arising   \n",
       "4 1991-01-01  It’s the Little Things   \n",
       "\n",
       "                                              lyrics  num_words  avg_word_len  \\\n",
       "0  Stand up for Singapore, do the best you can Re...        120      4.158333   \n",
       "1  We have a vision for tomorrow, just believe, j...        173      3.809249   \n",
       "2  There was a time when people said That Singapo...        173      4.468208   \n",
       "3  There's a new moon arising, out of the stormy ...        135      3.992593   \n",
       "4  Over the years, I've grown to be a part of you...        145      3.682759   \n",
       "\n",
       "                  combined_name  \\\n",
       "0  1985, Stand Up For Singapore   \n",
       "1   1986, Count On Me Singapore   \n",
       "2        1987, We Are Singapore   \n",
       "3      1989, Five Stars Arising   \n",
       "4  1991, It’s the Little Things   \n",
       "\n",
       "                                         pre_process  \n",
       "0   stand up for singapore do the best you can re...  \n",
       "1   we have a vision for tomorrow just believe ju...  \n",
       "2   there wa a time when people said that singapo...  \n",
       "3   there a new moon arising out of the stormy se...  \n",
       "4   over the year ive grown to be a part of you y...  "
      ],
      "text/html": "<div>\n<style scoped>\n    .dataframe tbody tr th:only-of-type {\n        vertical-align: middle;\n    }\n\n    .dataframe tbody tr th {\n        vertical-align: top;\n    }\n\n    .dataframe thead th {\n        text-align: right;\n    }\n</style>\n<table border=\"1\" class=\"dataframe\">\n  <thead>\n    <tr style=\"text-align: right;\">\n      <th></th>\n      <th>year</th>\n      <th>name</th>\n      <th>lyrics</th>\n      <th>num_words</th>\n      <th>avg_word_len</th>\n      <th>combined_name</th>\n      <th>pre_process</th>\n    </tr>\n  </thead>\n  <tbody>\n    <tr>\n      <th>0</th>\n      <td>1985-01-01</td>\n      <td>Stand Up For Singapore</td>\n      <td>Stand up for Singapore, do the best you can Re...</td>\n      <td>120</td>\n      <td>4.158333</td>\n      <td>1985, Stand Up For Singapore</td>\n      <td>stand up for singapore do the best you can re...</td>\n    </tr>\n    <tr>\n      <th>1</th>\n      <td>1986-01-01</td>\n      <td>Count On Me Singapore</td>\n      <td>We have a vision for tomorrow, just believe, j...</td>\n      <td>173</td>\n      <td>3.809249</td>\n      <td>1986, Count On Me Singapore</td>\n      <td>we have a vision for tomorrow just believe ju...</td>\n    </tr>\n    <tr>\n      <th>2</th>\n      <td>1987-01-01</td>\n      <td>We Are Singapore</td>\n      <td>There was a time when people said That Singapo...</td>\n      <td>173</td>\n      <td>4.468208</td>\n      <td>1987, We Are Singapore</td>\n      <td>there wa a time when people said that singapo...</td>\n    </tr>\n    <tr>\n      <th>3</th>\n      <td>1989-01-01</td>\n      <td>Five Stars Arising</td>\n      <td>There's a new moon arising, out of the stormy ...</td>\n      <td>135</td>\n      <td>3.992593</td>\n      <td>1989, Five Stars Arising</td>\n      <td>there a new moon arising out of the stormy se...</td>\n    </tr>\n    <tr>\n      <th>4</th>\n      <td>1991-01-01</td>\n      <td>It’s the Little Things</td>\n      <td>Over the years, I've grown to be a part of you...</td>\n      <td>145</td>\n      <td>3.682759</td>\n      <td>1991, It’s the Little Things</td>\n      <td>over the year ive grown to be a part of you y...</td>\n    </tr>\n  </tbody>\n</table>\n</div>"
     },
     "metadata": {},
     "execution_count": 103
    }
   ],
   "source": [
    "df_lyrics_sentiment[\"pre_process\"] = df_lyrics_sentiment[\"lyrics\"].apply(lambda x: pre_process_lyrics(x))\n",
    "df_lyrics_sentiment.head()"
   ]
  },
  {
   "cell_type": "code",
   "execution_count": 73,
   "metadata": {},
   "outputs": [
    {
     "output_type": "stream",
     "name": "stderr",
     "text": [
      "[nltk_data] Downloading package vader_lexicon to\n[nltk_data]     C:\\Users\\Tristan\\AppData\\Roaming\\nltk_data...\n"
     ]
    }
   ],
   "source": [
    "nltk.download('vader_lexicon')\n",
    "from nltk.sentiment.vader import SentimentIntensityAnalyzer\n",
    "sid = SentimentIntensityAnalyzer()"
   ]
  },
  {
   "cell_type": "code",
   "execution_count": 104,
   "metadata": {},
   "outputs": [
    {
     "output_type": "execute_result",
     "data": {
      "text/plain": [
       "         year                            name  \\\n",
       "0  1985-01-01          Stand Up For Singapore   \n",
       "1  1986-01-01           Count On Me Singapore   \n",
       "2  1987-01-01                We Are Singapore   \n",
       "3  1989-01-01              Five Stars Arising   \n",
       "4  1991-01-01          It’s the Little Things   \n",
       "5  1995-01-01               My People My Home   \n",
       "6  1996-01-01           Count On Me Singapore   \n",
       "7  1997-01-01                  Singapore Town   \n",
       "8  1998-01-01                            Home   \n",
       "9  1999-01-01                        Together   \n",
       "10 2000-01-01                     Shine On Me   \n",
       "11 2001-01-01                  Where I Belong   \n",
       "12 2002-01-01               We Will Get There   \n",
       "13 2003-01-01               One United People   \n",
       "14 2004-01-01                   Home (Choral)   \n",
       "15 2005-01-01         Reach Out For The Skies   \n",
       "16 2006-01-01                  My Island Home   \n",
       "17 2007-01-01  There's No Place I'd Rather Be   \n",
       "18 2007-01-01                        Will You   \n",
       "19 2008-01-01             Shine For Singapore   \n",
       "\n",
       "                                               lyrics  num_words  \\\n",
       "0   Stand up for Singapore, do the best you can Re...        120   \n",
       "1   We have a vision for tomorrow, just believe, j...        173   \n",
       "2   There was a time when people said That Singapo...        173   \n",
       "3   There's a new moon arising, out of the stormy ...        135   \n",
       "4   Over the years, I've grown to be a part of you...        145   \n",
       "5   Who are you, my country? More than celebration...        155   \n",
       "6   We have a vision for tomorrow, just believe, j...        173   \n",
       "7   You could take a little trip around Singapore ...         99   \n",
       "8   Whenever I am feeling low I look around me and...         96   \n",
       "9   Let us be together aspire to achieve No matter...        131   \n",
       "10  Let us be together aspire to achieve No matter...        131   \n",
       "11  Morning comes around and I Can't wait to see m...        168   \n",
       "12  Remember the days, we set out together with fa...        246   \n",
       "13  One Singapore One people strong & free With on...        164   \n",
       "14  Whenever I am feeling low I look around me and...         96   \n",
       "15  At a time when hope was low The journey seems ...        208   \n",
       "16  This is my home She’s everything to me Grace a...        111   \n",
       "17  I’ve walked the streets of Cairo & Bombay I’ve...        204   \n",
       "18  Will you make this island Amazing in all ways?...        211   \n",
       "19  Have you seen a star, One that guides you no m...        232   \n",
       "\n",
       "    avg_word_len                         combined_name  \\\n",
       "0       4.158333          1985, Stand Up For Singapore   \n",
       "1       3.809249           1986, Count On Me Singapore   \n",
       "2       4.468208                1987, We Are Singapore   \n",
       "3       3.992593              1989, Five Stars Arising   \n",
       "4       3.682759          1991, It’s the Little Things   \n",
       "5       3.980645               1995, My People My Home   \n",
       "6       3.809249           1996, Count On Me Singapore   \n",
       "7       4.444444                  1997, Singapore Town   \n",
       "8       3.822917                            1998, Home   \n",
       "9       4.458015                        1999, Together   \n",
       "10      4.458015                     2000, Shine On Me   \n",
       "11      3.952381                  2001, Where I Belong   \n",
       "12      3.711382               2002, We Will Get There   \n",
       "13      4.676829               2003, One United People   \n",
       "14      3.822917                   2004, Home (Choral)   \n",
       "15      3.673077         2005, Reach Out For The Skies   \n",
       "16      3.396396                  2006, My Island Home   \n",
       "17      3.480392  2007, There's No Place I'd Rather Be   \n",
       "18      4.165877                        2007, Will You   \n",
       "19      4.030172             2008, Shine For Singapore   \n",
       "\n",
       "                                          pre_process  \\\n",
       "0    stand up for singapore do the best you can re...   \n",
       "1    we have a vision for tomorrow just believe ju...   \n",
       "2    there wa a time when people said that singapo...   \n",
       "3    there a new moon arising out of the stormy se...   \n",
       "4    over the year ive grown to be a part of you y...   \n",
       "5    who are you my country more than celebration ...   \n",
       "6    we have a vision for tomorrow just believe ju...   \n",
       "7    you could take a little trip around singapore...   \n",
       "8    whenever i am feeling low i look around me an...   \n",
       "9    let u be together aspire to achieve no matter...   \n",
       "10   let u be together aspire to achieve no matter...   \n",
       "11   morning come around and i cant wait to see my...   \n",
       "12   remember the day we set out together with fai...   \n",
       "13   one singapore one people strong free with one...   \n",
       "14   whenever i am feeling low i look around me an...   \n",
       "15   at a time when hope wa low the journey seems ...   \n",
       "16   this is my home she’s everything to me grace ...   \n",
       "17   i’ve walked the street of cairo bombay i’ve s...   \n",
       "18   will you make this island amazing in all way ...   \n",
       "19   have you seen a star one that guide you no ma...   \n",
       "\n",
       "                                            sentiment  \n",
       "0   {'neg': 0.0, 'neu': 0.77, 'pos': 0.23, 'compou...  \n",
       "1   {'neg': 0.013, 'neu': 0.865, 'pos': 0.123, 'co...  \n",
       "2   {'neg': 0.017, 'neu': 0.684, 'pos': 0.299, 'co...  \n",
       "3   {'neg': 0.0, 'neu': 0.655, 'pos': 0.345, 'comp...  \n",
       "4   {'neg': 0.056, 'neu': 0.632, 'pos': 0.312, 'co...  \n",
       "5   {'neg': 0.0, 'neu': 0.817, 'pos': 0.183, 'comp...  \n",
       "6   {'neg': 0.013, 'neu': 0.865, 'pos': 0.123, 'co...  \n",
       "7   {'neg': 0.021, 'neu': 0.914, 'pos': 0.065, 'co...  \n",
       "8   {'neg': 0.024, 'neu': 0.851, 'pos': 0.125, 'co...  \n",
       "9   {'neg': 0.046, 'neu': 0.702, 'pos': 0.252, 'co...  \n",
       "10  {'neg': 0.046, 'neu': 0.702, 'pos': 0.252, 'co...  \n",
       "11  {'neg': 0.043, 'neu': 0.68, 'pos': 0.277, 'com...  \n",
       "12  {'neg': 0.033, 'neu': 0.783, 'pos': 0.183, 'co...  \n",
       "13  {'neg': 0.0, 'neu': 0.627, 'pos': 0.373, 'comp...  \n",
       "14  {'neg': 0.024, 'neu': 0.851, 'pos': 0.125, 'co...  \n",
       "15  {'neg': 0.012, 'neu': 0.605, 'pos': 0.383, 'co...  \n",
       "16  {'neg': 0.0, 'neu': 0.843, 'pos': 0.157, 'comp...  \n",
       "17  {'neg': 0.044, 'neu': 0.875, 'pos': 0.081, 'co...  \n",
       "18  {'neg': 0.0, 'neu': 0.821, 'pos': 0.179, 'comp...  \n",
       "19  {'neg': 0.009, 'neu': 0.801, 'pos': 0.19, 'com...  "
      ],
      "text/html": "<div>\n<style scoped>\n    .dataframe tbody tr th:only-of-type {\n        vertical-align: middle;\n    }\n\n    .dataframe tbody tr th {\n        vertical-align: top;\n    }\n\n    .dataframe thead th {\n        text-align: right;\n    }\n</style>\n<table border=\"1\" class=\"dataframe\">\n  <thead>\n    <tr style=\"text-align: right;\">\n      <th></th>\n      <th>year</th>\n      <th>name</th>\n      <th>lyrics</th>\n      <th>num_words</th>\n      <th>avg_word_len</th>\n      <th>combined_name</th>\n      <th>pre_process</th>\n      <th>sentiment</th>\n    </tr>\n  </thead>\n  <tbody>\n    <tr>\n      <th>0</th>\n      <td>1985-01-01</td>\n      <td>Stand Up For Singapore</td>\n      <td>Stand up for Singapore, do the best you can Re...</td>\n      <td>120</td>\n      <td>4.158333</td>\n      <td>1985, Stand Up For Singapore</td>\n      <td>stand up for singapore do the best you can re...</td>\n      <td>{'neg': 0.0, 'neu': 0.77, 'pos': 0.23, 'compou...</td>\n    </tr>\n    <tr>\n      <th>1</th>\n      <td>1986-01-01</td>\n      <td>Count On Me Singapore</td>\n      <td>We have a vision for tomorrow, just believe, j...</td>\n      <td>173</td>\n      <td>3.809249</td>\n      <td>1986, Count On Me Singapore</td>\n      <td>we have a vision for tomorrow just believe ju...</td>\n      <td>{'neg': 0.013, 'neu': 0.865, 'pos': 0.123, 'co...</td>\n    </tr>\n    <tr>\n      <th>2</th>\n      <td>1987-01-01</td>\n      <td>We Are Singapore</td>\n      <td>There was a time when people said That Singapo...</td>\n      <td>173</td>\n      <td>4.468208</td>\n      <td>1987, We Are Singapore</td>\n      <td>there wa a time when people said that singapo...</td>\n      <td>{'neg': 0.017, 'neu': 0.684, 'pos': 0.299, 'co...</td>\n    </tr>\n    <tr>\n      <th>3</th>\n      <td>1989-01-01</td>\n      <td>Five Stars Arising</td>\n      <td>There's a new moon arising, out of the stormy ...</td>\n      <td>135</td>\n      <td>3.992593</td>\n      <td>1989, Five Stars Arising</td>\n      <td>there a new moon arising out of the stormy se...</td>\n      <td>{'neg': 0.0, 'neu': 0.655, 'pos': 0.345, 'comp...</td>\n    </tr>\n    <tr>\n      <th>4</th>\n      <td>1991-01-01</td>\n      <td>It’s the Little Things</td>\n      <td>Over the years, I've grown to be a part of you...</td>\n      <td>145</td>\n      <td>3.682759</td>\n      <td>1991, It’s the Little Things</td>\n      <td>over the year ive grown to be a part of you y...</td>\n      <td>{'neg': 0.056, 'neu': 0.632, 'pos': 0.312, 'co...</td>\n    </tr>\n    <tr>\n      <th>5</th>\n      <td>1995-01-01</td>\n      <td>My People My Home</td>\n      <td>Who are you, my country? More than celebration...</td>\n      <td>155</td>\n      <td>3.980645</td>\n      <td>1995, My People My Home</td>\n      <td>who are you my country more than celebration ...</td>\n      <td>{'neg': 0.0, 'neu': 0.817, 'pos': 0.183, 'comp...</td>\n    </tr>\n    <tr>\n      <th>6</th>\n      <td>1996-01-01</td>\n      <td>Count On Me Singapore</td>\n      <td>We have a vision for tomorrow, just believe, j...</td>\n      <td>173</td>\n      <td>3.809249</td>\n      <td>1996, Count On Me Singapore</td>\n      <td>we have a vision for tomorrow just believe ju...</td>\n      <td>{'neg': 0.013, 'neu': 0.865, 'pos': 0.123, 'co...</td>\n    </tr>\n    <tr>\n      <th>7</th>\n      <td>1997-01-01</td>\n      <td>Singapore Town</td>\n      <td>You could take a little trip around Singapore ...</td>\n      <td>99</td>\n      <td>4.444444</td>\n      <td>1997, Singapore Town</td>\n      <td>you could take a little trip around singapore...</td>\n      <td>{'neg': 0.021, 'neu': 0.914, 'pos': 0.065, 'co...</td>\n    </tr>\n    <tr>\n      <th>8</th>\n      <td>1998-01-01</td>\n      <td>Home</td>\n      <td>Whenever I am feeling low I look around me and...</td>\n      <td>96</td>\n      <td>3.822917</td>\n      <td>1998, Home</td>\n      <td>whenever i am feeling low i look around me an...</td>\n      <td>{'neg': 0.024, 'neu': 0.851, 'pos': 0.125, 'co...</td>\n    </tr>\n    <tr>\n      <th>9</th>\n      <td>1999-01-01</td>\n      <td>Together</td>\n      <td>Let us be together aspire to achieve No matter...</td>\n      <td>131</td>\n      <td>4.458015</td>\n      <td>1999, Together</td>\n      <td>let u be together aspire to achieve no matter...</td>\n      <td>{'neg': 0.046, 'neu': 0.702, 'pos': 0.252, 'co...</td>\n    </tr>\n    <tr>\n      <th>10</th>\n      <td>2000-01-01</td>\n      <td>Shine On Me</td>\n      <td>Let us be together aspire to achieve No matter...</td>\n      <td>131</td>\n      <td>4.458015</td>\n      <td>2000, Shine On Me</td>\n      <td>let u be together aspire to achieve no matter...</td>\n      <td>{'neg': 0.046, 'neu': 0.702, 'pos': 0.252, 'co...</td>\n    </tr>\n    <tr>\n      <th>11</th>\n      <td>2001-01-01</td>\n      <td>Where I Belong</td>\n      <td>Morning comes around and I Can't wait to see m...</td>\n      <td>168</td>\n      <td>3.952381</td>\n      <td>2001, Where I Belong</td>\n      <td>morning come around and i cant wait to see my...</td>\n      <td>{'neg': 0.043, 'neu': 0.68, 'pos': 0.277, 'com...</td>\n    </tr>\n    <tr>\n      <th>12</th>\n      <td>2002-01-01</td>\n      <td>We Will Get There</td>\n      <td>Remember the days, we set out together with fa...</td>\n      <td>246</td>\n      <td>3.711382</td>\n      <td>2002, We Will Get There</td>\n      <td>remember the day we set out together with fai...</td>\n      <td>{'neg': 0.033, 'neu': 0.783, 'pos': 0.183, 'co...</td>\n    </tr>\n    <tr>\n      <th>13</th>\n      <td>2003-01-01</td>\n      <td>One United People</td>\n      <td>One Singapore One people strong &amp; free With on...</td>\n      <td>164</td>\n      <td>4.676829</td>\n      <td>2003, One United People</td>\n      <td>one singapore one people strong free with one...</td>\n      <td>{'neg': 0.0, 'neu': 0.627, 'pos': 0.373, 'comp...</td>\n    </tr>\n    <tr>\n      <th>14</th>\n      <td>2004-01-01</td>\n      <td>Home (Choral)</td>\n      <td>Whenever I am feeling low I look around me and...</td>\n      <td>96</td>\n      <td>3.822917</td>\n      <td>2004, Home (Choral)</td>\n      <td>whenever i am feeling low i look around me an...</td>\n      <td>{'neg': 0.024, 'neu': 0.851, 'pos': 0.125, 'co...</td>\n    </tr>\n    <tr>\n      <th>15</th>\n      <td>2005-01-01</td>\n      <td>Reach Out For The Skies</td>\n      <td>At a time when hope was low The journey seems ...</td>\n      <td>208</td>\n      <td>3.673077</td>\n      <td>2005, Reach Out For The Skies</td>\n      <td>at a time when hope wa low the journey seems ...</td>\n      <td>{'neg': 0.012, 'neu': 0.605, 'pos': 0.383, 'co...</td>\n    </tr>\n    <tr>\n      <th>16</th>\n      <td>2006-01-01</td>\n      <td>My Island Home</td>\n      <td>This is my home She’s everything to me Grace a...</td>\n      <td>111</td>\n      <td>3.396396</td>\n      <td>2006, My Island Home</td>\n      <td>this is my home she’s everything to me grace ...</td>\n      <td>{'neg': 0.0, 'neu': 0.843, 'pos': 0.157, 'comp...</td>\n    </tr>\n    <tr>\n      <th>17</th>\n      <td>2007-01-01</td>\n      <td>There's No Place I'd Rather Be</td>\n      <td>I’ve walked the streets of Cairo &amp; Bombay I’ve...</td>\n      <td>204</td>\n      <td>3.480392</td>\n      <td>2007, There's No Place I'd Rather Be</td>\n      <td>i’ve walked the street of cairo bombay i’ve s...</td>\n      <td>{'neg': 0.044, 'neu': 0.875, 'pos': 0.081, 'co...</td>\n    </tr>\n    <tr>\n      <th>18</th>\n      <td>2007-01-01</td>\n      <td>Will You</td>\n      <td>Will you make this island Amazing in all ways?...</td>\n      <td>211</td>\n      <td>4.165877</td>\n      <td>2007, Will You</td>\n      <td>will you make this island amazing in all way ...</td>\n      <td>{'neg': 0.0, 'neu': 0.821, 'pos': 0.179, 'comp...</td>\n    </tr>\n    <tr>\n      <th>19</th>\n      <td>2008-01-01</td>\n      <td>Shine For Singapore</td>\n      <td>Have you seen a star, One that guides you no m...</td>\n      <td>232</td>\n      <td>4.030172</td>\n      <td>2008, Shine For Singapore</td>\n      <td>have you seen a star one that guide you no ma...</td>\n      <td>{'neg': 0.009, 'neu': 0.801, 'pos': 0.19, 'com...</td>\n    </tr>\n  </tbody>\n</table>\n</div>"
     },
     "metadata": {},
     "execution_count": 104
    }
   ],
   "source": [
    "df_lyrics_sentiment[\"sentiment\"] = df_lyrics_sentiment[\"pre_process\"].apply(lambda x : sid.polarity_scores(x))\n",
    "df_lyrics_sentiment.head()"
   ]
  },
  {
   "cell_type": "code",
   "execution_count": 105,
   "metadata": {},
   "outputs": [
    {
     "output_type": "execute_result",
     "data": {
      "text/plain": [
       "         year                            name  \\\n",
       "0  1985-01-01          Stand Up For Singapore   \n",
       "1  1986-01-01           Count On Me Singapore   \n",
       "2  1987-01-01                We Are Singapore   \n",
       "3  1989-01-01              Five Stars Arising   \n",
       "4  1991-01-01          It’s the Little Things   \n",
       "5  1995-01-01               My People My Home   \n",
       "6  1996-01-01           Count On Me Singapore   \n",
       "7  1997-01-01                  Singapore Town   \n",
       "8  1998-01-01                            Home   \n",
       "9  1999-01-01                        Together   \n",
       "10 2000-01-01                     Shine On Me   \n",
       "11 2001-01-01                  Where I Belong   \n",
       "12 2002-01-01               We Will Get There   \n",
       "13 2003-01-01               One United People   \n",
       "14 2004-01-01                   Home (Choral)   \n",
       "15 2005-01-01         Reach Out For The Skies   \n",
       "16 2006-01-01                  My Island Home   \n",
       "17 2007-01-01  There's No Place I'd Rather Be   \n",
       "18 2007-01-01                        Will You   \n",
       "19 2008-01-01             Shine For Singapore   \n",
       "20 2009-01-01                 What Do You See   \n",
       "21 2010-01-01              Song For Singapore   \n",
       "22 2011-01-01                  In A Heartbeat   \n",
       "23 2012-01-01             Love At First Light   \n",
       "24 2013-01-01                   One Singapore   \n",
       "25 2015-01-01                   Our Singapore   \n",
       "26 2016-01-01           Tomorrow's Here Today   \n",
       "27 2017-01-01          Because It’s Singapore   \n",
       "28 2018-01-01        We Are Singapore (remix)   \n",
       "29 2019-01-01           Our Singapore (remix)   \n",
       "30 2020-01-01                 Everything I Am   \n",
       "\n",
       "                                               lyrics  num_words  \\\n",
       "0   Stand up for Singapore, do the best you can Re...        120   \n",
       "1   We have a vision for tomorrow, just believe, j...        173   \n",
       "2   There was a time when people said That Singapo...        173   \n",
       "3   There's a new moon arising, out of the stormy ...        135   \n",
       "4   Over the years, I've grown to be a part of you...        145   \n",
       "5   Who are you, my country? More than celebration...        155   \n",
       "6   We have a vision for tomorrow, just believe, j...        173   \n",
       "7   You could take a little trip around Singapore ...         99   \n",
       "8   Whenever I am feeling low I look around me and...         96   \n",
       "9   Let us be together aspire to achieve No matter...        131   \n",
       "10  Let us be together aspire to achieve No matter...        131   \n",
       "11  Morning comes around and I Can't wait to see m...        168   \n",
       "12  Remember the days, we set out together with fa...        246   \n",
       "13  One Singapore One people strong & free With on...        164   \n",
       "14  Whenever I am feeling low I look around me and...         96   \n",
       "15  At a time when hope was low The journey seems ...        208   \n",
       "16  This is my home She’s everything to me Grace a...        111   \n",
       "17  I’ve walked the streets of Cairo & Bombay I’ve...        204   \n",
       "18  Will you make this island Amazing in all ways?...        211   \n",
       "19  Have you seen a star, One that guides you no m...        232   \n",
       "20  There’s a jewel on the ocean, a gem upon the s...        280   \n",
       "21  It's a brand new day a brand new story I remem...        238   \n",
       "22  I have a dream of starting a life I have a hop...        195   \n",
       "23  First light Rolls across my peaceful isle Morn...        182   \n",
       "24  I will be here Right by your side, here I will...        273   \n",
       "25  It isn't easy building something out of nothin...        283   \n",
       "26  Raise your head to the skies This is how we al...        235   \n",
       "27  Step by step Together we'll build our dreams H...        240   \n",
       "28  How many times have you heard them say “The fu...        287   \n",
       "29  Remember the days, We set out together with fa...        397   \n",
       "30  I want you to understand Because of you, I am ...        237   \n",
       "\n",
       "    avg_word_len                         combined_name  \\\n",
       "0       4.158333          1985, Stand Up For Singapore   \n",
       "1       3.809249           1986, Count On Me Singapore   \n",
       "2       4.468208                1987, We Are Singapore   \n",
       "3       3.992593              1989, Five Stars Arising   \n",
       "4       3.682759          1991, It’s the Little Things   \n",
       "5       3.980645               1995, My People My Home   \n",
       "6       3.809249           1996, Count On Me Singapore   \n",
       "7       4.444444                  1997, Singapore Town   \n",
       "8       3.822917                            1998, Home   \n",
       "9       4.458015                        1999, Together   \n",
       "10      4.458015                     2000, Shine On Me   \n",
       "11      3.952381                  2001, Where I Belong   \n",
       "12      3.711382               2002, We Will Get There   \n",
       "13      4.676829               2003, One United People   \n",
       "14      3.822917                   2004, Home (Choral)   \n",
       "15      3.673077         2005, Reach Out For The Skies   \n",
       "16      3.396396                  2006, My Island Home   \n",
       "17      3.480392  2007, There's No Place I'd Rather Be   \n",
       "18      4.165877                        2007, Will You   \n",
       "19      4.030172             2008, Shine For Singapore   \n",
       "20      3.842857                 2009, What Do You See   \n",
       "21      4.000000              2010, Song For Singapore   \n",
       "22      3.810256                  2011, In A Heartbeat   \n",
       "23      4.010989             2012, Love At First Light   \n",
       "24      3.652015                   2013, One Singapore   \n",
       "25      3.678445                   2015, Our Singapore   \n",
       "26      3.897872           2016, Tomorrow's Here Today   \n",
       "27      4.283333          2017, Because It’s Singapore   \n",
       "28      4.257840        2018, We Are Singapore (remix)   \n",
       "29      3.675063           2019, Our Singapore (remix)   \n",
       "30      3.662447                 2020, Everything I Am   \n",
       "\n",
       "                                          pre_process  \\\n",
       "0    stand up for singapore do the best you can re...   \n",
       "1    we have a vision for tomorrow just believe ju...   \n",
       "2    there wa a time when people said that singapo...   \n",
       "3    there a new moon arising out of the stormy se...   \n",
       "4    over the year ive grown to be a part of you y...   \n",
       "5    who are you my country more than celebration ...   \n",
       "6    we have a vision for tomorrow just believe ju...   \n",
       "7    you could take a little trip around singapore...   \n",
       "8    whenever i am feeling low i look around me an...   \n",
       "9    let u be together aspire to achieve no matter...   \n",
       "10   let u be together aspire to achieve no matter...   \n",
       "11   morning come around and i cant wait to see my...   \n",
       "12   remember the day we set out together with fai...   \n",
       "13   one singapore one people strong free with one...   \n",
       "14   whenever i am feeling low i look around me an...   \n",
       "15   at a time when hope wa low the journey seems ...   \n",
       "16   this is my home she’s everything to me grace ...   \n",
       "17   i’ve walked the street of cairo bombay i’ve s...   \n",
       "18   will you make this island amazing in all way ...   \n",
       "19   have you seen a star one that guide you no ma...   \n",
       "20   there’s a jewel on the ocean a gem upon the s...   \n",
       "21   it a brand new day a brand new story i rememb...   \n",
       "22   i have a dream of starting a life i have a ho...   \n",
       "23   first light roll across my peaceful isle morn...   \n",
       "24   i will be here right by your side here i will...   \n",
       "25   it isnt easy building something out of nothin...   \n",
       "26   raise your head to the sky this is how we all...   \n",
       "27   step by step together well build our dream he...   \n",
       "28   how many time have you heard them say “the fu...   \n",
       "29   remember the day we set out together with fai...   \n",
       "30   i want you to understand because of you i am ...   \n",
       "\n",
       "                                            sentiment  compound  \n",
       "0   {'neg': 0.0, 'neu': 0.77, 'pos': 0.23, 'compou...    0.9764  \n",
       "1   {'neg': 0.013, 'neu': 0.865, 'pos': 0.123, 'co...    0.9524  \n",
       "2   {'neg': 0.017, 'neu': 0.684, 'pos': 0.299, 'co...    0.9963  \n",
       "3   {'neg': 0.0, 'neu': 0.655, 'pos': 0.345, 'comp...    0.9942  \n",
       "4   {'neg': 0.056, 'neu': 0.632, 'pos': 0.312, 'co...    0.9906  \n",
       "5   {'neg': 0.0, 'neu': 0.817, 'pos': 0.183, 'comp...    0.9818  \n",
       "6   {'neg': 0.013, 'neu': 0.865, 'pos': 0.123, 'co...    0.9524  \n",
       "7   {'neg': 0.021, 'neu': 0.914, 'pos': 0.065, 'co...    0.6249  \n",
       "8   {'neg': 0.024, 'neu': 0.851, 'pos': 0.125, 'co...    0.7870  \n",
       "9   {'neg': 0.046, 'neu': 0.702, 'pos': 0.252, 'co...    0.9753  \n",
       "10  {'neg': 0.046, 'neu': 0.702, 'pos': 0.252, 'co...    0.9753  \n",
       "11  {'neg': 0.043, 'neu': 0.68, 'pos': 0.277, 'com...    0.9900  \n",
       "12  {'neg': 0.033, 'neu': 0.783, 'pos': 0.183, 'co...    0.9882  \n",
       "13  {'neg': 0.0, 'neu': 0.627, 'pos': 0.373, 'comp...    0.9971  \n",
       "14  {'neg': 0.024, 'neu': 0.851, 'pos': 0.125, 'co...    0.7870  \n",
       "15  {'neg': 0.012, 'neu': 0.605, 'pos': 0.383, 'co...    0.9979  \n",
       "16  {'neg': 0.0, 'neu': 0.843, 'pos': 0.157, 'comp...    0.9291  \n",
       "17  {'neg': 0.044, 'neu': 0.875, 'pos': 0.081, 'co...    0.7964  \n",
       "18  {'neg': 0.0, 'neu': 0.821, 'pos': 0.179, 'comp...    0.9893  \n",
       "19  {'neg': 0.009, 'neu': 0.801, 'pos': 0.19, 'com...    0.9885  \n",
       "20  {'neg': 0.0, 'neu': 0.834, 'pos': 0.166, 'comp...    0.9907  \n",
       "21  {'neg': 0.0, 'neu': 0.816, 'pos': 0.184, 'comp...    0.9907  \n",
       "22  {'neg': 0.024, 'neu': 0.819, 'pos': 0.157, 'co...    0.9678  \n",
       "23  {'neg': 0.01, 'neu': 0.647, 'pos': 0.343, 'com...    0.9963  \n",
       "24  {'neg': 0.006, 'neu': 0.667, 'pos': 0.326, 'co...    0.9985  \n",
       "25  {'neg': 0.007, 'neu': 0.766, 'pos': 0.227, 'co...    0.9951  \n",
       "26  {'neg': 0.029, 'neu': 0.827, 'pos': 0.144, 'co...    0.9671  \n",
       "27  {'neg': 0.0, 'neu': 0.704, 'pos': 0.296, 'comp...    0.9969  \n",
       "28  {'neg': 0.04, 'neu': 0.806, 'pos': 0.154, 'com...    0.9915  \n",
       "29  {'neg': 0.023, 'neu': 0.814, 'pos': 0.163, 'co...    0.9908  \n",
       "30  {'neg': 0.013, 'neu': 0.845, 'pos': 0.142, 'co...    0.9797  "
      ],
      "text/html": "<div>\n<style scoped>\n    .dataframe tbody tr th:only-of-type {\n        vertical-align: middle;\n    }\n\n    .dataframe tbody tr th {\n        vertical-align: top;\n    }\n\n    .dataframe thead th {\n        text-align: right;\n    }\n</style>\n<table border=\"1\" class=\"dataframe\">\n  <thead>\n    <tr style=\"text-align: right;\">\n      <th></th>\n      <th>year</th>\n      <th>name</th>\n      <th>lyrics</th>\n      <th>num_words</th>\n      <th>avg_word_len</th>\n      <th>combined_name</th>\n      <th>pre_process</th>\n      <th>sentiment</th>\n      <th>compound</th>\n    </tr>\n  </thead>\n  <tbody>\n    <tr>\n      <th>0</th>\n      <td>1985-01-01</td>\n      <td>Stand Up For Singapore</td>\n      <td>Stand up for Singapore, do the best you can Re...</td>\n      <td>120</td>\n      <td>4.158333</td>\n      <td>1985, Stand Up For Singapore</td>\n      <td>stand up for singapore do the best you can re...</td>\n      <td>{'neg': 0.0, 'neu': 0.77, 'pos': 0.23, 'compou...</td>\n      <td>0.9764</td>\n    </tr>\n    <tr>\n      <th>1</th>\n      <td>1986-01-01</td>\n      <td>Count On Me Singapore</td>\n      <td>We have a vision for tomorrow, just believe, j...</td>\n      <td>173</td>\n      <td>3.809249</td>\n      <td>1986, Count On Me Singapore</td>\n      <td>we have a vision for tomorrow just believe ju...</td>\n      <td>{'neg': 0.013, 'neu': 0.865, 'pos': 0.123, 'co...</td>\n      <td>0.9524</td>\n    </tr>\n    <tr>\n      <th>2</th>\n      <td>1987-01-01</td>\n      <td>We Are Singapore</td>\n      <td>There was a time when people said That Singapo...</td>\n      <td>173</td>\n      <td>4.468208</td>\n      <td>1987, We Are Singapore</td>\n      <td>there wa a time when people said that singapo...</td>\n      <td>{'neg': 0.017, 'neu': 0.684, 'pos': 0.299, 'co...</td>\n      <td>0.9963</td>\n    </tr>\n    <tr>\n      <th>3</th>\n      <td>1989-01-01</td>\n      <td>Five Stars Arising</td>\n      <td>There's a new moon arising, out of the stormy ...</td>\n      <td>135</td>\n      <td>3.992593</td>\n      <td>1989, Five Stars Arising</td>\n      <td>there a new moon arising out of the stormy se...</td>\n      <td>{'neg': 0.0, 'neu': 0.655, 'pos': 0.345, 'comp...</td>\n      <td>0.9942</td>\n    </tr>\n    <tr>\n      <th>4</th>\n      <td>1991-01-01</td>\n      <td>It’s the Little Things</td>\n      <td>Over the years, I've grown to be a part of you...</td>\n      <td>145</td>\n      <td>3.682759</td>\n      <td>1991, It’s the Little Things</td>\n      <td>over the year ive grown to be a part of you y...</td>\n      <td>{'neg': 0.056, 'neu': 0.632, 'pos': 0.312, 'co...</td>\n      <td>0.9906</td>\n    </tr>\n    <tr>\n      <th>5</th>\n      <td>1995-01-01</td>\n      <td>My People My Home</td>\n      <td>Who are you, my country? More than celebration...</td>\n      <td>155</td>\n      <td>3.980645</td>\n      <td>1995, My People My Home</td>\n      <td>who are you my country more than celebration ...</td>\n      <td>{'neg': 0.0, 'neu': 0.817, 'pos': 0.183, 'comp...</td>\n      <td>0.9818</td>\n    </tr>\n    <tr>\n      <th>6</th>\n      <td>1996-01-01</td>\n      <td>Count On Me Singapore</td>\n      <td>We have a vision for tomorrow, just believe, j...</td>\n      <td>173</td>\n      <td>3.809249</td>\n      <td>1996, Count On Me Singapore</td>\n      <td>we have a vision for tomorrow just believe ju...</td>\n      <td>{'neg': 0.013, 'neu': 0.865, 'pos': 0.123, 'co...</td>\n      <td>0.9524</td>\n    </tr>\n    <tr>\n      <th>7</th>\n      <td>1997-01-01</td>\n      <td>Singapore Town</td>\n      <td>You could take a little trip around Singapore ...</td>\n      <td>99</td>\n      <td>4.444444</td>\n      <td>1997, Singapore Town</td>\n      <td>you could take a little trip around singapore...</td>\n      <td>{'neg': 0.021, 'neu': 0.914, 'pos': 0.065, 'co...</td>\n      <td>0.6249</td>\n    </tr>\n    <tr>\n      <th>8</th>\n      <td>1998-01-01</td>\n      <td>Home</td>\n      <td>Whenever I am feeling low I look around me and...</td>\n      <td>96</td>\n      <td>3.822917</td>\n      <td>1998, Home</td>\n      <td>whenever i am feeling low i look around me an...</td>\n      <td>{'neg': 0.024, 'neu': 0.851, 'pos': 0.125, 'co...</td>\n      <td>0.7870</td>\n    </tr>\n    <tr>\n      <th>9</th>\n      <td>1999-01-01</td>\n      <td>Together</td>\n      <td>Let us be together aspire to achieve No matter...</td>\n      <td>131</td>\n      <td>4.458015</td>\n      <td>1999, Together</td>\n      <td>let u be together aspire to achieve no matter...</td>\n      <td>{'neg': 0.046, 'neu': 0.702, 'pos': 0.252, 'co...</td>\n      <td>0.9753</td>\n    </tr>\n    <tr>\n      <th>10</th>\n      <td>2000-01-01</td>\n      <td>Shine On Me</td>\n      <td>Let us be together aspire to achieve No matter...</td>\n      <td>131</td>\n      <td>4.458015</td>\n      <td>2000, Shine On Me</td>\n      <td>let u be together aspire to achieve no matter...</td>\n      <td>{'neg': 0.046, 'neu': 0.702, 'pos': 0.252, 'co...</td>\n      <td>0.9753</td>\n    </tr>\n    <tr>\n      <th>11</th>\n      <td>2001-01-01</td>\n      <td>Where I Belong</td>\n      <td>Morning comes around and I Can't wait to see m...</td>\n      <td>168</td>\n      <td>3.952381</td>\n      <td>2001, Where I Belong</td>\n      <td>morning come around and i cant wait to see my...</td>\n      <td>{'neg': 0.043, 'neu': 0.68, 'pos': 0.277, 'com...</td>\n      <td>0.9900</td>\n    </tr>\n    <tr>\n      <th>12</th>\n      <td>2002-01-01</td>\n      <td>We Will Get There</td>\n      <td>Remember the days, we set out together with fa...</td>\n      <td>246</td>\n      <td>3.711382</td>\n      <td>2002, We Will Get There</td>\n      <td>remember the day we set out together with fai...</td>\n      <td>{'neg': 0.033, 'neu': 0.783, 'pos': 0.183, 'co...</td>\n      <td>0.9882</td>\n    </tr>\n    <tr>\n      <th>13</th>\n      <td>2003-01-01</td>\n      <td>One United People</td>\n      <td>One Singapore One people strong &amp; free With on...</td>\n      <td>164</td>\n      <td>4.676829</td>\n      <td>2003, One United People</td>\n      <td>one singapore one people strong free with one...</td>\n      <td>{'neg': 0.0, 'neu': 0.627, 'pos': 0.373, 'comp...</td>\n      <td>0.9971</td>\n    </tr>\n    <tr>\n      <th>14</th>\n      <td>2004-01-01</td>\n      <td>Home (Choral)</td>\n      <td>Whenever I am feeling low I look around me and...</td>\n      <td>96</td>\n      <td>3.822917</td>\n      <td>2004, Home (Choral)</td>\n      <td>whenever i am feeling low i look around me an...</td>\n      <td>{'neg': 0.024, 'neu': 0.851, 'pos': 0.125, 'co...</td>\n      <td>0.7870</td>\n    </tr>\n    <tr>\n      <th>15</th>\n      <td>2005-01-01</td>\n      <td>Reach Out For The Skies</td>\n      <td>At a time when hope was low The journey seems ...</td>\n      <td>208</td>\n      <td>3.673077</td>\n      <td>2005, Reach Out For The Skies</td>\n      <td>at a time when hope wa low the journey seems ...</td>\n      <td>{'neg': 0.012, 'neu': 0.605, 'pos': 0.383, 'co...</td>\n      <td>0.9979</td>\n    </tr>\n    <tr>\n      <th>16</th>\n      <td>2006-01-01</td>\n      <td>My Island Home</td>\n      <td>This is my home She’s everything to me Grace a...</td>\n      <td>111</td>\n      <td>3.396396</td>\n      <td>2006, My Island Home</td>\n      <td>this is my home she’s everything to me grace ...</td>\n      <td>{'neg': 0.0, 'neu': 0.843, 'pos': 0.157, 'comp...</td>\n      <td>0.9291</td>\n    </tr>\n    <tr>\n      <th>17</th>\n      <td>2007-01-01</td>\n      <td>There's No Place I'd Rather Be</td>\n      <td>I’ve walked the streets of Cairo &amp; Bombay I’ve...</td>\n      <td>204</td>\n      <td>3.480392</td>\n      <td>2007, There's No Place I'd Rather Be</td>\n      <td>i’ve walked the street of cairo bombay i’ve s...</td>\n      <td>{'neg': 0.044, 'neu': 0.875, 'pos': 0.081, 'co...</td>\n      <td>0.7964</td>\n    </tr>\n    <tr>\n      <th>18</th>\n      <td>2007-01-01</td>\n      <td>Will You</td>\n      <td>Will you make this island Amazing in all ways?...</td>\n      <td>211</td>\n      <td>4.165877</td>\n      <td>2007, Will You</td>\n      <td>will you make this island amazing in all way ...</td>\n      <td>{'neg': 0.0, 'neu': 0.821, 'pos': 0.179, 'comp...</td>\n      <td>0.9893</td>\n    </tr>\n    <tr>\n      <th>19</th>\n      <td>2008-01-01</td>\n      <td>Shine For Singapore</td>\n      <td>Have you seen a star, One that guides you no m...</td>\n      <td>232</td>\n      <td>4.030172</td>\n      <td>2008, Shine For Singapore</td>\n      <td>have you seen a star one that guide you no ma...</td>\n      <td>{'neg': 0.009, 'neu': 0.801, 'pos': 0.19, 'com...</td>\n      <td>0.9885</td>\n    </tr>\n    <tr>\n      <th>20</th>\n      <td>2009-01-01</td>\n      <td>What Do You See</td>\n      <td>There’s a jewel on the ocean, a gem upon the s...</td>\n      <td>280</td>\n      <td>3.842857</td>\n      <td>2009, What Do You See</td>\n      <td>there’s a jewel on the ocean a gem upon the s...</td>\n      <td>{'neg': 0.0, 'neu': 0.834, 'pos': 0.166, 'comp...</td>\n      <td>0.9907</td>\n    </tr>\n    <tr>\n      <th>21</th>\n      <td>2010-01-01</td>\n      <td>Song For Singapore</td>\n      <td>It's a brand new day a brand new story I remem...</td>\n      <td>238</td>\n      <td>4.000000</td>\n      <td>2010, Song For Singapore</td>\n      <td>it a brand new day a brand new story i rememb...</td>\n      <td>{'neg': 0.0, 'neu': 0.816, 'pos': 0.184, 'comp...</td>\n      <td>0.9907</td>\n    </tr>\n    <tr>\n      <th>22</th>\n      <td>2011-01-01</td>\n      <td>In A Heartbeat</td>\n      <td>I have a dream of starting a life I have a hop...</td>\n      <td>195</td>\n      <td>3.810256</td>\n      <td>2011, In A Heartbeat</td>\n      <td>i have a dream of starting a life i have a ho...</td>\n      <td>{'neg': 0.024, 'neu': 0.819, 'pos': 0.157, 'co...</td>\n      <td>0.9678</td>\n    </tr>\n    <tr>\n      <th>23</th>\n      <td>2012-01-01</td>\n      <td>Love At First Light</td>\n      <td>First light Rolls across my peaceful isle Morn...</td>\n      <td>182</td>\n      <td>4.010989</td>\n      <td>2012, Love At First Light</td>\n      <td>first light roll across my peaceful isle morn...</td>\n      <td>{'neg': 0.01, 'neu': 0.647, 'pos': 0.343, 'com...</td>\n      <td>0.9963</td>\n    </tr>\n    <tr>\n      <th>24</th>\n      <td>2013-01-01</td>\n      <td>One Singapore</td>\n      <td>I will be here Right by your side, here I will...</td>\n      <td>273</td>\n      <td>3.652015</td>\n      <td>2013, One Singapore</td>\n      <td>i will be here right by your side here i will...</td>\n      <td>{'neg': 0.006, 'neu': 0.667, 'pos': 0.326, 'co...</td>\n      <td>0.9985</td>\n    </tr>\n    <tr>\n      <th>25</th>\n      <td>2015-01-01</td>\n      <td>Our Singapore</td>\n      <td>It isn't easy building something out of nothin...</td>\n      <td>283</td>\n      <td>3.678445</td>\n      <td>2015, Our Singapore</td>\n      <td>it isnt easy building something out of nothin...</td>\n      <td>{'neg': 0.007, 'neu': 0.766, 'pos': 0.227, 'co...</td>\n      <td>0.9951</td>\n    </tr>\n    <tr>\n      <th>26</th>\n      <td>2016-01-01</td>\n      <td>Tomorrow's Here Today</td>\n      <td>Raise your head to the skies This is how we al...</td>\n      <td>235</td>\n      <td>3.897872</td>\n      <td>2016, Tomorrow's Here Today</td>\n      <td>raise your head to the sky this is how we all...</td>\n      <td>{'neg': 0.029, 'neu': 0.827, 'pos': 0.144, 'co...</td>\n      <td>0.9671</td>\n    </tr>\n    <tr>\n      <th>27</th>\n      <td>2017-01-01</td>\n      <td>Because It’s Singapore</td>\n      <td>Step by step Together we'll build our dreams H...</td>\n      <td>240</td>\n      <td>4.283333</td>\n      <td>2017, Because It’s Singapore</td>\n      <td>step by step together well build our dream he...</td>\n      <td>{'neg': 0.0, 'neu': 0.704, 'pos': 0.296, 'comp...</td>\n      <td>0.9969</td>\n    </tr>\n    <tr>\n      <th>28</th>\n      <td>2018-01-01</td>\n      <td>We Are Singapore (remix)</td>\n      <td>How many times have you heard them say “The fu...</td>\n      <td>287</td>\n      <td>4.257840</td>\n      <td>2018, We Are Singapore (remix)</td>\n      <td>how many time have you heard them say “the fu...</td>\n      <td>{'neg': 0.04, 'neu': 0.806, 'pos': 0.154, 'com...</td>\n      <td>0.9915</td>\n    </tr>\n    <tr>\n      <th>29</th>\n      <td>2019-01-01</td>\n      <td>Our Singapore (remix)</td>\n      <td>Remember the days, We set out together with fa...</td>\n      <td>397</td>\n      <td>3.675063</td>\n      <td>2019, Our Singapore (remix)</td>\n      <td>remember the day we set out together with fai...</td>\n      <td>{'neg': 0.023, 'neu': 0.814, 'pos': 0.163, 'co...</td>\n      <td>0.9908</td>\n    </tr>\n    <tr>\n      <th>30</th>\n      <td>2020-01-01</td>\n      <td>Everything I Am</td>\n      <td>I want you to understand Because of you, I am ...</td>\n      <td>237</td>\n      <td>3.662447</td>\n      <td>2020, Everything I Am</td>\n      <td>i want you to understand because of you i am ...</td>\n      <td>{'neg': 0.013, 'neu': 0.845, 'pos': 0.142, 'co...</td>\n      <td>0.9797</td>\n    </tr>\n  </tbody>\n</table>\n</div>"
     },
     "metadata": {},
     "execution_count": 105
    }
   ],
   "source": [
    "df_lyrics_sentiment[\"compound\"] = df_lyrics_sentiment[\"sentiment\"].apply(lambda x : x[\"compound\"])\n",
    "df_lyrics_sentiment"
   ]
  }
 ]
}